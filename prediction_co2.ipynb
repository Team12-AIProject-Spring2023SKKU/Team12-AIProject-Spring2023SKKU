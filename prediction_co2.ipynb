{
 "cells": [
  {
   "cell_type": "code",
   "execution_count": 6,
   "id": "7b8f0c68",
   "metadata": {
    "executionInfo": {
     "elapsed": 4579,
     "status": "ok",
     "timestamp": 1684603904782,
     "user": {
      "displayName": "정홍준",
      "userId": "08449064025647521772"
     },
     "user_tz": -540
    },
    "id": "39f21e12"
   },
   "outputs": [],
   "source": [
    "import pandas as pd\n",
    "import numpy as np\n",
    "from sklearn.preprocessing import MinMaxScaler\n",
    "from sklearn.preprocessing import StandardScaler\n",
    "from torch.utils.data import DataLoader, TensorDataset\n",
    "from sklearn.model_selection import train_test_split\n",
    "from matplotlib import pyplot as plt\n",
    "import torch\n",
    "import random\n",
    "from pytorchtools import EarlyStopping"
   ]
  },
  {
   "cell_type": "code",
   "execution_count": 7,
   "id": "4cc51d04",
   "metadata": {
    "executionInfo": {
     "elapsed": 1924,
     "status": "ok",
     "timestamp": 1684603947558,
     "user": {
      "displayName": "정홍준",
      "userId": "08449064025647521772"
     },
     "user_tz": -540
    },
    "id": "g46ICkDdNrA7"
   },
   "outputs": [],
   "source": [
    "df = pd.read_csv(\"~/python_project/data/AI_dataset/data_by_all_20230518.csv\")"
   ]
  },
  {
   "cell_type": "code",
   "execution_count": 8,
   "id": "bbc2aa08",
   "metadata": {
    "executionInfo": {
     "elapsed": 3,
     "status": "ok",
     "timestamp": 1684603950539,
     "user": {
      "displayName": "정홍준",
      "userId": "08449064025647521772"
     },
     "user_tz": -540
    },
    "id": "ad187baf"
   },
   "outputs": [],
   "source": [
    "#월별 co2 data 생성\n",
    "co2 = df[['ID', 'co2(ppm)']]"
   ]
  },
  {
   "cell_type": "code",
   "execution_count": 9,
   "id": "1a51c3d1",
   "metadata": {
    "colab": {
     "base_uri": "https://localhost:8080/",
     "height": 449
    },
    "executionInfo": {
     "elapsed": 3,
     "status": "ok",
     "timestamp": 1684603950539,
     "user": {
      "displayName": "정홍준",
      "userId": "08449064025647521772"
     },
     "user_tz": -540
    },
    "id": "390930e8",
    "outputId": "97db2a94-47a4-4316-f4e6-814b291ded9e"
   },
   "outputs": [
    {
     "data": {
      "image/png": "[encoded data removed]",
      "text/plain": [
       "<Figure size 432x288 with 1 Axes>"
      ]
     },
     "metadata": {},
     "output_type": "display_data"
    }
   ],
   "source": [
    "#x축 ID(1900-01 ~ 2022-12), y축이 co2인 그래프 생성\n",
    "co2.set_index(df['ID']).plot()\n",
    "plt.xlabel('date')\n",
    "plt.ylabel('co2(ppm)')\n",
    "plt.show()"
   ]
  },
  {
   "cell_type": "code",
   "execution_count": 10,
   "id": "3be24d49",
   "metadata": {
    "executionInfo": {
     "elapsed": 3,
     "status": "ok",
     "timestamp": 1684603953030,
     "user": {
      "displayName": "정홍준",
      "userId": "08449064025647521772"
     },
     "user_tz": -540
    },
    "id": "eabcf17f"
   },
   "outputs": [],
   "source": [
    "#ID를 연, 월로 분리하고 int로 형변환해 [연, 월] 형태의 리스트 생성\n",
    "date_strings = np.array([date.split('-') for date in co2['ID']])\n",
    "dates = []\n",
    "for date_string in date_strings:\n",
    "    date = [int(val) for val in date_string]\n",
    "    dates.append(date)"
   ]
  },
  {
   "cell_type": "code",
   "execution_count": 11,
   "id": "fb546a07",
   "metadata": {
    "executionInfo": {
     "elapsed": 4,
     "status": "ok",
     "timestamp": 1684603956697,
     "user": {
      "displayName": "정홍준",
      "userId": "08449064025647521772"
     },
     "user_tz": -540
    },
    "id": "3df47fc6"
   },
   "outputs": [],
   "source": [
    "#input: 연 월, output(target): co2\n",
    "X = np.array(dates)\n",
    "y = co2['co2(ppm)'].values"
   ]
  },
  {
   "cell_type": "code",
   "execution_count": 12,
   "id": "e14ee05d",
   "metadata": {
    "executionInfo": {
     "elapsed": 1,
     "status": "ok",
     "timestamp": 1684603972912,
     "user": {
      "displayName": "정홍준",
      "userId": "08449064025647521772"
     },
     "user_tz": -540
    },
    "id": "03bde1b5"
   },
   "outputs": [],
   "source": [
    "#input dimesion과 batch size, sequence 길이 설정\n",
    "seq_length = 12\n",
    "input_size = X.shape[1]\n",
    "batch_size = 4"
   ]
  },
  {
   "cell_type": "code",
   "execution_count": 13,
   "id": "80313680",
   "metadata": {
    "executionInfo": {
     "elapsed": 540,
     "status": "ok",
     "timestamp": 1684603976604,
     "user": {
      "displayName": "정홍준",
      "userId": "08449064025647521772"
     },
     "user_tz": -540
    },
    "id": "8eada521"
   },
   "outputs": [],
   "source": [
    "#원하는 sequence만큼 data를 이어줌 (num_data,sequence_length, input_size)형태)\n",
    "def data_to_seq(data, input_size, seq_length):\n",
    "    data_seq = np.array([])\n",
    "    for i in range(0, data.shape[0] - (seq_length - 1)):\n",
    "        data_seq = np.append(data_seq, data[i:i + seq_length])\n",
    "    return data_seq.reshape(-1, seq_length, input_size)"
   ]
  },
  {
   "cell_type": "code",
   "execution_count": 14,
   "id": "b5452609",
   "metadata": {
    "executionInfo": {
     "elapsed": 1127,
     "status": "ok",
     "timestamp": 1684604037386,
     "user": {
      "displayName": "정홍준",
      "userId": "08449064025647521772"
     },
     "user_tz": -540
    },
    "id": "014b50db"
   },
   "outputs": [],
   "source": [
    "#Minmax scaler를 통해 normalize\n",
    "#나올 수 있는 모든 값들이 random하게 선택되었다는 가정하에 전체 데이터셋에 대하여 scaling 진행\n",
    "scaler = MinMaxScaler()\n",
    "scaler.fit(X)\n",
    "X_scaled = scaler.transform(X)"
   ]
  },
  {
   "cell_type": "code",
   "execution_count": 15,
   "id": "7cee87ff",
   "metadata": {
    "executionInfo": {
     "elapsed": 466,
     "status": "ok",
     "timestamp": 1684604041229,
     "user": {
      "displayName": "정홍준",
      "userId": "08449064025647521772"
     },
     "user_tz": -540
    },
    "id": "6da756df"
   },
   "outputs": [],
   "source": [
    "#input data를 sequential하게 이어줌\n",
    "X_seq = data_to_seq(data = X_scaled, input_size = input_size,seq_length = seq_length)"
   ]
  },
  {
   "cell_type": "code",
   "execution_count": 16,
   "id": "3ca0b9ce",
   "metadata": {
    "executionInfo": {
     "elapsed": 2,
     "status": "ok",
     "timestamp": 1684604186783,
     "user": {
      "displayName": "정홍준",
      "userId": "08449064025647521772"
     },
     "user_tz": -540
    },
    "id": "9da881fe"
   },
   "outputs": [],
   "source": [
    "#train, validation, test set 분리\n",
    "X_train, X_test, y_train, y_test = train_test_split(X_seq[:-1], y[seq_length:], test_size = 0.4, random_state = 0)\n",
    "X_val, X_test, y_val, y_test = train_test_split(X_test, y_test, test_size = 0.5, random_state = 0)"
   ]
  },
  {
   "cell_type": "code",
   "execution_count": 17,
   "id": "eb32be1b",
   "metadata": {
    "executionInfo": {
     "elapsed": 513,
     "status": "ok",
     "timestamp": 1684604206748,
     "user": {
      "displayName": "정홍준",
      "userId": "08449064025647521772"
     },
     "user_tz": -540
    },
    "id": "d4b6e3a5"
   },
   "outputs": [],
   "source": [
    "X_train = torch.FloatTensor(X_train)\n",
    "X_val = torch.FloatTensor(X_val)\n",
    "X_test = torch.FloatTensor(X_test)\n",
    "y_train = torch.FloatTensor(y_train)\n",
    "y_val = torch.FloatTensor(y_val)\n",
    "y_test = torch.FloatTensor(y_test)"
   ]
  },
  {
   "cell_type": "code",
   "execution_count": 18,
   "id": "50dd6f44",
   "metadata": {
    "executionInfo": {
     "elapsed": 4,
     "status": "ok",
     "timestamp": 1684604207253,
     "user": {
      "displayName": "정홍준",
      "userId": "08449064025647521772"
     },
     "user_tz": -540
    },
    "id": "376c1b92"
   },
   "outputs": [],
   "source": [
    "train = TensorDataset(X_train, y_train)\n",
    "train_dataloader = DataLoader(train, batch_size = batch_size, shuffle=True)\n",
    "\n",
    "validation = TensorDataset(X_val, y_val)\n",
    "valid_dataloader = DataLoader(validation, batch_size = batch_size, shuffle=False)\n",
    "\n",
    "test = TensorDataset(X_test, y_test)\n",
    "test_dataloader = DataLoader(test, batch_size = batch_size, shuffle=False)"
   ]
  },
  {
   "cell_type": "code",
   "execution_count": 19,
   "id": "cc1c494d",
   "metadata": {
    "executionInfo": {
     "elapsed": 4,
     "status": "ok",
     "timestamp": 1684604207253,
     "user": {
      "displayName": "정홍준",
      "userId": "08449064025647521772"
     },
     "user_tz": -540
    },
    "id": "6e0442c8"
   },
   "outputs": [],
   "source": [
    "#LSTM\n",
    "class LSTM_model(torch.nn.Module):\n",
    "    def __init__(self, input_size, hidden_size, output_size, num_layers):\n",
    "        super(LSTM_model, self).__init__()\n",
    "        self.input_size = input_size\n",
    "        self.hidden_size = hidden_size\n",
    "        self.output_size = output_size\n",
    "        self.num_layers = num_layers\n",
    "        self.lstm = torch.nn.LSTM(\n",
    "            input_size=self.input_size,\n",
    "            hidden_size=self.hidden_size,\n",
    "            num_layers=self.num_layers,\n",
    "            batch_first=True\n",
    "        )\n",
    "\n",
    "        self.fc = torch.nn.Linear(self.hidden_size, self.output_size)\n",
    "\n",
    "    def forward(self, x):\n",
    "        x = x.to(device)\n",
    "        y, hidden = self.lstm(x)\n",
    "        y = y[:,-1,:]\n",
    "        y = self.fc(y)\n",
    "        return y.view(-1)"
   ]
  },
  {
   "cell_type": "code",
   "execution_count": 20,
   "id": "0434fb92",
   "metadata": {
    "executionInfo": {
     "elapsed": 4,
     "status": "ok",
     "timestamp": 1684604207253,
     "user": {
      "displayName": "정홍준",
      "userId": "08449064025647521772"
     },
     "user_tz": -540
    },
    "id": "01f356c8"
   },
   "outputs": [],
   "source": [
    "#RNN\n",
    "class RNN_model(torch.nn.Module):\n",
    "    def __init__(self,input_size, hidden_size, output_size, num_layers):\n",
    "        super(RNN_model, self).__init__()\n",
    "        self.input_size = input_size\n",
    "        self.hidden_size = hidden_size\n",
    "        self.output_size = output_size\n",
    "        self.num_layers = num_layers\n",
    "        self.rnn_layer = torch.nn.RNN(\n",
    "            input_size = self.input_size,\n",
    "            hidden_size = self.hidden_size, \n",
    "            num_layers = self.num_layers, \n",
    "            batch_first = True)\n",
    "        self.fc = torch.nn.Linear(hidden_size, output_size) \n",
    "    def forward(self,x):\n",
    "        x = x.to(device)\n",
    "        y, hidden = self.rnn_layer(x)\n",
    "        y = y[:,-1, :]\n",
    "        y = self.fc(y)\n",
    "        return y.view(-1)"
   ]
  },
  {
   "cell_type": "code",
   "execution_count": 21,
   "id": "2a43a729",
   "metadata": {
    "executionInfo": {
     "elapsed": 3,
     "status": "ok",
     "timestamp": 1684604207253,
     "user": {
      "displayName": "정홍준",
      "userId": "08449064025647521772"
     },
     "user_tz": -540
    },
    "id": "3bf6125e"
   },
   "outputs": [],
   "source": [
    "#GRU\n",
    "class GRU_model(torch.nn.Module):\n",
    "    def __init__(self, input_size, hidden_size, output_size, num_layers):\n",
    "        super(GRU_model, self).__init__()\n",
    "        self.input_size = input_size\n",
    "        self.hidden_size = hidden_size\n",
    "        self.output_size = output_size\n",
    "        self.num_layers = num_layers\n",
    "        self.gru = torch.nn.GRU(\n",
    "            input_size=self.input_size,\n",
    "            hidden_size=self.hidden_size,\n",
    "            num_layers=self.num_layers,\n",
    "            batch_first=True\n",
    "        )\n",
    "\n",
    "        self.fc = torch.nn.Linear(self.hidden_size, self.output_size)\n",
    "\n",
    "    def forward(self, x):\n",
    "        x = x.to(device)\n",
    "        y, hidden = self.gru(x)\n",
    "        y = y[:,-1,:]\n",
    "        y = self.fc(y)\n",
    "        return y.view(-1)\n"
   ]
  },
  {
   "cell_type": "code",
   "execution_count": 22,
   "id": "5d971476",
   "metadata": {
    "executionInfo": {
     "elapsed": 3,
     "status": "ok",
     "timestamp": 1684604207253,
     "user": {
      "displayName": "정홍준",
      "userId": "08449064025647521772"
     },
     "user_tz": -540
    },
    "id": "a8c314c6"
   },
   "outputs": [],
   "source": [
    "def validation(model, dataloader, loss_fn, device):\n",
    "    model.eval()\n",
    "    val_loss = 0\n",
    "    num_batch = len(dataloader)\n",
    "    with torch.no_grad():\n",
    "        for x, y_true  in dataloader:\n",
    "            x, y_true = x.to(device), y_true.to(device)\n",
    "            y_pred = model(x)\n",
    "            loss = loss_fn(y_true, y_pred)\n",
    "            val_loss += loss.item()\n",
    "    val_loss /= num_batch\n",
    "    return val_loss"
   ]
  },
  {
   "cell_type": "code",
   "execution_count": 23,
   "id": "3a5cd3ab",
   "metadata": {
    "executionInfo": {
     "elapsed": 3,
     "status": "ok",
     "timestamp": 1684604207253,
     "user": {
      "displayName": "정홍준",
      "userId": "08449064025647521772"
     },
     "user_tz": -540
    },
    "id": "760e9fcd"
   },
   "outputs": [],
   "source": [
    "def train(model, dataloader, eval_dataloader, loss_fn, optim, epochs, device, patience, verbose = False):\n",
    "    early_stopping = EarlyStopping(patience = patience, verbose = verbose)\n",
    "    num_batch = len(dataloader)\n",
    "    for epoch in range(1, epochs + 1):\n",
    "        model.train()\n",
    "        train_loss = 0\n",
    "        for x, y_true in dataloader:\n",
    "            x, y_true = x.to(device), y_true.to(device)\n",
    "            y_pred = model(x)\n",
    "            loss = loss_fn(y_true, y_pred)\n",
    "            train_loss += loss.item()\n",
    "            optim.zero_grad()\n",
    "            loss.backward()\n",
    "            optim.step()\n",
    "        train_loss /= num_batch\n",
    "        val_loss = validation(model, eval_dataloader, loss_fn, device)\n",
    "        \n",
    "        #patience만큼의 epoch동안 validation loss가 줄어들지 않을 시 early stopping\n",
    "        early_stopping(val_loss, model)\n",
    "        if early_stopping.early_stop:\n",
    "            print(f'Early stopping, Epoch: {epoch}, Train Loss: {train_loss:.8f}, Validation Loss: {val_loss:.8f}')\n",
    "            break\n",
    "        if epoch % 20 == 0:\n",
    "            print(f'Epoch: {epoch}, Train Loss: {train_loss:.8f}, Validation Loss: {val_loss:.8f}')\n",
    "    return train_loss"
   ]
  },
  {
   "cell_type": "code",
   "execution_count": 36,
   "id": "e1549452",
   "metadata": {
    "executionInfo": {
     "elapsed": 4,
     "status": "ok",
     "timestamp": 1684604207254,
     "user": {
      "displayName": "정홍준",
      "userId": "08449064025647521772"
     },
     "user_tz": -540
    },
    "id": "a8f7345d"
   },
   "outputs": [],
   "source": [
    "# learning late, hidden size, layer 수, output dimesion, epoch, device, patience, verbose 설정\n",
    "# patience: early stopping을 결정하는 validation loss가 연속해서 줄어들지 않는 epoch 수\n",
    "# verbose: True면 epoch마다 validation loss가 얼마나 줄었는지 출력됨\n",
    "lr = 0.001\n",
    "hidden_size = 10\n",
    "num_layers = 1\n",
    "output_size = 1\n",
    "epochs = 500\n",
    "device = torch.device('cuda' if torch.cuda.is_available() else 'cpu')\n",
    "patience = 10\n",
    "verbose = False"
   ]
  },
  {
   "cell_type": "code",
   "execution_count": 46,
   "id": "47b023ac",
   "metadata": {
    "executionInfo": {
     "elapsed": 8418,
     "status": "ok",
     "timestamp": 1684604215668,
     "user": {
      "displayName": "정홍준",
      "userId": "08449064025647521772"
     },
     "user_tz": -540
    },
    "id": "07f3b0b9"
   },
   "outputs": [],
   "source": [
    "#RNN 모델\n",
    "model_1 = RNN_model(input_size, hidden_size, output_size, num_layers).to(device)\n",
    "loss_func_1 = torch.nn.MSELoss().to(device)\n",
    "optim_1 = torch.optim.Adam(params=model_1.parameters(), lr = lr )\n"
   ]
  },
  {
   "cell_type": "code",
   "execution_count": 38,
   "id": "fe8f882b",
   "metadata": {
    "executionInfo": {
     "elapsed": 2,
     "status": "ok",
     "timestamp": 1684604215668,
     "user": {
      "displayName": "정홍준",
      "userId": "08449064025647521772"
     },
     "user_tz": -540
    },
    "id": "e7fb1320"
   },
   "outputs": [],
   "source": [
    "#LSTM 모델\n",
    "model_2 = LSTM_model(input_size, hidden_size, output_size, num_layers).to(device)\n",
    "loss_func_2 = torch.nn.MSELoss().to(device)\n",
    "optim_2 = torch.optim.Adam(params=model_2.parameters(), lr = lr )"
   ]
  },
  {
   "cell_type": "code",
   "execution_count": 39,
   "id": "7626af75",
   "metadata": {
    "executionInfo": {
     "elapsed": 1,
     "status": "ok",
     "timestamp": 1684604215668,
     "user": {
      "displayName": "정홍준",
      "userId": "08449064025647521772"
     },
     "user_tz": -540
    },
    "id": "795abd55"
   },
   "outputs": [],
   "source": [
    "#GRU 모델\n",
    "model_3 = GRU_model(input_size, hidden_size, output_size, num_layers).to(device)\n",
    "loss_func_3 = torch.nn.MSELoss().to(device)\n",
    "optim_3 = torch.optim.Adam(params=model_3.parameters(), lr = lr )"
   ]
  },
  {
   "cell_type": "code",
   "execution_count": 47,
   "id": "43f07e7f",
   "metadata": {
    "colab": {
     "base_uri": "https://localhost:8080/"
    },
    "executionInfo": {
     "elapsed": 162604,
     "status": "ok",
     "timestamp": 1684604378271,
     "user": {
      "displayName": "정홍준",
      "userId": "08449064025647521772"
     },
     "user_tz": -540
    },
    "id": "1429fc5a",
    "outputId": "da2431fb-bc97-422a-ac7e-e19d2906a7d9"
   },
   "outputs": [
    {
     "name": "stdout",
     "output_type": "stream",
     "text": [
      "Epoch: 20, Train Loss: 71922.09158381, Validation Loss: 72641.21801098\n",
      "Epoch: 40, Train Loss: 49957.78607955, Validation Loss: 50522.47051837\n",
      "Epoch: 60, Train Loss: 32332.74898349, Validation Loss: 32860.20290065\n",
      "Epoch: 80, Train Loss: 19177.30304066, Validation Loss: 19576.35511739\n",
      "Epoch: 100, Train Loss: 10170.43182262, Validation Loss: 10541.62835630\n",
      "Epoch: 120, Train Loss: 5201.84564875, Validation Loss: 5487.80252694\n",
      "Epoch: 140, Train Loss: 2013.77496206, Validation Loss: 2180.01125399\n",
      "Epoch: 160, Train Loss: 678.11415376, Validation Loss: 762.09635625\n",
      "Epoch: 180, Train Loss: 210.13723894, Validation Loss: 248.22941694\n",
      "Epoch: 200, Train Loss: 62.21241946, Validation Loss: 74.91954611\n",
      "Epoch: 220, Train Loss: 19.30223708, Validation Loss: 23.15314617\n",
      "EarlyStopping counter: 1 out of 10\n",
      "Epoch: 240, Train Loss: 8.71325294, Validation Loss: 10.21196268\n",
      "EarlyStopping counter: 1 out of 10\n",
      "EarlyStopping counter: 2 out of 10\n",
      "EarlyStopping counter: 1 out of 10\n",
      "EarlyStopping counter: 1 out of 10\n",
      "Epoch: 260, Train Loss: 6.32093665, Validation Loss: 6.92852287\n",
      "EarlyStopping counter: 1 out of 10\n",
      "EarlyStopping counter: 2 out of 10\n",
      "EarlyStopping counter: 3 out of 10\n",
      "EarlyStopping counter: 1 out of 10\n",
      "EarlyStopping counter: 2 out of 10\n",
      "EarlyStopping counter: 1 out of 10\n",
      "EarlyStopping counter: 2 out of 10\n",
      "EarlyStopping counter: 1 out of 10\n",
      "EarlyStopping counter: 1 out of 10\n",
      "EarlyStopping counter: 2 out of 10\n",
      "EarlyStopping counter: 1 out of 10\n",
      "Epoch: 280, Train Loss: 5.61590938, Validation Loss: 6.34272425\n",
      "EarlyStopping counter: 2 out of 10\n",
      "EarlyStopping counter: 1 out of 10\n",
      "EarlyStopping counter: 2 out of 10\n",
      "EarlyStopping counter: 1 out of 10\n",
      "EarlyStopping counter: 2 out of 10\n",
      "EarlyStopping counter: 1 out of 10\n",
      "EarlyStopping counter: 2 out of 10\n",
      "EarlyStopping counter: 3 out of 10\n",
      "EarlyStopping counter: 4 out of 10\n",
      "EarlyStopping counter: 5 out of 10\n",
      "EarlyStopping counter: 6 out of 10\n",
      "EarlyStopping counter: 7 out of 10\n",
      "EarlyStopping counter: 1 out of 10\n",
      "Epoch: 300, Train Loss: 5.25164162, Validation Loss: 5.59035953\n",
      "EarlyStopping counter: 2 out of 10\n",
      "EarlyStopping counter: 3 out of 10\n",
      "EarlyStopping counter: 1 out of 10\n",
      "EarlyStopping counter: 2 out of 10\n",
      "EarlyStopping counter: 3 out of 10\n",
      "EarlyStopping counter: 1 out of 10\n",
      "EarlyStopping counter: 1 out of 10\n",
      "EarlyStopping counter: 2 out of 10\n",
      "EarlyStopping counter: 3 out of 10\n",
      "EarlyStopping counter: 4 out of 10\n",
      "EarlyStopping counter: 5 out of 10\n",
      "EarlyStopping counter: 6 out of 10\n",
      "EarlyStopping counter: 1 out of 10\n",
      "EarlyStopping counter: 2 out of 10\n",
      "EarlyStopping counter: 3 out of 10\n",
      "Epoch: 320, Train Loss: 4.88409490, Validation Loss: 4.93877525\n",
      "EarlyStopping counter: 1 out of 10\n",
      "EarlyStopping counter: 2 out of 10\n",
      "EarlyStopping counter: 3 out of 10\n",
      "EarlyStopping counter: 4 out of 10\n",
      "EarlyStopping counter: 5 out of 10\n",
      "EarlyStopping counter: 6 out of 10\n",
      "EarlyStopping counter: 1 out of 10\n",
      "EarlyStopping counter: 1 out of 10\n",
      "EarlyStopping counter: 2 out of 10\n",
      "EarlyStopping counter: 1 out of 10\n",
      "EarlyStopping counter: 2 out of 10\n",
      "EarlyStopping counter: 3 out of 10\n",
      "EarlyStopping counter: 4 out of 10\n",
      "EarlyStopping counter: 5 out of 10\n",
      "Epoch: 340, Train Loss: 4.72218034, Validation Loss: 4.60112946\n",
      "EarlyStopping counter: 1 out of 10\n",
      "EarlyStopping counter: 2 out of 10\n",
      "EarlyStopping counter: 3 out of 10\n",
      "EarlyStopping counter: 4 out of 10\n",
      "EarlyStopping counter: 5 out of 10\n",
      "EarlyStopping counter: 6 out of 10\n",
      "EarlyStopping counter: 7 out of 10\n",
      "EarlyStopping counter: 8 out of 10\n",
      "EarlyStopping counter: 9 out of 10\n",
      "EarlyStopping counter: 1 out of 10\n",
      "EarlyStopping counter: 1 out of 10\n",
      "EarlyStopping counter: 2 out of 10\n",
      "EarlyStopping counter: 3 out of 10\n",
      "EarlyStopping counter: 4 out of 10\n",
      "EarlyStopping counter: 5 out of 10\n",
      "EarlyStopping counter: 6 out of 10\n",
      "EarlyStopping counter: 7 out of 10\n",
      "Epoch: 360, Train Loss: 4.45790958, Validation Loss: 4.81194773\n",
      "EarlyStopping counter: 8 out of 10\n",
      "EarlyStopping counter: 1 out of 10\n",
      "EarlyStopping counter: 2 out of 10\n",
      "EarlyStopping counter: 3 out of 10\n",
      "EarlyStopping counter: 4 out of 10\n",
      "EarlyStopping counter: 5 out of 10\n",
      "EarlyStopping counter: 6 out of 10\n",
      "EarlyStopping counter: 7 out of 10\n",
      "EarlyStopping counter: 8 out of 10\n",
      "EarlyStopping counter: 9 out of 10\n",
      "EarlyStopping counter: 10 out of 10\n",
      "Early stopping, Epoch: 372, Train Loss: 4.39873019, Validation Loss: 4.79917049\n"
     ]
    },
    {
     "data": {
      "text/plain": [
       "4.3987301904369485"
      ]
     },
     "execution_count": 47,
     "metadata": {},
     "output_type": "execute_result"
    }
   ],
   "source": [
    "#RNN 모델 training\n",
    "train(model = model_1, dataloader = train_dataloader, eval_dataloader = valid_dataloader, loss_fn = loss_func_1, \n",
    "      optim = optim_1, epochs = epochs, device = device, patience = patience, verbose = verbose)"
   ]
  },
  {
   "cell_type": "code",
   "execution_count": 41,
   "id": "1e480a79",
   "metadata": {
    "colab": {
     "base_uri": "https://localhost:8080/"
    },
    "executionInfo": {
     "elapsed": 163845,
     "status": "ok",
     "timestamp": 1684604542112,
     "user": {
      "displayName": "정홍준",
      "userId": "08449064025647521772"
     },
     "user_tz": -540
    },
    "id": "c6a8005a",
    "outputId": "1f163c41-f917-495e-8fdd-61b75d036c26"
   },
   "outputs": [
    {
     "name": "stdout",
     "output_type": "stream",
     "text": [
      "Epoch: 20, Train Loss: 71940.30340909, Validation Loss: 72620.15947002\n",
      "Epoch: 40, Train Loss: 49880.45180220, Validation Loss: 50497.53322952\n",
      "Epoch: 60, Train Loss: 32321.19414063, Validation Loss: 32843.14323796\n",
      "Epoch: 80, Train Loss: 19146.60676824, Validation Loss: 19561.73782926\n",
      "Epoch: 100, Train Loss: 10175.53871647, Validation Loss: 10534.57303028\n",
      "Epoch: 120, Train Loss: 4812.75547105, Validation Loss: 5066.65773025\n",
      "Epoch: 140, Train Loss: 1922.48712328, Validation Loss: 2087.65684802\n",
      "Epoch: 160, Train Loss: 649.77014774, Validation Loss: 729.53501250\n",
      "Epoch: 180, Train Loss: 181.21638102, Validation Loss: 215.19734644\n",
      "Epoch: 200, Train Loss: 44.59537673, Validation Loss: 54.52080309\n",
      "Epoch: 220, Train Loss: 11.77936308, Validation Loss: 15.53619424\n",
      "EarlyStopping counter: 1 out of 10\n",
      "EarlyStopping counter: 1 out of 10\n",
      "EarlyStopping counter: 1 out of 10\n",
      "EarlyStopping counter: 1 out of 10\n",
      "EarlyStopping counter: 1 out of 10\n",
      "Epoch: 240, Train Loss: 5.08811011, Validation Loss: 6.19486856\n",
      "EarlyStopping counter: 2 out of 10\n",
      "EarlyStopping counter: 1 out of 10\n",
      "EarlyStopping counter: 1 out of 10\n",
      "EarlyStopping counter: 1 out of 10\n",
      "EarlyStopping counter: 2 out of 10\n",
      "EarlyStopping counter: 1 out of 10\n",
      "EarlyStopping counter: 2 out of 10\n",
      "EarlyStopping counter: 3 out of 10\n",
      "EarlyStopping counter: 4 out of 10\n",
      "EarlyStopping counter: 1 out of 10\n",
      "EarlyStopping counter: 2 out of 10\n",
      "EarlyStopping counter: 3 out of 10\n",
      "EarlyStopping counter: 4 out of 10\n",
      "Epoch: 260, Train Loss: 3.52017222, Validation Loss: 3.47404103\n",
      "EarlyStopping counter: 1 out of 10\n",
      "EarlyStopping counter: 2 out of 10\n",
      "EarlyStopping counter: 1 out of 10\n",
      "EarlyStopping counter: 2 out of 10\n",
      "EarlyStopping counter: 3 out of 10\n",
      "EarlyStopping counter: 4 out of 10\n",
      "EarlyStopping counter: 1 out of 10\n",
      "EarlyStopping counter: 2 out of 10\n",
      "EarlyStopping counter: 3 out of 10\n",
      "EarlyStopping counter: 4 out of 10\n",
      "EarlyStopping counter: 1 out of 10\n",
      "EarlyStopping counter: 1 out of 10\n",
      "EarlyStopping counter: 1 out of 10\n",
      "EarlyStopping counter: 2 out of 10\n",
      "EarlyStopping counter: 3 out of 10\n",
      "Epoch: 280, Train Loss: 19.48068101, Validation Loss: 2.79559041\n",
      "EarlyStopping counter: 4 out of 10\n",
      "EarlyStopping counter: 1 out of 10\n",
      "EarlyStopping counter: 2 out of 10\n",
      "EarlyStopping counter: 1 out of 10\n",
      "EarlyStopping counter: 2 out of 10\n",
      "EarlyStopping counter: 3 out of 10\n",
      "EarlyStopping counter: 4 out of 10\n",
      "EarlyStopping counter: 1 out of 10\n",
      "EarlyStopping counter: 2 out of 10\n",
      "EarlyStopping counter: 3 out of 10\n",
      "EarlyStopping counter: 4 out of 10\n",
      "EarlyStopping counter: 5 out of 10\n",
      "EarlyStopping counter: 6 out of 10\n",
      "EarlyStopping counter: 7 out of 10\n",
      "EarlyStopping counter: 8 out of 10\n",
      "EarlyStopping counter: 9 out of 10\n",
      "EarlyStopping counter: 10 out of 10\n",
      "Early stopping, Epoch: 300, Train Loss: 2.84584863, Validation Loss: 2.68966819\n"
     ]
    },
    {
     "data": {
      "text/plain": [
       "2.84584862745621"
      ]
     },
     "execution_count": 41,
     "metadata": {},
     "output_type": "execute_result"
    }
   ],
   "source": [
    "#LSTM 모델 training\n",
    "train(model = model_2, dataloader = train_dataloader, eval_dataloader = valid_dataloader, loss_fn = loss_func_2, \n",
    "      optim = optim_2, epochs = epochs, device = device, patience = patience, verbose = verbose)"
   ]
  },
  {
   "cell_type": "code",
   "execution_count": 42,
   "id": "eae70e77",
   "metadata": {
    "colab": {
     "base_uri": "https://localhost:8080/"
    },
    "executionInfo": {
     "elapsed": 159986,
     "status": "ok",
     "timestamp": 1684604702094,
     "user": {
      "displayName": "정홍준",
      "userId": "08449064025647521772"
     },
     "user_tz": -540
    },
    "id": "e56977d4",
    "outputId": "103f9858-3223-4c8b-b2c9-66a570c860a3"
   },
   "outputs": [
    {
     "name": "stdout",
     "output_type": "stream",
     "text": [
      "Epoch: 20, Train Loss: 71749.91618430, Validation Loss: 72437.16160790\n",
      "Epoch: 40, Train Loss: 49745.66257102, Validation Loss: 50349.98912584\n",
      "Epoch: 60, Train Loss: 32202.39897017, Validation Loss: 32726.83058620\n",
      "Epoch: 80, Train Loss: 19013.45542325, Validation Loss: 19474.04753649\n",
      "Epoch: 100, Train Loss: 10144.46294361, Validation Loss: 10473.50816383\n",
      "Epoch: 120, Train Loss: 5108.86010492, Validation Loss: 5250.08183260\n",
      "Epoch: 140, Train Loss: 1940.79182660, Validation Loss: 2107.79621234\n",
      "Epoch: 160, Train Loss: 654.07160149, Validation Loss: 733.28414687\n",
      "Epoch: 180, Train Loss: 184.33799276, Validation Loss: 218.06385519\n",
      "Epoch: 200, Train Loss: 43.13488746, Validation Loss: 52.94120990\n",
      "Epoch: 220, Train Loss: 10.71134551, Validation Loss: 13.70922422\n",
      "EarlyStopping counter: 1 out of 10\n",
      "EarlyStopping counter: 1 out of 10\n",
      "EarlyStopping counter: 1 out of 10\n",
      "Epoch: 240, Train Loss: 4.51672200, Validation Loss: 6.20057360\n",
      "EarlyStopping counter: 1 out of 10\n",
      "EarlyStopping counter: 1 out of 10\n",
      "EarlyStopping counter: 1 out of 10\n",
      "EarlyStopping counter: 2 out of 10\n",
      "EarlyStopping counter: 1 out of 10\n",
      "EarlyStopping counter: 1 out of 10\n",
      "EarlyStopping counter: 2 out of 10\n",
      "EarlyStopping counter: 3 out of 10\n",
      "EarlyStopping counter: 1 out of 10\n",
      "EarlyStopping counter: 2 out of 10\n",
      "EarlyStopping counter: 3 out of 10\n",
      "Epoch: 260, Train Loss: 3.25518483, Validation Loss: 3.46232063\n",
      "EarlyStopping counter: 1 out of 10\n",
      "EarlyStopping counter: 1 out of 10\n",
      "EarlyStopping counter: 2 out of 10\n",
      "EarlyStopping counter: 3 out of 10\n",
      "EarlyStopping counter: 4 out of 10\n",
      "EarlyStopping counter: 5 out of 10\n",
      "EarlyStopping counter: 1 out of 10\n",
      "EarlyStopping counter: 1 out of 10\n",
      "EarlyStopping counter: 1 out of 10\n",
      "EarlyStopping counter: 1 out of 10\n",
      "EarlyStopping counter: 2 out of 10\n",
      "EarlyStopping counter: 3 out of 10\n",
      "Epoch: 280, Train Loss: 2.69312301, Validation Loss: 2.60893533\n",
      "EarlyStopping counter: 1 out of 10\n",
      "EarlyStopping counter: 2 out of 10\n",
      "EarlyStopping counter: 1 out of 10\n",
      "EarlyStopping counter: 2 out of 10\n",
      "EarlyStopping counter: 3 out of 10\n",
      "EarlyStopping counter: 4 out of 10\n",
      "EarlyStopping counter: 5 out of 10\n",
      "EarlyStopping counter: 6 out of 10\n",
      "EarlyStopping counter: 7 out of 10\n",
      "EarlyStopping counter: 1 out of 10\n",
      "EarlyStopping counter: 2 out of 10\n",
      "EarlyStopping counter: 3 out of 10\n",
      "EarlyStopping counter: 4 out of 10\n",
      "EarlyStopping counter: 5 out of 10\n",
      "EarlyStopping counter: 6 out of 10\n",
      "EarlyStopping counter: 7 out of 10\n",
      "EarlyStopping counter: 8 out of 10\n",
      "Epoch: 300, Train Loss: 2.52650660, Validation Loss: 2.27434030\n",
      "EarlyStopping counter: 1 out of 10\n",
      "EarlyStopping counter: 2 out of 10\n",
      "EarlyStopping counter: 3 out of 10\n",
      "EarlyStopping counter: 4 out of 10\n",
      "EarlyStopping counter: 5 out of 10\n",
      "EarlyStopping counter: 6 out of 10\n",
      "EarlyStopping counter: 7 out of 10\n",
      "EarlyStopping counter: 8 out of 10\n",
      "EarlyStopping counter: 9 out of 10\n",
      "EarlyStopping counter: 10 out of 10\n",
      "Early stopping, Epoch: 311, Train Loss: 2.41978100, Validation Loss: 2.71767285\n"
     ]
    },
    {
     "data": {
      "text/plain": [
       "2.4197810042056846"
      ]
     },
     "execution_count": 42,
     "metadata": {},
     "output_type": "execute_result"
    }
   ],
   "source": [
    "#GRU 모델 training\n",
    "train(model = model_3, dataloader = train_dataloader, eval_dataloader = valid_dataloader, loss_fn = loss_func_3, \n",
    "      optim = optim_3, epochs = epochs, device = device, patience = patience, verbose = verbose)"
   ]
  },
  {
   "cell_type": "code",
   "execution_count": 48,
   "id": "93009865",
   "metadata": {
    "colab": {
     "base_uri": "https://localhost:8080/"
    },
    "executionInfo": {
     "elapsed": 25,
     "status": "ok",
     "timestamp": 1684604702095,
     "user": {
      "displayName": "정홍준",
      "userId": "08449064025647521772"
     },
     "user_tz": -540
    },
    "id": "3e11e027",
    "outputId": "43a73a98-8487-4947-bbab-06b874ba6a4a"
   },
   "outputs": [
    {
     "name": "stdout",
     "output_type": "stream",
     "text": [
      "model_1(RNN) Test Loss: 3.77216406\n"
     ]
    }
   ],
   "source": [
    "#RNN 모델 test loss\n",
    "print(f'model_1(RNN) Test Loss: {validation(model_1, test_dataloader, loss_func_1, device):.8f}')"
   ]
  },
  {
   "cell_type": "code",
   "execution_count": 44,
   "id": "178b647d",
   "metadata": {
    "colab": {
     "base_uri": "https://localhost:8080/"
    },
    "executionInfo": {
     "elapsed": 15,
     "status": "ok",
     "timestamp": 1684604702095,
     "user": {
      "displayName": "정홍준",
      "userId": "08449064025647521772"
     },
     "user_tz": -540
    },
    "id": "4c6561c4",
    "outputId": "1762fb99-5e71-4a74-e4fb-31e5e351ded3"
   },
   "outputs": [
    {
     "name": "stdout",
     "output_type": "stream",
     "text": [
      "model_2(LSTM) Test Loss: 2.24510713\n"
     ]
    }
   ],
   "source": [
    "#LSTM 모델 test loss\n",
    "print(f'model_2(LSTM) Test Loss: {validation(model_2, test_dataloader, loss_func_2, device):.8f}')"
   ]
  },
  {
   "cell_type": "code",
   "execution_count": 45,
   "id": "881f40ef",
   "metadata": {
    "colab": {
     "base_uri": "https://localhost:8080/"
    },
    "executionInfo": {
     "elapsed": 9,
     "status": "ok",
     "timestamp": 1684604702095,
     "user": {
      "displayName": "정홍준",
      "userId": "08449064025647521772"
     },
     "user_tz": -540
    },
    "id": "b365a1c4",
    "outputId": "06b8e061-79be-457b-e064-8f2ac8268b9d"
   },
   "outputs": [
    {
     "name": "stdout",
     "output_type": "stream",
     "text": [
      "model_3(GRU) Test Loss: 2.05032639\n"
     ]
    }
   ],
   "source": [
    "#GRU 모델 test loss\n",
    "print(f'model_3(GRU) Test Loss: {validation(model_3, test_dataloader, loss_func_3, device):.8f}')"
   ]
  },
  {
   "cell_type": "code",
   "execution_count": 51,
   "id": "c99e2ba6",
   "metadata": {
    "colab": {
     "base_uri": "https://localhost:8080/",
     "height": 472
    },
    "executionInfo": {
     "elapsed": 7030,
     "status": "ok",
     "timestamp": 1684604709121,
     "user": {
      "displayName": "정홍준",
      "userId": "08449064025647521772"
     },
     "user_tz": -540
    },
    "id": "11184c77",
    "outputId": "8cf7f9e2-9dfb-4d4c-cd4d-a4bfd8b9fef9"
   },
   "outputs": [
    {
     "data": {
      "image/png": "[encoded data removed]",
      "text/plain": [
       "<Figure size 432x288 with 1 Axes>"
      ]
     },
     "metadata": {},
     "output_type": "display_data"
    }
   ],
   "source": [
    "#x축 date(1900-01 ~ 2022-12) y축 co2(ppm)인 true값 그래프와 RNN모델 예측값 그래프 생성\n",
    "plt.plot(co2.ID.values[seq_length:],co2['co2(ppm)'][seq_length:], label = 'True')\n",
    "plt.plot(co2.ID.values[seq_length:], model_1(torch.FloatTensor(X_seq)).cpu().detach().numpy()[:-1], label = 'Prediction')\n",
    "plt.xlabel('date')\n",
    "plt.ylabel('co2(ppm)')\n",
    "plt.title('Co2(ppm) preidction(RNN)')\n",
    "plt.legend()\n",
    "plt.show()"
   ]
  },
  {
   "cell_type": "code",
   "execution_count": 52,
   "id": "6f51c101",
   "metadata": {
    "colab": {
     "base_uri": "https://localhost:8080/",
     "height": 472
    },
    "executionInfo": {
     "elapsed": 8329,
     "status": "ok",
     "timestamp": 1684604717444,
     "user": {
      "displayName": "정홍준",
      "userId": "08449064025647521772"
     },
     "user_tz": -540
    },
    "id": "96a93d79",
    "outputId": "55734aef-7b1c-4fbf-b20a-095e74e0b34a"
   },
   "outputs": [
    {
     "data": {
      "image/png": "[encoded data removed]",
      "text/plain": [
       "<Figure size 432x288 with 1 Axes>"
      ]
     },
     "metadata": {},
     "output_type": "display_data"
    }
   ],
   "source": [
    "#x축 date(1900-01 ~ 2022-12) y축 co2(ppm)인 true값 그래프와 LSTM모델 예측값 그래프 생성\n",
    "plt.plot(co2.ID.values[seq_length:],co2['co2(ppm)'][seq_length:], label = 'True')\n",
    "plt.plot(co2.ID.values[seq_length:], model_2(torch.FloatTensor(X_seq)).cpu().detach().numpy()[:-1], label = 'Prediction')\n",
    "plt.xlabel('date')\n",
    "plt.ylabel('co2(ppm)')\n",
    "plt.title('Co2(ppm) preidction(LSTM)')\n",
    "plt.legend()\n",
    "plt.show()"
   ]
  },
  {
   "cell_type": "code",
   "execution_count": 53,
   "id": "b4ad61b2",
   "metadata": {
    "colab": {
     "base_uri": "https://localhost:8080/",
     "height": 472
    },
    "executionInfo": {
     "elapsed": 7109,
     "status": "ok",
     "timestamp": 1684604724549,
     "user": {
      "displayName": "정홍준",
      "userId": "08449064025647521772"
     },
     "user_tz": -540
    },
    "id": "fe5b560e",
    "outputId": "b4007ef8-2230-43ea-eb16-da1428354822"
   },
   "outputs": [
    {
     "data": {
      "image/png": "[encoded data removed]",
      "text/plain": [
       "<Figure size 432x288 with 1 Axes>"
      ]
     },
     "metadata": {},
     "output_type": "display_data"
    }
   ],
   "source": [
    "#x축 date(1900-01 ~ 2022-12) y축 co2(ppm)인 true값 그래프와 GRU모델 예측값 그래프 생성\n",
    "plt.plot(co2.ID.values[seq_length:],co2['co2(ppm)'][seq_length:], label = 'True')\n",
    "plt.plot(co2.ID.values[seq_length:], model_3(torch.FloatTensor(X_seq)).cpu().detach().numpy()[:-1], label = 'Prediction')\n",
    "plt.xlabel('date')\n",
    "plt.ylabel('co2(ppm)')\n",
    "plt.title('Co2(ppm) preidction(GRU)')\n",
    "plt.legend()\n",
    "plt.show()"
   ]
  },
  {
   "cell_type": "code",
   "execution_count": 54,
   "id": "3df978db",
   "metadata": {
    "executionInfo": {
     "elapsed": 7,
     "status": "ok",
     "timestamp": 1684604724549,
     "user": {
      "displayName": "정홍준",
      "userId": "08449064025647521772"
     },
     "user_tz": -540
    },
    "id": "01e33119"
   },
   "outputs": [],
   "source": [
    "#RNN, LSTM, GRU을 ensemble한 model\n",
    "class Ensemble_Model_1(torch.nn.Module):\n",
    "    def __init__(self, input_size, hidden_size, output_size, num_layers):\n",
    "        super(Ensemble_Model_1, self).__init__()\n",
    "        self.input_size = input_size\n",
    "        self.hidden_size = hidden_size\n",
    "        self.output_size = output_size\n",
    "        self.num_layers = num_layers\n",
    "        self.gru_model = GRU_model(input_size, hidden_size, output_size, num_layers)\n",
    "        self.rnn_model = RNN_model(input_size, hidden_size, output_size, num_layers)\n",
    "        self.lstm_model = LSTM_model(input_size, hidden_size, output_size, num_layers)\n",
    "\n",
    "    def forward(self, x):\n",
    "        x = x.to(device)\n",
    "        output_gru = self.gru_model(x)\n",
    "        output_rnn = self.rnn_model(x)\n",
    "        output_lstm = self.lstm_model(x)\n",
    "        output = torch.vstack((output_rnn, output_lstm))\n",
    "        output = torch.vstack((output, output_gru))\n",
    "        output = torch.mean(output, dim = 0)\n",
    "\n",
    "        return output"
   ]
  },
  {
   "cell_type": "code",
   "execution_count": 55,
   "id": "01f3e959",
   "metadata": {
    "executionInfo": {
     "elapsed": 5,
     "status": "ok",
     "timestamp": 1684604724549,
     "user": {
      "displayName": "정홍준",
      "userId": "08449064025647521772"
     },
     "user_tz": -540
    },
    "id": "64a74e93"
   },
   "outputs": [],
   "source": [
    "#LSTM, GRU을 ensemble한 model\n",
    "class Ensemble_Model_2(torch.nn.Module):\n",
    "    def __init__(self, input_size, hidden_size, output_size, num_layers):\n",
    "        super(Ensemble_Model_2, self).__init__()\n",
    "        self.input_size = input_size\n",
    "        self.hidden_size = hidden_size\n",
    "        self.output_size = output_size\n",
    "        self.num_layers = num_layers\n",
    "        self.gru_model = GRU_model(input_size, hidden_size, output_size, num_layers)\n",
    "        self.lstm_model = LSTM_model(input_size, hidden_size, output_size, num_layers)\n",
    "\n",
    "    def forward(self, x):\n",
    "        x = x.to(device)\n",
    "        output_gru = self.gru_model(x)\n",
    "        output_lstm = self.lstm_model(x)\n",
    "        output = torch.vstack((output_gru, output_lstm))\n",
    "        output = torch.mean(output, dim = 0)\n",
    "\n",
    "        return output"
   ]
  },
  {
   "cell_type": "code",
   "execution_count": 56,
   "id": "3435b1fd",
   "metadata": {
    "executionInfo": {
     "elapsed": 6,
     "status": "ok",
     "timestamp": 1684604724550,
     "user": {
      "displayName": "정홍준",
      "userId": "08449064025647521772"
     },
     "user_tz": -540
    },
    "id": "fc3fcf25"
   },
   "outputs": [],
   "source": [
    "#Ensemble(RNN, LSTM, GRU)\n",
    "model_4 = Ensemble_Model_1(input_size, hidden_size, output_size, num_layers).to(device)\n",
    "loss_func_4 = torch.nn.MSELoss().to(device)\n",
    "optim_4 = torch.optim.Adam(params=model_4.parameters(), lr = lr )"
   ]
  },
  {
   "cell_type": "code",
   "execution_count": 57,
   "id": "48031e42",
   "metadata": {
    "colab": {
     "base_uri": "https://localhost:8080/"
    },
    "executionInfo": {
     "elapsed": 165581,
     "status": "ok",
     "timestamp": 1684604890126,
     "user": {
      "displayName": "정홍준",
      "userId": "08449064025647521772"
     },
     "user_tz": -540
    },
    "id": "445d1768",
    "outputId": "1d6ce5ca-2a67-4085-8952-0b514bf14000"
   },
   "outputs": [
    {
     "name": "stdout",
     "output_type": "stream",
     "text": [
      "Epoch: 20, Train Loss: 71890.93327415, Validation Loss: 72570.07012774\n",
      "Epoch: 40, Train Loss: 49948.26606889, Validation Loss: 50463.07556482\n",
      "Epoch: 60, Train Loss: 32386.58933771, Validation Loss: 32819.32220624\n",
      "Epoch: 80, Train Loss: 19112.17027699, Validation Loss: 19544.90417975\n",
      "Epoch: 100, Train Loss: 10176.19637812, Validation Loss: 10525.44340619\n",
      "Epoch: 120, Train Loss: 4814.04123903, Validation Loss: 5061.36860131\n",
      "Epoch: 140, Train Loss: 1916.50231414, Validation Loss: 2079.03110286\n",
      "Epoch: 160, Train Loss: 640.56104014, Validation Loss: 722.34779494\n",
      "Epoch: 180, Train Loss: 177.47422192, Validation Loss: 213.19833342\n",
      "Epoch: 200, Train Loss: 40.30464922, Validation Loss: 50.88647575\n",
      "EarlyStopping counter: 1 out of 10\n",
      "EarlyStopping counter: 1 out of 10\n",
      "EarlyStopping counter: 2 out of 10\n",
      "EarlyStopping counter: 3 out of 10\n",
      "Epoch: 220, Train Loss: 13.15066684, Validation Loss: 11.52158006\n",
      "EarlyStopping counter: 1 out of 10\n",
      "EarlyStopping counter: 2 out of 10\n",
      "EarlyStopping counter: 1 out of 10\n",
      "EarlyStopping counter: 2 out of 10\n",
      "EarlyStopping counter: 3 out of 10\n",
      "EarlyStopping counter: 1 out of 10\n",
      "EarlyStopping counter: 2 out of 10\n",
      "EarlyStopping counter: 1 out of 10\n",
      "EarlyStopping counter: 1 out of 10\n",
      "Epoch: 240, Train Loss: 2.76814487, Validation Loss: 2.76012218\n",
      "EarlyStopping counter: 1 out of 10\n",
      "EarlyStopping counter: 1 out of 10\n",
      "EarlyStopping counter: 1 out of 10\n",
      "EarlyStopping counter: 2 out of 10\n",
      "EarlyStopping counter: 3 out of 10\n",
      "EarlyStopping counter: 4 out of 10\n",
      "EarlyStopping counter: 1 out of 10\n",
      "EarlyStopping counter: 2 out of 10\n",
      "EarlyStopping counter: 3 out of 10\n",
      "EarlyStopping counter: 4 out of 10\n",
      "EarlyStopping counter: 5 out of 10\n",
      "EarlyStopping counter: 6 out of 10\n",
      "EarlyStopping counter: 7 out of 10\n",
      "EarlyStopping counter: 8 out of 10\n",
      "EarlyStopping counter: 9 out of 10\n",
      "Epoch: 260, Train Loss: 3.22847786, Validation Loss: 5.16727032\n",
      "EarlyStopping counter: 10 out of 10\n",
      "Early stopping, Epoch: 261, Train Loss: 1.98314402, Validation Loss: 2.45251256\n"
     ]
    },
    {
     "data": {
      "text/plain": [
       "1.9831440230503425"
      ]
     },
     "execution_count": 57,
     "metadata": {},
     "output_type": "execute_result"
    }
   ],
   "source": [
    "#Ensemble(RNN, LSTM, GRU) 모델 training\n",
    "train(model = model_4, dataloader = train_dataloader, eval_dataloader = valid_dataloader, loss_fn = loss_func_4,\n",
    "      optim = optim_4, epochs = epochs, device = device, patience = patience, verbose = verbose)"
   ]
  },
  {
   "cell_type": "code",
   "execution_count": 58,
   "id": "ee68a827",
   "metadata": {
    "colab": {
     "base_uri": "https://localhost:8080/"
    },
    "executionInfo": {
     "elapsed": 736,
     "status": "ok",
     "timestamp": 1684604890851,
     "user": {
      "displayName": "정홍준",
      "userId": "08449064025647521772"
     },
     "user_tz": -540
    },
    "id": "7e3c6e02",
    "outputId": "f5f11925-5ef3-4872-a5e7-29f30a6f14d6"
   },
   "outputs": [
    {
     "name": "stdout",
     "output_type": "stream",
     "text": [
      "model_4(Ensemble(RNN, LSTM, GRU)) Test Loss: 2.20453723\n"
     ]
    }
   ],
   "source": [
    "#Ensemble(RNN, LSTM, GRU) 모델 test loss\n",
    "print(f'model_4(Ensemble(RNN, LSTM, GRU)) Test Loss: {validation(model_4, test_dataloader, loss_func_4, device):.8f}')"
   ]
  },
  {
   "cell_type": "code",
   "execution_count": 63,
   "id": "24cc0a98",
   "metadata": {
    "colab": {
     "base_uri": "https://localhost:8080/",
     "height": 472
    },
    "executionInfo": {
     "elapsed": 6573,
     "status": "ok",
     "timestamp": 1684604897423,
     "user": {
      "displayName": "정홍준",
      "userId": "08449064025647521772"
     },
     "user_tz": -540
    },
    "id": "c2a50349",
    "outputId": "5428792c-13af-4005-f68a-a147aca8e41a"
   },
   "outputs": [
    {
     "data": {
      "image/png": "[encoded data removed]",
      "text/plain": [
       "<Figure size 432x288 with 1 Axes>"
      ]
     },
     "metadata": {},
     "output_type": "display_data"
    }
   ],
   "source": [
    "#x축 date(1900-01 ~ 2022-12) y축 co2(ppm)인 true값 그래프와 Ensemble모델(RNN, LSTM, GRU) 예측값 그래프 생성\n",
    "plt.plot(co2.ID.values[seq_length:],co2['co2(ppm)'][seq_length:], label = 'True')\n",
    "plt.plot(co2.ID.values[seq_length:], model_4(torch.FloatTensor(X_seq)).cpu().detach().numpy()[:-1], label = 'Prediction')\n",
    "plt.xlabel('date')\n",
    "plt.ylabel('co2(ppm)')\n",
    "plt.title('Co2(ppm) preidction(Ensemble(RNN, LSTM, GRU))')\n",
    "plt.legend()\n",
    "plt.show()"
   ]
  },
  {
   "cell_type": "code",
   "execution_count": 59,
   "id": "9575515b",
   "metadata": {
    "executionInfo": {
     "elapsed": 3,
     "status": "ok",
     "timestamp": 1684604897423,
     "user": {
      "displayName": "정홍준",
      "userId": "08449064025647521772"
     },
     "user_tz": -540
    },
    "id": "7f06afb6"
   },
   "outputs": [],
   "source": [
    "#Ensemble(LSTM, GRU)\n",
    "model_5 = Ensemble_Model_2(input_size, hidden_size, output_size, num_layers).to(device)\n",
    "loss_func_5 = torch.nn.MSELoss().to(device)\n",
    "optim_5 = torch.optim.Adam(params=model_5.parameters(), lr = lr )"
   ]
  },
  {
   "cell_type": "code",
   "execution_count": 60,
   "id": "425a05d1",
   "metadata": {
    "colab": {
     "base_uri": "https://localhost:8080/"
    },
    "executionInfo": {
     "elapsed": 163568,
     "status": "ok",
     "timestamp": 1684605060989,
     "user": {
      "displayName": "정홍준",
      "userId": "08449064025647521772"
     },
     "user_tz": -540
    },
    "id": "d49e5bfa",
    "outputId": "95a02307-5d01-48fd-e2b4-e168aa151bc0"
   },
   "outputs": [
    {
     "name": "stdout",
     "output_type": "stream",
     "text": [
      "Epoch: 20, Train Loss: 71663.37400568, Validation Loss: 72372.86758340\n",
      "Epoch: 40, Train Loss: 49695.51604226, Validation Loss: 50300.20346812\n",
      "Epoch: 60, Train Loss: 32216.04011896, Validation Loss: 32690.99973606\n",
      "Epoch: 80, Train Loss: 19012.57238381, Validation Loss: 19456.64113967\n",
      "Epoch: 100, Train Loss: 10120.39308506, Validation Loss: 10465.82419941\n",
      "Epoch: 120, Train Loss: 4763.70099321, Validation Loss: 5015.91395663\n",
      "Epoch: 140, Train Loss: 1892.53638547, Validation Loss: 2057.21571754\n",
      "Epoch: 160, Train Loss: 631.62164822, Validation Loss: 711.34467589\n",
      "Epoch: 180, Train Loss: 175.55621731, Validation Loss: 209.51081543\n",
      "Epoch: 200, Train Loss: 40.70944347, Validation Loss: 50.98451070\n",
      "EarlyStopping counter: 1 out of 10\n",
      "EarlyStopping counter: 1 out of 10\n",
      "EarlyStopping counter: 1 out of 10\n",
      "Epoch: 220, Train Loss: 10.48775969, Validation Loss: 12.95268060\n",
      "EarlyStopping counter: 1 out of 10\n",
      "EarlyStopping counter: 2 out of 10\n",
      "EarlyStopping counter: 1 out of 10\n",
      "EarlyStopping counter: 1 out of 10\n",
      "EarlyStopping counter: 1 out of 10\n",
      "EarlyStopping counter: 1 out of 10\n",
      "EarlyStopping counter: 1 out of 10\n",
      "EarlyStopping counter: 2 out of 10\n",
      "EarlyStopping counter: 1 out of 10\n",
      "EarlyStopping counter: 2 out of 10\n",
      "Epoch: 240, Train Loss: 4.83146749, Validation Loss: 5.38851275\n",
      "EarlyStopping counter: 3 out of 10\n",
      "EarlyStopping counter: 1 out of 10\n",
      "EarlyStopping counter: 1 out of 10\n",
      "EarlyStopping counter: 2 out of 10\n",
      "EarlyStopping counter: 1 out of 10\n",
      "EarlyStopping counter: 1 out of 10\n",
      "EarlyStopping counter: 2 out of 10\n",
      "EarlyStopping counter: 1 out of 10\n",
      "EarlyStopping counter: 2 out of 10\n",
      "EarlyStopping counter: 3 out of 10\n",
      "EarlyStopping counter: 4 out of 10\n",
      "Epoch: 260, Train Loss: 2.90640517, Validation Loss: 2.59799623\n",
      "EarlyStopping counter: 1 out of 10\n",
      "EarlyStopping counter: 2 out of 10\n",
      "EarlyStopping counter: 3 out of 10\n",
      "EarlyStopping counter: 4 out of 10\n",
      "EarlyStopping counter: 5 out of 10\n",
      "EarlyStopping counter: 6 out of 10\n",
      "EarlyStopping counter: 7 out of 10\n",
      "EarlyStopping counter: 8 out of 10\n",
      "EarlyStopping counter: 9 out of 10\n",
      "EarlyStopping counter: 10 out of 10\n",
      "Early stopping, Epoch: 271, Train Loss: 2.92578799, Validation Loss: 3.40707565\n"
     ]
    },
    {
     "data": {
      "text/plain": [
       "2.925787986277349"
      ]
     },
     "execution_count": 60,
     "metadata": {},
     "output_type": "execute_result"
    }
   ],
   "source": [
    "#Ensemble(LSTM, GRU) 모델 training\n",
    "train(model = model_5, dataloader = train_dataloader, eval_dataloader = valid_dataloader, loss_fn = loss_func_5, \n",
    "      optim = optim_5, epochs = epochs, device = device, patience = patience, verbose = verbose)"
   ]
  },
  {
   "cell_type": "code",
   "execution_count": 61,
   "id": "45c2fe4e",
   "metadata": {
    "colab": {
     "base_uri": "https://localhost:8080/"
    },
    "executionInfo": {
     "elapsed": 13,
     "status": "ok",
     "timestamp": 1684605060989,
     "user": {
      "displayName": "정홍준",
      "userId": "08449064025647521772"
     },
     "user_tz": -540
    },
    "id": "c8cdb4c0",
    "outputId": "7631e874-e6ca-44f7-b575-7fa7a8ffd729"
   },
   "outputs": [
    {
     "name": "stdout",
     "output_type": "stream",
     "text": [
      "model_5(Ensemble(LSTM, GRU)) Test Loss: 3.39444661\n"
     ]
    }
   ],
   "source": [
    "#Ensemble(LSTM, GRU) 모델 test loss\n",
    "print(f'model_5(Ensemble(LSTM, GRU)) Test Loss: {validation(model_5, test_dataloader, loss_func_5, device):.8f}')"
   ]
  },
  {
   "cell_type": "code",
   "execution_count": 62,
   "id": "3e425a62",
   "metadata": {
    "colab": {
     "base_uri": "https://localhost:8080/",
     "height": 472
    },
    "executionInfo": {
     "elapsed": 6965,
     "status": "ok",
     "timestamp": 1684605067951,
     "user": {
      "displayName": "정홍준",
      "userId": "08449064025647521772"
     },
     "user_tz": -540
    },
    "id": "73cc68ad",
    "outputId": "e549eae9-cd7f-4de1-ac5a-a4dce1a1f5df"
   },
   "outputs": [
    {
     "data": {
      "image/png": "[encoded data removed]",
      "text/plain": [
       "<Figure size 432x288 with 1 Axes>"
      ]
     },
     "metadata": {},
     "output_type": "display_data"
    }
   ],
   "source": [
    "#x축 date(1900-01 ~ 2022-12) y축 co2(ppm)인 true값 그래프와 Ensemble모델(LSTM, GRU) 예측값 그래프 생성\n",
    "plt.plot(co2.ID.values[seq_length:],co2['co2(ppm)'][seq_length:], label = 'True')\n",
    "plt.plot(co2.ID.values[seq_length:], model_5(torch.FloatTensor(X_seq)).cpu().detach().numpy()[:-1], label = 'Prediction')\n",
    "plt.xlabel('date')\n",
    "plt.ylabel('co2(ppm)')\n",
    "plt.title('Co2(ppm) preidction(Esemble(LSTM, GRU))')\n",
    "plt.legend()\n",
    "plt.show()"
   ]
  },
  {
   "cell_type": "code",
   "execution_count": 64,
   "id": "b58d1436",
   "metadata": {},
   "outputs": [],
   "source": [
    "test_loss = [validation(model_1, test_dataloader, loss_func_1, device),\n",
    "            validation(model_2, test_dataloader, loss_func_2, device),\n",
    "            validation(model_3, test_dataloader, loss_func_3, device),\n",
    "            validation(model_4, test_dataloader, loss_func_4, device),\n",
    "            validation(model_5, test_dataloader, loss_func_5, device)]"
   ]
  },
  {
   "cell_type": "code",
   "execution_count": 65,
   "id": "736e745f",
   "metadata": {},
   "outputs": [],
   "source": [
    "model_name = [\"RNN\", \"LSTM\", \"GRU\", \"Ensemble(RNN, LSTM, GRU)\", \"Ensemble(LSTM, GRU)\"]"
   ]
  },
  {
   "cell_type": "code",
   "execution_count": 66,
   "id": "836a220c",
   "metadata": {},
   "outputs": [
    {
     "data": {
      "image/png": "[encoded data removed]",
      "text/plain": [
       "<Figure size 720x576 with 1 Axes>"
      ]
     },
     "metadata": {},
     "output_type": "display_data"
    }
   ],
   "source": [
    "#model별 test loss를 plot\n",
    "plt.figure(figsize=(10,8))\n",
    "plt.scatter(model_name, test_loss)\n",
    "plt.xlabel(\"model_name\")\n",
    "plt.ylabel(\"test_loss\")\n",
    "plt.show()"
   ]
  },
  {
   "cell_type": "code",
   "execution_count": 67,
   "id": "27d0b29f",
   "metadata": {},
   "outputs": [],
   "source": [
    "#모델예측을 위한 연,월 및 주 데이터 생성\n",
    "#지금 seq_length가 12이므로 1월부터~12월까지의 데이터를 이용해 다음해 1월의 co2 예측하므로 2022년 데이터까지 사용\n",
    "X_2022_to_2032 = np.array([])\n",
    "for year in range(2022, 2032 + 1):\n",
    "    for month in range(1, 13):\n",
    "        X_2022_to_2032 = np.append(X_2022_to_2032, np.array([year, month]))"
   ]
  },
  {
   "cell_type": "code",
   "execution_count": 68,
   "id": "cf5b1ce0",
   "metadata": {},
   "outputs": [],
   "source": [
    "X_2022_to_2032 = X_2022_to_2032.reshape(-1, 2).astype(int)"
   ]
  },
  {
   "cell_type": "code",
   "execution_count": 70,
   "id": "0d58ef41",
   "metadata": {},
   "outputs": [],
   "source": [
    "#데이터 스케일링\n",
    "X_2022_to_2032_scaled = scaler.transform(X_2022_to_2032)"
   ]
  },
  {
   "cell_type": "code",
   "execution_count": 71,
   "id": "f1ef829a",
   "metadata": {},
   "outputs": [],
   "source": [
    "#데이터를 sequence length만큼 이어줌\n",
    "X_2022_to_2032_scaled_seq = data_to_seq(X_2022_to_2032_scaled, X_2022_to_2032_scaled.shape[1], seq_length)[:-1]"
   ]
  },
  {
   "cell_type": "code",
   "execution_count": 73,
   "id": "b5fac690",
   "metadata": {},
   "outputs": [],
   "source": [
    "#유가 예측값\n",
    "#3번째 모델(GRU)의 test loss가 가장 작으므로 3번째 모델로 예측\n",
    "co2_2023_to_2032 = model_3(torch.FloatTensor(X_2022_to_2032_scaled_seq)).cpu().detach().numpy()"
   ]
  },
  {
   "cell_type": "code",
   "execution_count": 75,
   "id": "e0d740f0",
   "metadata": {},
   "outputs": [],
   "source": [
    "X_2022_to_2032_df = pd.DataFrame(X_2022_to_2032)"
   ]
  },
  {
   "cell_type": "code",
   "execution_count": 83,
   "id": "80832db5",
   "metadata": {},
   "outputs": [],
   "source": [
    "#input데이터와 output데이터 합침\n",
    "pred_2023_to_2032 = pd.DataFrame(np.hstack((X_2022_to_2032_df[X_2022_to_2032_df[0] != 2022].values,\n",
    "                                            co2_2023_to_2032.reshape(-1,1))), columns = ['Year', 'Month', 'co2(ppm)'])"
   ]
  },
  {
   "cell_type": "code",
   "execution_count": 84,
   "id": "c57db8b6",
   "metadata": {},
   "outputs": [],
   "source": [
    "pred_2023_to_2032['Year'] = pred_2023_to_2032['Year'].astype(int)\n",
    "pred_2023_to_2032['Month'] = pred_2023_to_2032['Month'].astype(int)"
   ]
  },
  {
   "cell_type": "code",
   "execution_count": 85,
   "id": "377241f3",
   "metadata": {},
   "outputs": [],
   "source": [
    "#연, 월 column으로 id column 생성\n",
    "pred_2023_to_2032['ID'] = pred_2023_to_2032['Year'].astype(str) + '-' + pred_2023_to_2032['Month'].apply(lambda x: str(x).zfill(2))"
   ]
  },
  {
   "cell_type": "code",
   "execution_count": 86,
   "id": "f2196fd8",
   "metadata": {},
   "outputs": [],
   "source": [
    "pred_2023_to_2032.drop(columns = ['Year', 'Month']).to_csv(\"/Users/jeonghongjun/python_project/AI_project/data/co2_2023_to_2032.csv\")"
   ]
  },
  {
   "cell_type": "code",
   "execution_count": 87,
   "id": "f95e8054",
   "metadata": {},
   "outputs": [],
   "source": [
    "torch.save(model_3, \"/Users/jeonghongjun/python_project/AI_project/model/co2_model(GRU).pth\")"
   ]
  }
 ],
 "metadata": {
  "accelerator": "GPU",
  "colab": {
   "gpuType": "T4",
   "provenance": []
  },
  "gpuClass": "standard",
  "kernelspec": {
   "display_name": "Python 3 (Spyder)",
   "language": "python3",
   "name": "python3"
  },
  "language_info": {
   "codemirror_mode": {
    "name": "ipython",
    "version": 3
   },
   "file_extension": ".py",
   "mimetype": "text/x-python",
   "name": "python",
   "nbconvert_exporter": "python",
   "pygments_lexer": "ipython3",
   "version": "3.11.2"
  }
 },
 "nbformat": 4,
 "nbformat_minor": 5
}
