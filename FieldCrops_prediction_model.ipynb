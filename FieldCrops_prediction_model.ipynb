{
 "cells": [
  {
   "cell_type": "code",
   "execution_count": null,
   "metadata": {},
   "outputs": [],
   "source": [
    "import torch\n",
    "import torch.nn as nn\n",
    "import torch.optim as optim"
   ]
  },
  {
   "cell_type": "code",
   "execution_count": null,
   "metadata": {},
   "outputs": [],
   "source": [
    "class FieldCropsPredictionModel(nn.Module):\n",
    "\t\tdef __init__(self, input_dim, hidden_dim, layer_num=2):\n",
    "\t\t\t\tsuper(FieldCropsPredictionModel, self).__init__()\n",
    "\t\t\t\tself.filter_layer = nn.Linear(input_dim, 1, bias=True)\n",
    "\t\t\t\tself.hidden_layers = nn.ModuleList()\n",
    "\t\t\t\tself.output_layers = nn.Linear(hidden_dim, 1)\n",
    "\n",
    "\t\t\t\tfor i in range(layer_num):\n",
    "\t\t\t\t\tself.hidden_layers.append(nn.Linear(12 if i == 0 else hidden_dim, hidden_dim))\n",
    "\t\t\t\t\n",
    "\t\tdef forward(self, input):\n",
    "\t\t\tinput = input.t()\n",
    "\t\t\t# 배치를 사용할 때\n",
    "\t\t\t# input = input.transpose(1, 2)\n",
    "\t\t\tout = self.filter_layer(input)\n",
    "\t\t\tfor i, layer in enumerate(self.hidden_layers):\n",
    "\t\t\t\tout = layer(out)\n",
    "\t\t\t\n",
    "\t\t\tout = self.output_layers(out)\n",
    "\n",
    "\t\t\treturn out"
   ]
  },
  {
   "cell_type": "code",
   "execution_count": null,
   "metadata": {},
   "outputs": [],
   "source": [
    "def train(model, dataloader, criterion, optim, scheduler, num_epochs):\n",
    "\t\tmodel.train()\n",
    "\t\ttrain_loss_list = []\n",
    "\t\tfor epoch in range(num_epochs):\n",
    "\t\t\t\trunning_loss = 0.0\n",
    "\t\t\t\t\n",
    "\t\t\t\tfor inputs, labels in dataloader:\n",
    "\t\t\t\t\t\toutputs = model(inputs)\n",
    "\t\t\t\t\t\tloss = criterion(outputs, labels)\n",
    "\n",
    "\t\t\t\t\t\toptim.zero_grad()\n",
    "\t\t\t\t\t\tloss.backward()\n",
    "\t\t\t\t\t\toptim.step()\n",
    "\n",
    "\t\t\t\t\t\trunning_loss += loss\n",
    "\t\t\t\t\n",
    "\t\t\t\tscheduler.step()\n",
    "\n",
    "\t\t\t\tepoch_loss = running_loss / len(dataloader.dataset)\n",
    "\t\t\t\ttrain_loss_list.append(epoch_loss)\n",
    "\t\t\n",
    "\t\treturn model, train_loss_list"
   ]
  },
  {
   "cell_type": "code",
   "execution_count": null,
   "metadata": {},
   "outputs": [],
   "source": [
    "def validation(model, dataloader, criterion, num_epochs):\n",
    "\t\tmodel.eval()\n",
    "\t\tval_loss_list = []\n",
    "\t\tfor epoch in range(num_epochs):\n",
    "\t\t\t\trunning_loss = 0.0\n",
    "\t\t\t\t\n",
    "\t\t\t\tfor inputs, labels in dataloader:\n",
    "\t\t\t\t\t\toutputs = model(inputs)\n",
    "\t\t\t\t\t\tloss = criterion(outputs, labels)\n",
    "\n",
    "\t\t\t\t\t\trunning_loss += loss\n",
    "\t\t\t\t\n",
    "\n",
    "\t\t\t\tepoch_loss = running_loss / len(dataloader.dataset)\n",
    "\t\t\t\tval_loss_list.append(epoch_loss)\n",
    "\t\t\n",
    "\t\treturn model, val_loss_list"
   ]
  },
  {
   "cell_type": "code",
   "execution_count": null,
   "metadata": {},
   "outputs": [],
   "source": [
    "model = FieldCropsPredictionModel(10, 15, 2)\n",
    "optimizer_ft = optim.Adam(model.parameters(), lr=0.001)\n",
    "exp_lr_scheduler = optim.lr_scheduler.StepLR(\n",
    "    optimizer_ft, step_size=7, gamma=0.1)\n",
    "criterion = nn.MSELoss()"
   ]
  },
  {
   "cell_type": "code",
   "execution_count": null,
   "metadata": {},
   "outputs": [],
   "source": [
    "model_train, train_loss = train(\n",
    "    model, train_loader, criterion, optimizer_ft, exp_lr_scheduler, 50)\n",
    "\n",
    "model_val, val_loss = validation(\n",
    "    model, val_loader, criterion, 50)"
   ]
  }
 ],
 "metadata": {
  "language_info": {
   "name": "python"
  },
  "orig_nbformat": 4
 },
 "nbformat": 4,
 "nbformat_minor": 2
}
