{
 "cells": [
  {
   "cell_type": "code",
   "execution_count": 19,
   "metadata": {},
   "outputs": [],
   "source": [
    "import torch\n",
    "import torch.nn as nn\n",
    "import torch.optim as optim\n",
    "\n",
    "import pandas as pd"
   ]
  },
  {
   "cell_type": "code",
   "execution_count": 20,
   "metadata": {},
   "outputs": [],
   "source": [
    "df_all = pd.read_csv(\"data_by_all_20230514.csv\")\n",
    "df_states = pd.read_csv(\"data_by_states_20230514.csv\")"
   ]
  },
  {
   "cell_type": "code",
   "execution_count": 39,
   "metadata": {},
   "outputs": [],
   "source": [
    "# ID를 기준으로 dataframe 머지.\n",
    "df = pd.merge(df_states, df_all, on='ID')"
   ]
  },
  {
   "cell_type": "code",
   "execution_count": 40,
   "metadata": {},
   "outputs": [],
   "source": [
    "# 작물이름에 따라 groupby\n",
    "grouped = df.groupby('crop')\n",
    "\n",
    "group_dict = {}  # 그룹을 저장할 딕셔너리\n",
    "\n",
    "for group_id, group_df in grouped:\n",
    "\t\tif group_id != 'Wheat':\n",
    "\t\t\t\t# 아래 column들 삭제 및 column 명 변경\n",
    "\t\t\t\tgroup_df = group_df.drop(\n",
    "\t\t\t\t\t\t['productions_winter', 'harvested_winter', 'cultivated_winter'], axis=1)\n",
    "\t\t\t\tgroup_df.rename(\n",
    "\t\t\t\t\t\tcolumns={'productions_spring': 'productions', 'harvested_spring': 'harvested', 'cultivated_spring': 'cultivated'})\n",
    "\t\t\t\t\n",
    "\t\t\t\t# 결측치 있는 행 삭제\n",
    "\t\t\t\tgroup_df = group_df.dropna()\n",
    "\t\t\t\tgroup_dict[group_id] = group_df\n",
    "\t\telse:\n",
    "\t\t\t\t# productions_spring 열과 productions_winter 열이 모두 빈 행 삭제\n",
    "\t\t\t\tgroup_df = group_df.dropna(\n",
    "\t\t\t\t\t\tsubset=['productions_spring', 'productions_winter'], how='all')\n",
    "\t\t\t\t\n",
    "\t\t\t\t# 겨울철 밀 데이터\n",
    "\t\t\t\twinter = group_df.copy()\n",
    "\t\t\t\twinter = winter.drop(\n",
    "\t\t\t\t\t\t['productions_spring', 'harvested_spring', 'cultivated_spring'], axis=1)\n",
    "\t\t\t\twinter.rename(\n",
    "\t\t\t\t\t\tcolumns={'productions_winter': 'productions', 'harvested_winter': 'harvested', 'harvested_winter': 'cultivated'})\n",
    "\t\t\t\t\n",
    "\t\t\t\t# 봄철 밀 데이터\n",
    "\t\t\t\tspring = group_df.copy()\n",
    "\t\t\t\tspring = spring.drop(\n",
    "\t\t\t\t\t\t['productions_winter', 'harvested_winter', 'cultivated_winter'], axis=1)\n",
    "\t\t\t\tspring.rename(\n",
    "\t\t\t\t\t\tcolumns={'productions_spring': 'productions', 'harvested_spring': 'harvested', 'cultivated_spring': 'cultivated'})\n",
    "\t\t\t\t\n",
    "\t\t\t\twinter.dropna()\n",
    "\t\t\t\tspring.dropna()\n",
    "\t\t\t\tgroup_dict['Winter_wheat'] = winter\n",
    "\t\t\t\tgroup_dict['Spring_wheat'] = spring\n",
    "\n",
    "\t\t\n"
   ]
  },
  {
   "cell_type": "code",
   "execution_count": 37,
   "metadata": {},
   "outputs": [
    {
     "name": "stdout",
     "output_type": "stream",
     "text": [
      "3456\n",
      "3348\n",
      "3756\n"
     ]
    }
   ],
   "source": [
    "print(len(group_dict['Corn']))\n",
    "print(len(group_dict['Rice']))\n",
    "print(len(group_dict['Wheat']))\n"
   ]
  },
  {
   "cell_type": "code",
   "execution_count": null,
   "metadata": {},
   "outputs": [],
   "source": [
    "class FieldCropsPredictionModel(nn.Module):\n",
    "\t\tdef __init__(self, input_dim, hidden_dim, layer_num=2):\n",
    "\t\t\t\tsuper(FieldCropsPredictionModel, self).__init__()\n",
    "\t\t\t\tself.filter_layer = nn.Linear(input_dim, 1, bias=True)\n",
    "\t\t\t\tself.hidden_layers = nn.ModuleList()\n",
    "\t\t\t\tself.output_layers = nn.Linear(hidden_dim, 1)\n",
    "\n",
    "\t\t\t\tfor i in range(layer_num):\n",
    "\t\t\t\t\tself.hidden_layers.append(nn.Linear(12 if i == 0 else hidden_dim, hidden_dim))\n",
    "\t\t\t\t\n",
    "\t\tdef forward(self, input):\n",
    "\t\t\tinput = input.t()\n",
    "\t\t\t# 배치를 사용할 때\n",
    "\t\t\t# input = input.transpose(1, 2)\n",
    "\t\t\tout = self.filter_layer(input)\n",
    "\t\t\tfor i, layer in enumerate(self.hidden_layers):\n",
    "\t\t\t\tout = layer(out)\n",
    "\t\t\t\n",
    "\t\t\tout = self.output_layers(out)\n",
    "\n",
    "\t\t\treturn out"
   ]
  },
  {
   "cell_type": "code",
   "execution_count": null,
   "metadata": {},
   "outputs": [],
   "source": [
    "def train(model, dataloader, criterion, optim, scheduler, num_epochs):\n",
    "\t\tmodel.train()\n",
    "\t\ttrain_loss_list = []\n",
    "\t\tfor epoch in range(num_epochs):\n",
    "\t\t\t\trunning_loss = 0.0\n",
    "\t\t\t\t\n",
    "\t\t\t\tfor inputs, labels in dataloader:\n",
    "\t\t\t\t\t\toutputs = model(inputs)\n",
    "\t\t\t\t\t\tloss = criterion(outputs, labels)\n",
    "\n",
    "\t\t\t\t\t\toptim.zero_grad()\n",
    "\t\t\t\t\t\tloss.backward()\n",
    "\t\t\t\t\t\toptim.step()\n",
    "\n",
    "\t\t\t\t\t\trunning_loss += loss\n",
    "\t\t\t\t\n",
    "\t\t\t\tscheduler.step()\n",
    "\n",
    "\t\t\t\tepoch_loss = running_loss / len(dataloader.dataset)\n",
    "\t\t\t\ttrain_loss_list.append(epoch_loss)\n",
    "\t\t\n",
    "\t\treturn model, train_loss_list"
   ]
  },
  {
   "cell_type": "code",
   "execution_count": null,
   "metadata": {},
   "outputs": [],
   "source": [
    "def validation(model, dataloader, criterion, num_epochs):\n",
    "\t\tmodel.eval()\n",
    "\t\tval_loss_list = []\n",
    "\t\tfor epoch in range(num_epochs):\n",
    "\t\t\t\trunning_loss = 0.0\n",
    "\t\t\t\t\n",
    "\t\t\t\tfor inputs, labels in dataloader:\n",
    "\t\t\t\t\t\toutputs = model(inputs)\n",
    "\t\t\t\t\t\tloss = criterion(outputs, labels)\n",
    "\n",
    "\t\t\t\t\t\trunning_loss += loss\n",
    "\t\t\t\t\n",
    "\n",
    "\t\t\t\tepoch_loss = running_loss / len(dataloader.dataset)\n",
    "\t\t\t\tval_loss_list.append(epoch_loss)\n",
    "\t\t\n",
    "\t\treturn model, val_loss_list"
   ]
  },
  {
   "cell_type": "code",
   "execution_count": null,
   "metadata": {},
   "outputs": [],
   "source": [
    "model = FieldCropsPredictionModel(10, 15, 2)\n",
    "optimizer_ft = optim.Adam(model.parameters(), lr=0.001)\n",
    "exp_lr_scheduler = optim.lr_scheduler.StepLR(\n",
    "    optimizer_ft, step_size=7, gamma=0.1)\n",
    "criterion = nn.MSELoss()"
   ]
  },
  {
   "cell_type": "code",
   "execution_count": null,
   "metadata": {},
   "outputs": [],
   "source": [
    "model_train, train_loss = train(\n",
    "    model, train_loader, criterion, optimizer_ft, exp_lr_scheduler, 50)\n",
    "\n",
    "model_val, val_loss = validation(\n",
    "    model, val_loader, criterion, 50)"
   ]
  }
 ],
 "metadata": {
  "kernelspec": {
   "display_name": "Python 3",
   "language": "python",
   "name": "python3"
  },
  "language_info": {
   "codemirror_mode": {
    "name": "ipython",
    "version": 3
   },
   "file_extension": ".py",
   "mimetype": "text/x-python",
   "name": "python",
   "nbconvert_exporter": "python",
   "pygments_lexer": "ipython3",
   "version": "3.10.0"
  },
  "orig_nbformat": 4
 },
 "nbformat": 4,
 "nbformat_minor": 2
}
