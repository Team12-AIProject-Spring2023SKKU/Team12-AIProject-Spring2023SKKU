{
 "cells": [
  {
   "cell_type": "code",
   "execution_count": 305,
   "metadata": {},
   "outputs": [],
   "source": [
    "import torch\n",
    "import torch.nn as nn\n",
    "import pickle\n",
    "import pandas as pd\n",
    "from collections import defaultdict\n",
    "from torch.utils.data import Dataset"
   ]
  },
  {
   "cell_type": "code",
   "execution_count": 306,
   "metadata": {},
   "outputs": [],
   "source": [
    "df_cons_pop_cpi = pd.read_csv(\n",
    "    './predicted_datas/2023-01~2032-12 미국소비, 인구수, cpi 예측.csv')\n",
    "df_co2 = pd.read_csv('./predicted_datas/co2_2023_to_2032.csv')\n",
    "df_oil = pd.read_csv('./predicted_datas/oil_price_2023_to_2032.csv')\n",
    "df_sunlight = pd.read_csv('./predicted_datas/sunlight_2023_to_2032.csv')\n"
   ]
  },
  {
   "cell_type": "code",
   "execution_count": 307,
   "metadata": {},
   "outputs": [],
   "source": [
    "df_co2.drop('Unnamed: 0', axis=1, inplace=True)\n",
    "df_oil.drop('Unnamed: 0', axis=1, inplace=True)\n",
    "df_sunlight.drop('Unnamed: 0', axis=1, inplace=True)"
   ]
  },
  {
   "cell_type": "code",
   "execution_count": 308,
   "metadata": {},
   "outputs": [
    {
     "data": {
      "text/html": [
       "<div>\n",
       "<style scoped>\n",
       "    .dataframe tbody tr th:only-of-type {\n",
       "        vertical-align: middle;\n",
       "    }\n",
       "\n",
       "    .dataframe tbody tr th {\n",
       "        vertical-align: top;\n",
       "    }\n",
       "\n",
       "    .dataframe thead th {\n",
       "        text-align: right;\n",
       "    }\n",
       "</style>\n",
       "<table border=\"1\" class=\"dataframe\">\n",
       "  <thead>\n",
       "    <tr style=\"text-align: right;\">\n",
       "      <th></th>\n",
       "      <th>sunlight_svm</th>\n",
       "      <th>ID</th>\n",
       "      <th>state</th>\n",
       "    </tr>\n",
       "  </thead>\n",
       "  <tbody>\n",
       "    <tr>\n",
       "      <th>0</th>\n",
       "      <td>162.101379</td>\n",
       "      <td>2023-01</td>\n",
       "      <td>AR</td>\n",
       "    </tr>\n",
       "    <tr>\n",
       "      <th>1</th>\n",
       "      <td>176.387573</td>\n",
       "      <td>2023-02</td>\n",
       "      <td>AR</td>\n",
       "    </tr>\n",
       "    <tr>\n",
       "      <th>2</th>\n",
       "      <td>216.071960</td>\n",
       "      <td>2023-03</td>\n",
       "      <td>AR</td>\n",
       "    </tr>\n",
       "    <tr>\n",
       "      <th>3</th>\n",
       "      <td>247.411484</td>\n",
       "      <td>2023-04</td>\n",
       "      <td>AR</td>\n",
       "    </tr>\n",
       "    <tr>\n",
       "      <th>4</th>\n",
       "      <td>292.668579</td>\n",
       "      <td>2023-05</td>\n",
       "      <td>AR</td>\n",
       "    </tr>\n",
       "    <tr>\n",
       "      <th>...</th>\n",
       "      <td>...</td>\n",
       "      <td>...</td>\n",
       "      <td>...</td>\n",
       "    </tr>\n",
       "    <tr>\n",
       "      <th>1075</th>\n",
       "      <td>314.879730</td>\n",
       "      <td>2032-08</td>\n",
       "      <td>SD</td>\n",
       "    </tr>\n",
       "    <tr>\n",
       "      <th>1076</th>\n",
       "      <td>254.103409</td>\n",
       "      <td>2032-09</td>\n",
       "      <td>SD</td>\n",
       "    </tr>\n",
       "    <tr>\n",
       "      <th>1077</th>\n",
       "      <td>214.150681</td>\n",
       "      <td>2032-10</td>\n",
       "      <td>SD</td>\n",
       "    </tr>\n",
       "    <tr>\n",
       "      <th>1078</th>\n",
       "      <td>154.362915</td>\n",
       "      <td>2032-11</td>\n",
       "      <td>SD</td>\n",
       "    </tr>\n",
       "    <tr>\n",
       "      <th>1079</th>\n",
       "      <td>141.282928</td>\n",
       "      <td>2032-12</td>\n",
       "      <td>SD</td>\n",
       "    </tr>\n",
       "  </tbody>\n",
       "</table>\n",
       "<p>1080 rows × 3 columns</p>\n",
       "</div>"
      ],
      "text/plain": [
       "      sunlight_svm       ID state\n",
       "0       162.101379  2023-01    AR\n",
       "1       176.387573  2023-02    AR\n",
       "2       216.071960  2023-03    AR\n",
       "3       247.411484  2023-04    AR\n",
       "4       292.668579  2023-05    AR\n",
       "...            ...      ...   ...\n",
       "1075    314.879730  2032-08    SD\n",
       "1076    254.103409  2032-09    SD\n",
       "1077    214.150681  2032-10    SD\n",
       "1078    154.362915  2032-11    SD\n",
       "1079    141.282928  2032-12    SD\n",
       "\n",
       "[1080 rows x 3 columns]"
      ]
     },
     "execution_count": 308,
     "metadata": {},
     "output_type": "execute_result"
    }
   ],
   "source": [
    "df_sunlight['state'] = ''\n",
    "df_sunlight['state'] = df_sunlight.loc[:, 'AR':'SD'].idxmax(axis=1)\n",
    "df_sunlight.drop(['AR', 'CA', 'IA', 'IL', 'MN', 'ND', 'NE', 'SD', 'LA'], axis=1, inplace=True)\n",
    "df_sunlight"
   ]
  },
  {
   "cell_type": "code",
   "execution_count": 309,
   "metadata": {},
   "outputs": [
    {
     "data": {
      "text/plain": [
       "sunlight_svm                 0\n",
       "ID                           0\n",
       "state                        0\n",
       "co2(ppm)                     0\n",
       "oil_price                    0\n",
       "food_consumption_us(kcal)    0\n",
       "population_us_asian          0\n",
       "cpi_us                       0\n",
       "dtype: int64"
      ]
     },
     "execution_count": 309,
     "metadata": {},
     "output_type": "execute_result"
    }
   ],
   "source": [
    "merge_df = df_sunlight.merge(df_co2, on='ID', how='outer')\n",
    "merge_df = merge_df.merge(df_oil, on='ID', how='outer')\n",
    "merge_df = merge_df.merge(df_cons_pop_cpi, on='ID', how='outer')\n",
    "merge_df.isnull().sum()"
   ]
  },
  {
   "cell_type": "code",
   "execution_count": 310,
   "metadata": {},
   "outputs": [],
   "source": [
    "# Column 순서 정렬\n",
    "merge_df = merge_df.reindex(sorted(merge_df.columns), axis=1)"
   ]
  },
  {
   "cell_type": "code",
   "execution_count": 311,
   "metadata": {},
   "outputs": [],
   "source": [
    "merge_df.drop(['state'], axis=1, inplace=True)"
   ]
  },
  {
   "cell_type": "code",
   "execution_count": 312,
   "metadata": {},
   "outputs": [],
   "source": [
    "merge_df = merge_df.groupby('ID').mean()\n",
    "merge_df = merge_df.reset_index()\n",
    "merge_df['year'] = merge_df['ID'].str[:4]"
   ]
  },
  {
   "cell_type": "code",
   "execution_count": 313,
   "metadata": {},
   "outputs": [
    {
     "data": {
      "text/html": [
       "<div>\n",
       "<style scoped>\n",
       "    .dataframe tbody tr th:only-of-type {\n",
       "        vertical-align: middle;\n",
       "    }\n",
       "\n",
       "    .dataframe tbody tr th {\n",
       "        vertical-align: top;\n",
       "    }\n",
       "\n",
       "    .dataframe thead th {\n",
       "        text-align: right;\n",
       "    }\n",
       "</style>\n",
       "<table border=\"1\" class=\"dataframe\">\n",
       "  <thead>\n",
       "    <tr style=\"text-align: right;\">\n",
       "      <th></th>\n",
       "      <th>ID</th>\n",
       "      <th>co2(ppm)</th>\n",
       "      <th>cpi_us</th>\n",
       "      <th>food_consumption_us(kcal)</th>\n",
       "      <th>oil_price</th>\n",
       "      <th>population_us_asian</th>\n",
       "      <th>sunlight_svm</th>\n",
       "      <th>year</th>\n",
       "    </tr>\n",
       "  </thead>\n",
       "  <tbody>\n",
       "    <tr>\n",
       "      <th>0</th>\n",
       "      <td>2023-01</td>\n",
       "      <td>419.262543</td>\n",
       "      <td>286.64</td>\n",
       "      <td>3949.57</td>\n",
       "      <td>378.690826</td>\n",
       "      <td>25602660.30</td>\n",
       "      <td>150.876266</td>\n",
       "      <td>2023</td>\n",
       "    </tr>\n",
       "    <tr>\n",
       "      <th>1</th>\n",
       "      <td>2023-02</td>\n",
       "      <td>419.835022</td>\n",
       "      <td>286.79</td>\n",
       "      <td>3950.73</td>\n",
       "      <td>379.733093</td>\n",
       "      <td>25681029.73</td>\n",
       "      <td>174.442975</td>\n",
       "      <td>2023</td>\n",
       "    </tr>\n",
       "    <tr>\n",
       "      <th>2</th>\n",
       "      <td>2023-03</td>\n",
       "      <td>419.745361</td>\n",
       "      <td>286.74</td>\n",
       "      <td>3952.01</td>\n",
       "      <td>380.357025</td>\n",
       "      <td>25766986.21</td>\n",
       "      <td>216.450753</td>\n",
       "      <td>2023</td>\n",
       "    </tr>\n",
       "    <tr>\n",
       "      <th>3</th>\n",
       "      <td>2023-04</td>\n",
       "      <td>419.674316</td>\n",
       "      <td>286.48</td>\n",
       "      <td>3953.42</td>\n",
       "      <td>380.645782</td>\n",
       "      <td>25861507.06</td>\n",
       "      <td>248.526572</td>\n",
       "      <td>2023</td>\n",
       "    </tr>\n",
       "    <tr>\n",
       "      <th>4</th>\n",
       "      <td>2023-05</td>\n",
       "      <td>419.631866</td>\n",
       "      <td>286.13</td>\n",
       "      <td>3954.95</td>\n",
       "      <td>380.865570</td>\n",
       "      <td>25964986.22</td>\n",
       "      <td>289.957391</td>\n",
       "      <td>2023</td>\n",
       "    </tr>\n",
       "    <tr>\n",
       "      <th>...</th>\n",
       "      <td>...</td>\n",
       "      <td>...</td>\n",
       "      <td>...</td>\n",
       "      <td>...</td>\n",
       "      <td>...</td>\n",
       "      <td>...</td>\n",
       "      <td>...</td>\n",
       "      <td>...</td>\n",
       "    </tr>\n",
       "    <tr>\n",
       "      <th>115</th>\n",
       "      <td>2032-08</td>\n",
       "      <td>421.392609</td>\n",
       "      <td>261.56</td>\n",
       "      <td>4124.81</td>\n",
       "      <td>386.815582</td>\n",
       "      <td>30497368.09</td>\n",
       "      <td>297.563002</td>\n",
       "      <td>2032</td>\n",
       "    </tr>\n",
       "    <tr>\n",
       "      <th>116</th>\n",
       "      <td>2032-09</td>\n",
       "      <td>421.139038</td>\n",
       "      <td>261.53</td>\n",
       "      <td>4125.88</td>\n",
       "      <td>387.098755</td>\n",
       "      <td>30502296.81</td>\n",
       "      <td>247.342204</td>\n",
       "      <td>2032</td>\n",
       "    </tr>\n",
       "    <tr>\n",
       "      <th>117</th>\n",
       "      <td>2032-10</td>\n",
       "      <td>420.824738</td>\n",
       "      <td>261.51</td>\n",
       "      <td>4126.94</td>\n",
       "      <td>388.572723</td>\n",
       "      <td>30507060.14</td>\n",
       "      <td>214.973870</td>\n",
       "      <td>2032</td>\n",
       "    </tr>\n",
       "    <tr>\n",
       "      <th>118</th>\n",
       "      <td>2032-11</td>\n",
       "      <td>420.428223</td>\n",
       "      <td>261.48</td>\n",
       "      <td>4127.98</td>\n",
       "      <td>391.897125</td>\n",
       "      <td>30511658.08</td>\n",
       "      <td>155.809214</td>\n",
       "      <td>2032</td>\n",
       "    </tr>\n",
       "    <tr>\n",
       "      <th>119</th>\n",
       "      <td>2032-12</td>\n",
       "      <td>419.918732</td>\n",
       "      <td>261.46</td>\n",
       "      <td>4129.02</td>\n",
       "      <td>393.474152</td>\n",
       "      <td>30516102.65</td>\n",
       "      <td>137.662558</td>\n",
       "      <td>2032</td>\n",
       "    </tr>\n",
       "  </tbody>\n",
       "</table>\n",
       "<p>120 rows × 8 columns</p>\n",
       "</div>"
      ],
      "text/plain": [
       "          ID    co2(ppm)  cpi_us  food_consumption_us(kcal)   oil_price  \\\n",
       "0    2023-01  419.262543  286.64                    3949.57  378.690826   \n",
       "1    2023-02  419.835022  286.79                    3950.73  379.733093   \n",
       "2    2023-03  419.745361  286.74                    3952.01  380.357025   \n",
       "3    2023-04  419.674316  286.48                    3953.42  380.645782   \n",
       "4    2023-05  419.631866  286.13                    3954.95  380.865570   \n",
       "..       ...         ...     ...                        ...         ...   \n",
       "115  2032-08  421.392609  261.56                    4124.81  386.815582   \n",
       "116  2032-09  421.139038  261.53                    4125.88  387.098755   \n",
       "117  2032-10  420.824738  261.51                    4126.94  388.572723   \n",
       "118  2032-11  420.428223  261.48                    4127.98  391.897125   \n",
       "119  2032-12  419.918732  261.46                    4129.02  393.474152   \n",
       "\n",
       "     population_us_asian  sunlight_svm  year  \n",
       "0            25602660.30    150.876266  2023  \n",
       "1            25681029.73    174.442975  2023  \n",
       "2            25766986.21    216.450753  2023  \n",
       "3            25861507.06    248.526572  2023  \n",
       "4            25964986.22    289.957391  2023  \n",
       "..                   ...           ...   ...  \n",
       "115          30497368.09    297.563002  2032  \n",
       "116          30502296.81    247.342204  2032  \n",
       "117          30507060.14    214.973870  2032  \n",
       "118          30511658.08    155.809214  2032  \n",
       "119          30516102.65    137.662558  2032  \n",
       "\n",
       "[120 rows x 8 columns]"
      ]
     },
     "execution_count": 313,
     "metadata": {},
     "output_type": "execute_result"
    }
   ],
   "source": [
    "merge_df\n"
   ]
  },
  {
   "cell_type": "code",
   "execution_count": 314,
   "metadata": {},
   "outputs": [],
   "source": [
    "corn_min_max_df = pd.read_csv('./minmax/Corn min max value.csv', index_col=0)\n",
    "rice_min_max_df = pd.read_csv('./minmax/Rice min max value.csv', index_col=0)\n",
    "spring_wheat_min_max_df = pd.read_csv(\n",
    "    './minmax/Spring wheat min max value.csv', index_col=0)\n",
    "winter_wheat_min_max_df = pd.read_csv(\n",
    "    './minmax/Winter wheat min max value.csv', index_col=0)\n"
   ]
  },
  {
   "cell_type": "code",
   "execution_count": 315,
   "metadata": {},
   "outputs": [],
   "source": [
    "min_max_df_list = [corn_min_max_df, rice_min_max_df,\n",
    "                   spring_wheat_min_max_df, winter_wheat_min_max_df]\n"
   ]
  },
  {
   "cell_type": "code",
   "execution_count": 316,
   "metadata": {},
   "outputs": [
    {
     "data": {
      "text/html": [
       "<div>\n",
       "<style scoped>\n",
       "    .dataframe tbody tr th:only-of-type {\n",
       "        vertical-align: middle;\n",
       "    }\n",
       "\n",
       "    .dataframe tbody tr th {\n",
       "        vertical-align: top;\n",
       "    }\n",
       "\n",
       "    .dataframe thead th {\n",
       "        text-align: right;\n",
       "    }\n",
       "</style>\n",
       "<table border=\"1\" class=\"dataframe\">\n",
       "  <thead>\n",
       "    <tr style=\"text-align: right;\">\n",
       "      <th></th>\n",
       "      <th>population_us_asian</th>\n",
       "      <th>cpi_us</th>\n",
       "      <th>co2(ppm)</th>\n",
       "      <th>oil_price</th>\n",
       "      <th>sunlight_svm</th>\n",
       "      <th>food_consumption_us(kcal)</th>\n",
       "      <th>productions</th>\n",
       "    </tr>\n",
       "  </thead>\n",
       "  <tbody>\n",
       "    <tr>\n",
       "      <th>max</th>\n",
       "      <td>2.533703e+07</td>\n",
       "      <td>298.012000</td>\n",
       "      <td>420.99000</td>\n",
       "      <td>702.290743</td>\n",
       "      <td>421.5</td>\n",
       "      <td>4200.000000</td>\n",
       "      <td>1.270824e+07</td>\n",
       "    </tr>\n",
       "    <tr>\n",
       "      <th>min</th>\n",
       "      <td>1.111939e+05</td>\n",
       "      <td>8.664286</td>\n",
       "      <td>211.48788</td>\n",
       "      <td>3.836290</td>\n",
       "      <td>35.0</td>\n",
       "      <td>3007.102825</td>\n",
       "      <td>1.491437e+04</td>\n",
       "    </tr>\n",
       "  </tbody>\n",
       "</table>\n",
       "</div>"
      ],
      "text/plain": [
       "     population_us_asian      cpi_us   co2(ppm)   oil_price  sunlight_svm  \\\n",
       "max         2.533703e+07  298.012000  420.99000  702.290743         421.5   \n",
       "min         1.111939e+05    8.664286  211.48788    3.836290          35.0   \n",
       "\n",
       "     food_consumption_us(kcal)   productions  \n",
       "max                4200.000000  1.270824e+07  \n",
       "min                3007.102825  1.491437e+04  "
      ]
     },
     "execution_count": 316,
     "metadata": {},
     "output_type": "execute_result"
    }
   ],
   "source": [
    "min_max_df_list[2]\n"
   ]
  },
  {
   "cell_type": "code",
   "execution_count": 317,
   "metadata": {},
   "outputs": [],
   "source": [
    "normalized_columns = ['population_us_asian', 'cpi_us',\n",
    "                      'co2(ppm)', 'oil_price', 'sunlight_svm', 'food_consumption_us(kcal)']\n",
    "\n",
    "df_list = []\n",
    "\n",
    "for idx in range(4):\n",
    "\tnew_df = merge_df.copy()\n",
    "\tfor column in normalized_columns:\n",
    "\t\tmax = min_max_df_list[idx].loc['max', column]\n",
    "\t\tmin = min_max_df_list[idx].loc['min', column]\n",
    "\t\tnew_df[column] = (new_df[column] - min) / (max - min) * (1.0 - 0.0001) + 0.0001\n",
    "\tdf_list.append(new_df)\n"
   ]
  },
  {
   "cell_type": "code",
   "execution_count": 318,
   "metadata": {},
   "outputs": [],
   "source": [
    "def make_data(df):\n",
    "\t# 각 'target' 값에 대응하는 'X' 값을 저장하기 위한 딕셔너리 생성\n",
    "\tX_dict = defaultdict(list)\n",
    "\tfor _, row in df.iterrows():\n",
    "\t\t\tX = row.drop(['year', 'ID']).tolist()\n",
    "\t\t\tyear = row['year']\n",
    "\t\t\tX_dict[year].append(X)\n",
    "\n",
    "\t\t# X와 y 분리\n",
    "\tyears = df['year'].unique()\n",
    "\tX = [X_dict[year] for year in years]\n",
    "\n",
    "\treturn X\n"
   ]
  },
  {
   "cell_type": "code",
   "execution_count": 319,
   "metadata": {},
   "outputs": [],
   "source": [
    "input_X_list = []\n",
    "for df in df_list:\n",
    "    X_train = make_data(df)\n",
    "    input_X_list.append(X_train)"
   ]
  },
  {
   "cell_type": "code",
   "execution_count": 320,
   "metadata": {},
   "outputs": [],
   "source": [
    "class FieldCropsPredictionModel(nn.Module):\n",
    "\tdef __init__(self, feature_num, filter_input_dim, filter_out_dim, hidden_dim, layer_num=2):\n",
    "\t\t\tsuper(FieldCropsPredictionModel, self).__init__()\n",
    "\n",
    "\t\t\tself.feature_num = feature_num\n",
    "\n",
    "\t\t\tself.filter_layers = nn.ModuleList()\n",
    "\t\t\tfor i in range(feature_num):\n",
    "\t\t\t\tfilter_layer = nn.Linear(filter_input_dim, filter_out_dim)\n",
    "\t\t\t\tnn.init.xavier_uniform_(filter_layer.weight)\n",
    "\t\t\t\tself.filter_layers.append(filter_layer)\n",
    "\n",
    "\t\t\tself.output_layer = nn.Linear(filter_out_dim, 1)\n",
    "\n",
    "\t\t\tnn.init.xavier_uniform_(self.output_layer.weight)\n",
    "\n",
    "\t\t\tself.hidden_layers = nn.ModuleList()\n",
    "\t\t\tfor i in range(layer_num):\n",
    "\t\t\t\thidden_layer = nn.Linear(\n",
    "\t\t\t\t\t\t\tfeature_num if i == 0 else hidden_dim, hidden_dim if i != layer_num-1 else 1)\n",
    "\t\t\t\tnn.init.xavier_uniform_(hidden_layer.weight)\n",
    "\t\t\t\tself.hidden_layers.append(hidden_layer)\n",
    "\n",
    "\t\t\tself.activation_function = nn.ELU()\n",
    "\n",
    "\tdef forward(self, input):\n",
    "\t\tbatch_size, sequence_length, feature_size = input.size()\n",
    "\n",
    "\t\toutputs = []\n",
    "\t\tfor i in range(batch_size):\n",
    "\t\t\tsequence = input[i]\n",
    "\t\t\tfiltered_outputs = []\n",
    "\n",
    "\t\t\tfor j in range(self.feature_num):\n",
    "\t\t\t\tfeature = sequence[:, j]\n",
    "\t\t\t\tfeature = feature.view(1, -1)\n",
    "\t\t\t\tfiltered_feature = self.filter_layers[j](feature)\n",
    "\t\t\t\tfiltered_feature = self.activation_function(filtered_feature)\n",
    "\t\t\t\tfiltered_outputs.append(filtered_feature)\n",
    "\n",
    "\t\t\tsequence_out = torch.cat(filtered_outputs, dim= 0)\n",
    "\t\t\tsequence_out = sequence_out.t()\n",
    "\n",
    "\t\t\tfor layer in self.hidden_layers:\n",
    "\t\t\t\tsequence_out = layer(sequence_out)\n",
    "\t\t\t\tsequence_out = self.activation_function(sequence_out)\n",
    "\n",
    "\t\t\tsequence_out = sequence_out.t()\n",
    "\t\t\tsequence_out = self.output_layer(sequence_out)\n",
    "\t\t\tsequence_out = self.activation_function(sequence_out)\n",
    "\n",
    "\t\t\toutputs.append(sequence_out)\n",
    "\n",
    "\t\tresult = torch.stack(outputs, dim=0)\n",
    "\t\treturn result"
   ]
  },
  {
   "cell_type": "code",
   "execution_count": 321,
   "metadata": {},
   "outputs": [],
   "source": [
    "class CustomDataset(Dataset):\n",
    "    def __init__(self, X, y):\n",
    "        self.X = X\n",
    "        self.y = y\n",
    "\n",
    "    def __len__(self):\n",
    "        return len(self.X)\n",
    "\n",
    "    def __getitem__(self, idx):\n",
    "        x = torch.tensor(self.X[idx], dtype=torch.float32)\n",
    "        y = torch.tensor(self.y[idx], dtype=torch.float32)\n",
    "        return x, y"
   ]
  },
  {
   "cell_type": "code",
   "execution_count": 322,
   "metadata": {},
   "outputs": [
    {
     "data": {
      "text/plain": [
       "FieldCropsPredictionModel(\n",
       "  (filter_layers): ModuleList(\n",
       "    (0): Linear(in_features=12, out_features=10, bias=True)\n",
       "    (1): Linear(in_features=12, out_features=10, bias=True)\n",
       "    (2): Linear(in_features=12, out_features=10, bias=True)\n",
       "    (3): Linear(in_features=12, out_features=10, bias=True)\n",
       "    (4): Linear(in_features=12, out_features=10, bias=True)\n",
       "    (5): Linear(in_features=12, out_features=10, bias=True)\n",
       "  )\n",
       "  (output_layer): Linear(in_features=10, out_features=1, bias=True)\n",
       "  (hidden_layers): ModuleList(\n",
       "    (0): Linear(in_features=6, out_features=8, bias=True)\n",
       "    (1): Linear(in_features=8, out_features=8, bias=True)\n",
       "    (2): Linear(in_features=8, out_features=1, bias=True)\n",
       "  )\n",
       "  (activation_function): ELU(alpha=1.0)\n",
       ")"
      ]
     },
     "execution_count": 322,
     "metadata": {},
     "output_type": "execute_result"
    }
   ],
   "source": [
    "model = FieldCropsPredictionModel(6, 12, 10, 8, 3)\n",
    "model.load_state_dict(torch.load('./models/Corn_train_model_50_epochs.pt'))\n",
    "model.eval()"
   ]
  },
  {
   "cell_type": "code",
   "execution_count": 323,
   "metadata": {},
   "outputs": [
    {
     "name": "stdout",
     "output_type": "stream",
     "text": [
      "10\n"
     ]
    }
   ],
   "source": [
    "input_X_tensor_list = []\n",
    "\n",
    "for input_X in input_X_list:\n",
    "\ttensor_list = []\n",
    "\tfor X in input_X:\n",
    "\t\ttensor_X = torch.tensor(X)\n",
    "\t\tthree_dim_tensor = torch.unsqueeze(tensor_X, 0)\n",
    "\n",
    "\t\ttensor_list.append(three_dim_tensor)\n",
    "\t\n",
    "\tinput_X_tensor_list.append(tensor_list)\n",
    "\n",
    "print(len(input_X_tensor_list[0]))"
   ]
  },
  {
   "cell_type": "code",
   "execution_count": 324,
   "metadata": {},
   "outputs": [],
   "source": [
    "output_list = []\n",
    "\n",
    "for input in input_X_tensor_list[0]:\n",
    "\toutput = model(input)\n",
    "\tmax = min_max_df_list[0].loc['max', 'productions']\n",
    "\tmin = min_max_df_list[0].loc['min', 'productions']\n",
    "\tproductions = (output - 0.0001) / (1.0 - 0.0001) * (max - min) + min\n",
    "\toutput_list.append(productions)"
   ]
  },
  {
   "cell_type": "code",
   "execution_count": 328,
   "metadata": {},
   "outputs": [
    {
     "name": "stdout",
     "output_type": "stream",
     "text": [
      "25701286.0\n",
      "25744892.0\n",
      "25811528.0\n",
      "25876996.0\n",
      "25940560.0\n",
      "26001388.0\n",
      "26058998.0\n",
      "26112882.0\n",
      "26162494.0\n",
      "26207812.0\n"
     ]
    }
   ],
   "source": [
    "for output in output_list:\n",
    "    print(output.tolist()[0][0][0])"
   ]
  },
  {
   "cell_type": "code",
   "execution_count": 331,
   "metadata": {},
   "outputs": [
    {
     "data": {
      "image/png": "[encoded data removed]",
      "text/plain": [
       "<Figure size 640x480 with 1 Axes>"
      ]
     },
     "metadata": {},
     "output_type": "display_data"
    }
   ],
   "source": [
    "import matplotlib.pyplot as plt\n",
    "import matplotlib.style as style\n",
    "\n",
    "x = range(2023, 2033)\n",
    "y = [output.tolist()[0][0][0] for output in output_list]\n",
    "plt.plot(x, y, label='production')\n",
    "plt.title('Corn production predictions')\n",
    "plt.show()"
   ]
  },
  {
   "cell_type": "code",
   "execution_count": 333,
   "metadata": {},
   "outputs": [
    {
     "name": "stdout",
     "output_type": "stream",
     "text": [
      "1319915.875\n",
      "1307254.125\n",
      "1296469.5\n",
      "1287210.375\n",
      "1279384.375\n",
      "1272858.625\n",
      "1267422.375\n",
      "1262889.375\n",
      "1259090.375\n",
      "1255904.125\n"
     ]
    },
    {
     "data": {
      "image/png": "[encoded data removed]",
      "text/plain": [
       "<Figure size 640x480 with 1 Axes>"
      ]
     },
     "metadata": {},
     "output_type": "display_data"
    }
   ],
   "source": [
    "model.load_state_dict(torch.load('./models/Rice_train_model_50_epochs.pt'))\n",
    "model.eval()\n",
    "\n",
    "output_list = []\n",
    "\n",
    "for input in input_X_tensor_list[1]:\n",
    "\toutput = model(input)\n",
    "\tmax = min_max_df_list[1].loc['max', 'productions']\n",
    "\tmin = min_max_df_list[1].loc['min', 'productions']\n",
    "\tproductions = (output - 0.0001) / (1.0 - 0.0001) * (max - min) + min\n",
    "\toutput_list.append(productions)\n",
    "\n",
    "for output in output_list:\n",
    "    print(output.tolist()[0][0][0])\n",
    "    \n",
    "x = range(2023, 2033)\n",
    "y = [output.tolist()[0][0][0] for output in output_list]\n",
    "plt.plot(x, y, label='production')\n",
    "plt.title('Rice production predictions')\n",
    "plt.show()\n"
   ]
  },
  {
   "cell_type": "code",
   "execution_count": 335,
   "metadata": {},
   "outputs": [
    {
     "name": "stdout",
     "output_type": "stream",
     "text": [
      "2861981.5\n",
      "2825601.5\n",
      "2792093.5\n",
      "2767533.0\n",
      "2750548.5\n",
      "2739279.0\n",
      "2732267.0\n",
      "2728296.25\n",
      "2726382.5\n",
      "2725797.25\n"
     ]
    },
    {
     "data": {
      "image/png": "[encoded data removed]",
      "text/plain": [
       "<Figure size 640x480 with 1 Axes>"
      ]
     },
     "metadata": {},
     "output_type": "display_data"
    }
   ],
   "source": [
    "model.load_state_dict(torch.load('./models/Spring wheat_train_model_50_epochs.pt'))\n",
    "model.eval()\n",
    "\n",
    "output_list = []\n",
    "\n",
    "for input in input_X_tensor_list[2]:\n",
    "\toutput = model(input)\n",
    "\tmax = min_max_df_list[2].loc['max', 'productions']\n",
    "\tmin = min_max_df_list[2].loc['min', 'productions']\n",
    "\tproductions = (output - 0.0001) / (1.0 - 0.0001) * (max - min) + min\n",
    "\toutput_list.append(productions)\n",
    "\n",
    "for output in output_list:\n",
    "    print(output.tolist()[0][0][0])\n",
    "\n",
    "x = range(2023, 2033)\n",
    "y = [output.tolist()[0][0][0] for output in output_list]\n",
    "plt.plot(x, y, label='production')\n",
    "plt.title('Spring wheat production predictions')\n",
    "plt.show()\n"
   ]
  },
  {
   "cell_type": "code",
   "execution_count": 337,
   "metadata": {},
   "outputs": [
    {
     "name": "stdout",
     "output_type": "stream",
     "text": [
      "1336457.375\n",
      "1336786.125\n",
      "1339813.875\n",
      "1345136.75\n",
      "1351186.5\n",
      "1357848.25\n",
      "1364889.125\n",
      "1371906.875\n",
      "1378647.375\n",
      "1384889.375\n"
     ]
    },
    {
     "data": {
      "image/png": "[encoded data removed]",
      "text/plain": [
       "<Figure size 640x480 with 1 Axes>"
      ]
     },
     "metadata": {},
     "output_type": "display_data"
    }
   ],
   "source": [
    "model.load_state_dict(torch.load(\n",
    "\t'./models/Winter wheat_train_model_50_epochs.pt'))\n",
    "model.eval()\n",
    "\n",
    "output_list = []\n",
    "\n",
    "for input in input_X_tensor_list[2]:\n",
    "\toutput = model(input)\n",
    "\tmax = min_max_df_list[2].loc['max', 'productions']\n",
    "\tmin = min_max_df_list[2].loc['min', 'productions']\n",
    "\tproductions = (output - 0.0001) / (1.0 - 0.0001) * (max - min) + min\n",
    "\toutput_list.append(productions)\n",
    "\n",
    "for output in output_list:\n",
    "    print(output.tolist()[0][0][0])\n",
    "\n",
    "x = range(2023, 2033)\n",
    "y = [output.tolist()[0][0][0] for output in output_list]\n",
    "plt.plot(x, y, label='production')\n",
    "plt.title('Winter wheat production predictions')\n",
    "plt.show()\n"
   ]
  }
 ],
 "metadata": {
  "kernelspec": {
   "display_name": "Python 3",
   "language": "python",
   "name": "python3"
  },
  "language_info": {
   "codemirror_mode": {
    "name": "ipython",
    "version": 3
   },
   "file_extension": ".py",
   "mimetype": "text/x-python",
   "name": "python",
   "nbconvert_exporter": "python",
   "pygments_lexer": "ipython3",
   "version": "3.10.0"
  },
  "orig_nbformat": 4
 },
 "nbformat": 4,
 "nbformat_minor": 2
}
