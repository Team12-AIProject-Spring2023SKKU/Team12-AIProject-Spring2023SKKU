{
 "cells": [
  {
   "cell_type": "code",
   "execution_count": 4,
   "id": "3ec07233",
   "metadata": {},
   "outputs": [],
   "source": [
    "import numpy as np\n",
    "from sklearn.linear_model import LinearRegression\n",
    "from sklearn.svm import SVR\n",
    "import ast"
   ]
  },
  {
   "cell_type": "code",
   "execution_count": 2,
   "id": "78c7a085",
   "metadata": {},
   "outputs": [
    {
     "name": "stdout",
     "output_type": "stream",
     "text": [
      "   id  state  sunlight\n",
      "0 NaN    NaN       NaN\n",
      "1 NaN    NaN       NaN\n",
      "2 NaN    NaN       NaN\n",
      "3 NaN    NaN       NaN\n",
      "4 NaN    NaN       NaN\n"
     ]
    }
   ],
   "source": [
    "import pandas as pd\n",
    "\n",
    "data_df = pd.read_csv('C:\\\\Users\\\\johnh\\\\OneDrive\\\\Documents\\\\공부\\\\2023년\\\\인공지능프로젝트\\\\기말프로젝트\\\\data_base.csv',\n",
    "                      names=['id', 'state', 'sunlight'],\n",
    "                      header=0)\n",
    "print(data_df.head())\n",
    "us_state = {'MN':'minnesota', 'ND':'north dakota', 'SD':'south dakota',\n",
    "            'AR':'arkansas', 'CA':'california', 'LA':'louisiana',\n",
    "            'IL':'illinois', 'IA':'iowa', 'NE':'nebraska'}\n",
    "data_to_use = {}"
   ]
  },
  {
   "cell_type": "code",
   "execution_count": 37,
   "id": "c5d6018d",
   "metadata": {},
   "outputs": [],
   "source": [
    "def selective_mean(elements):\n",
    "    temp_sum=0\n",
    "    temp_len=0\n",
    "    \n",
    "    for element in elements:\n",
    "        if element>0:\n",
    "            temp_sum+=element\n",
    "            temp_len+=1\n",
    "    return temp_sum/temp_len"
   ]
  },
  {
   "cell_type": "code",
   "execution_count": 38,
   "id": "edae1f03",
   "metadata": {},
   "outputs": [],
   "source": [
    "def tuple_average(*tuples):\n",
    "    avg = tuple(round(selective_mean(elements),2) for elements in zip(*tuples))\n",
    "    return avg"
   ]
  },
  {
   "cell_type": "code",
   "execution_count": 42,
   "id": "3d9d4c50",
   "metadata": {},
   "outputs": [],
   "source": [
    "for city in us_state.keys():\n",
    "    city_df = pd.DataFrame(index=range(88))\n",
    "    with open(f\"{city}.txt\", 'r', encoding='utf-8') as fr:\n",
    "        base_city = 'DULUTH'\n",
    "        city_data = [(0,0,0,0,0,0,0,0,0,0,0,0)]*88\n",
    "        while True:\n",
    "            line = fr.readline()\n",
    "            if not line:\n",
    "                city_df[f\"{base_city}\"]=city_data\n",
    "                #print(city_df.head(5))\n",
    "                break\n",
    "            line_city = line[20:33].strip()\n",
    "            line_year = line[37:41]\n",
    "            line_data = line[43:]\n",
    "            if base_city != line_city:\n",
    "                city_df[f\"{base_city}\"]=city_data\n",
    "                #print(city_df.head(5))\n",
    "                base_city = line_city\n",
    "                city_data = [(0,0,0,0,0,0,0,0,0,0,0,0)]*88\n",
    "            if line_year>=str(1900):\n",
    "                city_data[int(line_year)-1900] = tuple([int(ele.replace('\\n', '')) for ele in line_data.split(' ') if ele])\n",
    "    mean_list = []\n",
    "    for index in range(88):\n",
    "        mean_list.append(tuple_average(*tuple(city_df.iloc[index].values)))\n",
    "    city_df['mean_col']=mean_list\n",
    "    city_df.to_csv(f\"{city}.csv\", index=False)"
   ]
  },
  {
   "cell_type": "code",
   "execution_count": 38,
   "id": "ce657450",
   "metadata": {},
   "outputs": [],
   "source": [
    "for city in us_state.keys():\n",
    "    city_df = pd.read_csv(f\"C:\\\\Users\\\\johnh\\\\OneDrive\\\\Documents\\\\공부\\\\2023년\\\\인공지능프로젝트\\\\기말프로젝트\\\\{city}.csv\",\n",
    "                      header=0)\n",
    "    #print(city_df['mean_col'])\n",
    "    years = list(range(1988, 2023))\n",
    "    X = np.array(list(range(1900,1988))).reshape(-1, 1)\n",
    "    \n",
    "    predictions_svm = []\n",
    "    predictions_reg = []\n",
    "    for i in range(12):\n",
    "        # 타깃 변수 생성\n",
    "        y = city_df['mean_col'].apply(lambda x:ast.literal_eval(x)[i]).tolist()\n",
    "        regression = LinearRegression()\n",
    "        regression.fit(X, y)\n",
    "        svm = SVR(kernel='rbf')\n",
    "        svm.fit(X, y)\n",
    "        \n",
    "        # 1988년부터 2022년까지의 예측 결과 계산\n",
    "        predictions_svm.append(svm.predict([[year] for year in years]))\n",
    "        predictions_reg.append(regression.predict([[year] for year in years]))\n",
    "    \n",
    "    \n",
    "    predictions_svm=np.array(predictions_svm)\n",
    "    predictions_svm=np.transpose(predictions_svm).tolist()\n",
    "    predictions_svm=[tuple(ele) for ele in predictions_svm]\n",
    "    predictions_reg=np.array(predictions_reg)\n",
    "    predictions_reg=np.transpose(predictions_reg).tolist()\n",
    "    predictions_reg=[tuple(ele) for ele in predictions_reg]\n",
    "    temp_df = pd.DataFrame({'SVM':predictions_svm, 'REG':predictions_reg})\n",
    "    temp_df.to_csv(f\"{city}_predict.csv\", index=False)"
   ]
  },
  {
   "cell_type": "code",
   "execution_count": 14,
   "id": "e08df3f8",
   "metadata": {},
   "outputs": [],
   "source": [
    "year = list(range(1900, 2023))\n",
    "month = list(range(1, 13))\n",
    "ids = []\n",
    "\n",
    "for y in year:\n",
    "    for m in month:\n",
    "        ids.append(f\"{y}-{'{:02d}'.format(m)}\")"
   ]
  },
  {
   "cell_type": "code",
   "execution_count": 10,
   "id": "ad3130e4",
   "metadata": {},
   "outputs": [],
   "source": [
    "from itertools import chain"
   ]
  },
  {
   "cell_type": "code",
   "execution_count": 23,
   "id": "a825b237",
   "metadata": {},
   "outputs": [],
   "source": [
    "data_df = pd.DataFrame({'id':[], 'state':[], 'sunlight_svm':[], 'sunlight_reg':[]})\n",
    "data_len = 0\n",
    "for state in us_state.keys():\n",
    "    origin_df = pd.read_csv(f\"C:\\\\Users\\\\johnh\\\\OneDrive\\\\Documents\\\\공부\\\\2023년\\\\인공지능프로젝트\\\\기말프로젝트\\\\{state}.csv\",\n",
    "                      header=0)\n",
    "    predict_df = pd.read_csv(f\"C:\\\\Users\\\\johnh\\\\OneDrive\\\\Documents\\\\공부\\\\2023년\\\\인공지능프로젝트\\\\기말프로젝트\\\\{state}_predict.csv\",\n",
    "                      header=0)\n",
    "    origin_sunlight = list(chain.from_iterable(origin_df['mean_col'].apply(lambda x:list(ast.literal_eval(x))).tolist()))\n",
    "    predict_svm_sunlight = list(chain.from_iterable(predict_df['SVM'].apply(lambda x:list(ast.literal_eval(x))).tolist()))\n",
    "    #print(predict_svm_sunlight)\n",
    "    predict_reg_sunlight = list(chain.from_iterable(predict_df['REG'].apply(lambda x:list(ast.literal_eval(x))).tolist()))\n",
    "    \n",
    "    \n",
    "    origin_svm_sunlight = origin_sunlight + predict_svm_sunlight\n",
    "    origin_reg_sunlight = origin_sunlight + predict_reg_sunlight\n",
    "    \n",
    "    state_df = pd.DataFrame({'id':ids, 'state':state, 'sunlight_svm':origin_svm_sunlight, 'sunlight_reg':origin_reg_sunlight})\n",
    "    data_df = pd.concat([data_df, state_df], ignore_index=True)\n",
    "    \n",
    "#     for index in range(len(ids)):\n",
    "#         new_row = pd.Series({'id':ids[index],'state':state, 'sunlight_svm':origin_svm_sunlight[index],'sunlight_reg':origin_reg_sunlight[index]})\n",
    "#         data_df[data_len] = new_row\n",
    "#         data_len+=1\n",
    "\n",
    "data_df.to_csv(f\"sunlight.csv\", index=False)"
   ]
  },
  {
   "cell_type": "code",
   "execution_count": null,
   "id": "9ab4d94f",
   "metadata": {},
   "outputs": [],
   "source": []
  }
 ],
 "metadata": {
  "kernelspec": {
   "display_name": "Python 3 (ipykernel)",
   "language": "python",
   "name": "python3"
  },
  "language_info": {
   "codemirror_mode": {
    "name": "ipython",
    "version": 3
   },
   "file_extension": ".py",
   "mimetype": "text/x-python",
   "name": "python",
   "nbconvert_exporter": "python",
   "pygments_lexer": "ipython3",
   "version": "3.10.11"
  }
 },
 "nbformat": 4,
 "nbformat_minor": 5
}
