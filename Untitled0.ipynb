{
  "nbformat": 4,
  "nbformat_minor": 0,
  "metadata": {
    "colab": {
      "provenance": []
    },
    "kernelspec": {
      "name": "python3",
      "display_name": "Python 3"
    },
    "language_info": {
      "name": "python"
    }
  },
  "cells": [
    {
      "cell_type": "code",
      "execution_count": null,
      "metadata": {
        "id": "yJIALgu7kfI0"
      },
      "outputs": [],
      "source": [
        "from google.colab import drive\n",
        "drive.mount('/content/drive')"
      ]
    },
    {
      "cell_type": "code",
      "source": [
        "import os\n",
        "path=\"/content/drive/MyDrive/ML/TeamProject\"\n",
        "movies_metadataset = os.path.join(path, \"movies_metadata.csv\")\n",
        "rating_dataset = os.path.join(path, \"ratings_small.csv\")\n"
      ],
      "metadata": {
        "id": "JFre8rQuP9wt"
      },
      "execution_count": null,
      "outputs": []
    },
    {
      "cell_type": "code",
      "source": [
        "import pandas as pd\n",
        "import numpy as np\n",
        "import torch\n",
        "import torch.nn as nn\n",
        "import torch.nn.functional as F\n",
        "from torch.utils.data import Dataset, DataLoader\n",
        "from sklearn.preprocessing import LabelEncoder, MinMaxScaler\n"
      ],
      "metadata": {
        "id": "ezQAjwAJQWZx"
      },
      "execution_count": null,
      "outputs": []
    },
    {
      "cell_type": "code",
      "source": [
        "# 영화 정보 데이터 로드\n",
        "movies_df = pd.read_csv(movies_metadataset, low_memory=False)[['id', 'original_title', 'release_date', 'vote_average', 'vote_count']]\n",
        "# 사용자 평점 데이터 로드\n",
        "ratings_df = pd.read_csv(rating_dataset)[['userId', 'movieId', 'rating']]\n"
      ],
      "metadata": {
        "id": "gMydF7WzQ2WZ"
      },
      "execution_count": null,
      "outputs": []
    },
    {
      "cell_type": "code",
      "source": [
        "print(movies_df)"
      ],
      "metadata": {
        "colab": {
          "base_uri": "https://localhost:8080/"
        },
        "id": "dZI8xU1SQ65E",
        "outputId": "a52b27c4-d8b7-42b6-9d7c-689b81bf3309"
      },
      "execution_count": null,
      "outputs": [
        {
          "output_type": "stream",
          "name": "stdout",
          "text": [
            "           id               original_title release_date  vote_average  \\\n",
            "0         862                    Toy Story   1995-10-30           7.7   \n",
            "1        8844                      Jumanji   1995-12-15           6.9   \n",
            "2       15602             Grumpier Old Men   1995-12-22           6.5   \n",
            "3       31357            Waiting to Exhale   1995-12-22           6.1   \n",
            "4       11862  Father of the Bride Part II   1995-02-10           5.7   \n",
            "...       ...                          ...          ...           ...   \n",
            "45461  439050                      رگ خواب          NaN           4.0   \n",
            "45462  111109          Siglo ng Pagluluwal   2011-11-17           9.0   \n",
            "45463   67758                     Betrayal   2003-08-01           3.8   \n",
            "45464  227506          Satana likuyushchiy   1917-10-21           0.0   \n",
            "45465  461257                     Queerama   2017-06-09           0.0   \n",
            "\n",
            "       vote_count  \n",
            "0          5415.0  \n",
            "1          2413.0  \n",
            "2            92.0  \n",
            "3            34.0  \n",
            "4           173.0  \n",
            "...           ...  \n",
            "45461         1.0  \n",
            "45462         3.0  \n",
            "45463         6.0  \n",
            "45464         0.0  \n",
            "45465         0.0  \n",
            "\n",
            "[45466 rows x 5 columns]\n"
          ]
        }
      ]
    },
    {
      "cell_type": "code",
      "source": [
        "movies_df['id'] = pd.to_numeric(movies_df['id'], errors='coerce')\n",
        "movies_df = movies_df.dropna(subset=['id'])\n",
        "movies_df['id'] = movies_df['id'].astype(int)\n",
        "\n",
        "ratings_df['movieId'] = pd.to_numeric(ratings_df['movieId'], errors='coerce')\n",
        "ratings_df = ratings_df.dropna(subset=['movieId'])\n",
        "ratings_df['movieId'] = ratings_df['movieId'].astype(int)\n"
      ],
      "metadata": {
        "colab": {
          "base_uri": "https://localhost:8080/"
        },
        "id": "UaYPlct1Rk_A",
        "outputId": "90fdc478-4d10-45ad-c2bd-d1b4d4eca052"
      },
      "execution_count": null,
      "outputs": [
        {
          "output_type": "stream",
          "name": "stderr",
          "text": [
            "<ipython-input-13-9abb88d17619>:3: SettingWithCopyWarning: \n",
            "A value is trying to be set on a copy of a slice from a DataFrame.\n",
            "Try using .loc[row_indexer,col_indexer] = value instead\n",
            "\n",
            "See the caveats in the documentation: https://pandas.pydata.org/pandas-docs/stable/user_guide/indexing.html#returning-a-view-versus-a-copy\n",
            "  movies_df['id'] = movies_df['id'].astype(int)\n"
          ]
        }
      ]
    },
    {
      "cell_type": "code",
      "source": [
        "# ratings 데이터셋에 movies 데이터셋을 조인\n",
        "dataset = pd.merge(ratings_df, movies_df, left_on='movieId', right_on='id')[['userId', 'movieId', 'original_title', 'vote_average', 'vote_count', 'rating']]\n"
      ],
      "metadata": {
        "id": "saW8JGlHRnDS"
      },
      "execution_count": null,
      "outputs": []
    },
    {
      "cell_type": "code",
      "source": [
        "# Label Encoding을 위한 객체 생성\n",
        "le = LabelEncoder()\n",
        "\n",
        "# movieId와 original_title에 대해 Label Encoding 수행\n",
        "dataset['movieId'] = le.fit_transform(dataset['movieId'])\n",
        "dataset['original_title'] = le.fit_transform(dataset['original_title'])\n",
        "\n",
        "# vote_average와 vote_count에 대해서는 Min-Max Scaling 수행\n",
        "scaler = MinMaxScaler()\n",
        "dataset[['vote_average', 'vote_count']] = scaler.fit_transform(dataset[['vote_average', 'vote_count']])"
      ],
      "metadata": {
        "id": "XofhKnXkSBjk"
      },
      "execution_count": null,
      "outputs": []
    },
    {
      "cell_type": "code",
      "source": [
        "print(dataset)"
      ],
      "metadata": {
        "colab": {
          "base_uri": "https://localhost:8080/"
        },
        "id": "3L3dgPFhSHa9",
        "outputId": "5da08272-45d9-45c2-9c1a-43556d47589a"
      },
      "execution_count": null,
      "outputs": [
        {
          "output_type": "stream",
          "name": "stdout",
          "text": [
            "       userId  movieId  original_title  vote_average  vote_count  rating\n",
            "0           1      704            1759          0.66    0.072867     2.5\n",
            "1           4      704            1759          0.66    0.072867     4.0\n",
            "2           7      704            1759          0.66    0.072867     3.0\n",
            "3          19      704            1759          0.66    0.072867     4.0\n",
            "4          21      704            1759          0.66    0.072867     3.0\n",
            "...       ...      ...             ...           ...         ...     ...\n",
            "44989     652     2813            1338          0.40    0.000082     4.0\n",
            "44990     653     1071            1893          0.59    0.030809     3.0\n",
            "44991     659      106            1103          0.71    0.057869     4.0\n",
            "44992     659      378            1944          0.67    0.129106     3.0\n",
            "44993     665       78            2736          0.83    0.323417     3.0\n",
            "\n",
            "[44994 rows x 6 columns]\n"
          ]
        }
      ]
    },
    {
      "cell_type": "code",
      "source": [
        "print(dataset['movieId'])"
      ],
      "metadata": {
        "colab": {
          "base_uri": "https://localhost:8080/"
        },
        "id": "KTqg6HC9ronP",
        "outputId": "9cbab5cc-9535-4454-99a6-8b9fc36a11db"
      },
      "execution_count": null,
      "outputs": [
        {
          "output_type": "stream",
          "name": "stdout",
          "text": [
            "0         704\n",
            "1         704\n",
            "2         704\n",
            "3         704\n",
            "4         704\n",
            "         ... \n",
            "44989    2813\n",
            "44990    1071\n",
            "44991     106\n",
            "44992     378\n",
            "44993      78\n",
            "Name: movieId, Length: 44994, dtype: int64\n"
          ]
        }
      ]
    },
    {
      "cell_type": "code",
      "source": [
        "# 학습/검증/테스트 데이터셋으로 분리\n",
        "train_data = dataset.sample(frac=0.8)\n",
        "test_data = dataset.drop(train_data.index).sample(frac=0.5)\n",
        "val_data = dataset.drop(train_data.index).drop(test_data.index)"
      ],
      "metadata": {
        "id": "c9FEFl4wTPTg"
      },
      "execution_count": null,
      "outputs": []
    },
    {
      "cell_type": "code",
      "source": [
        "# 데이터를 PyTorch Dataset으로 변환\n",
        "class RecommenderDataset(Dataset):\n",
        "    def __init__(self, data):\n",
        "        self.data = data\n",
        "        \n",
        "    def __len__(self):\n",
        "        return len(self.data)\n",
        "\n",
        "    def __getitem__(self, index):\n",
        "        # 입력 데이터 - categorical, continuous\n",
        "        x = self.data.iloc[index, :-1].values.astype(np.float32)\n",
        "        \n",
        "        \n",
        "        # 출력 데이터\n",
        "        y = self.data.iloc[index, -1:].values.astype(np.float32)\n",
        "        \n",
        "        return x,y"
      ],
      "metadata": {
        "id": "R4A47CSvSLZO"
      },
      "execution_count": null,
      "outputs": []
    },
    {
      "cell_type": "code",
      "source": [
        "train_dataset = RecommenderDataset(train_data)\n",
        "test_dataset = RecommenderDataset(test_data)\n",
        "val_dataset = RecommenderDataset(val_data)"
      ],
      "metadata": {
        "id": "Es0ukIwGTUql"
      },
      "execution_count": null,
      "outputs": []
    },
    {
      "cell_type": "code",
      "source": [
        "# DataLoader 생성\n",
        "train_dataloader = DataLoader(train_dataset, batch_size=32, shuffle=True)\n",
        "test_dataloader = DataLoader(test_dataset, batch_size=32, shuffle=True)\n",
        "val_dataloader = DataLoader(val_dataset, batch_size=32, shuffle=True)"
      ],
      "metadata": {
        "id": "JNie8892TXmD"
      },
      "execution_count": null,
      "outputs": []
    },
    {
      "cell_type": "code",
      "source": [
        "class WideAndDeep(nn.Module):\n",
        "    def __init__(self, num_categories, num_continuous):\n",
        "        super(WideAndDeep, self).__init__()\n",
        "        # Wide 부분: 카테고리 피처에 대한 선형 레이어 (2798,1)\n",
        "        self.wide = nn.Linear(num_categories, 1)\n",
        "        # Deep 부분: 레이어들을 쌓은 신경망\n",
        "        self.deep = nn.Sequential(\n",
        "            nn.Linear(num_categories + num_continuous, 32),\n",
        "            nn.ReLU(),\n",
        "            nn.Linear(32, 16),\n",
        "            nn.ReLU(),\n",
        "            nn.Linear(16, 1)\n",
        "        )\n",
        "    \n",
        "    def forward(self, x_cat, x_cont):\n",
        "        # Wide 부분의 출력\n",
        "        wide_output = self.wide(x_cat)\n",
        "        # Deep 부분의 출력\n",
        "        deep_output = self.deep(torch.cat((x_cat, x_cont), dim=1))\n",
        "        # Wide와 Deep의 출력을 더하여 최종 출력\n",
        "        output = wide_output + deep_output\n",
        "        \n",
        "        return output"
      ],
      "metadata": {
        "id": "SmBHsY0IUVP0"
      },
      "execution_count": null,
      "outputs": []
    },
    {
      "cell_type": "code",
      "source": [
        "print(len(le.classes_))"
      ],
      "metadata": {
        "colab": {
          "base_uri": "https://localhost:8080/"
        },
        "id": "wNtvm-IemiS1",
        "outputId": "b4583ea5-991e-4a05-b05b-1984c0c7d02a"
      },
      "execution_count": null,
      "outputs": [
        {
          "output_type": "stream",
          "name": "stdout",
          "text": [
            "2798\n"
          ]
        }
      ]
    },
    {
      "cell_type": "code",
      "source": [
        "# 모델 인스턴스화\n",
        "model = WideAndDeep(num_categories=len(le.classes_), num_continuous=2)\n",
        "\n",
        "# 손실 함수: MSE\n",
        "loss_fn = nn.MSELoss()\n",
        "\n",
        "# 최적화 알고리즘: Adam\n",
        "optimizer = torch.optim.Adam(model.parameters(), lr=0.001)\n",
        "device = torch.device(\"cuda:0\" if torch.cuda.is_available() else \"cpu\")\n",
        "\n"
      ],
      "metadata": {
        "id": "JAdBQdZHUWU8"
      },
      "execution_count": null,
      "outputs": []
    },
    {
      "cell_type": "code",
      "source": [
        "def train(model, dataloader, loss_fn, optimizer, device):\n",
        "    # 모델 학습 모드로 설정\n",
        "    model.train()\n",
        "    \n",
        "    # 전체 손실\n",
        "    total_loss = 0.0\n",
        "    # 배치 개수\n",
        "    n_batches = 0\n",
        "    \n",
        "    # 배치 단위로 학습\n",
        "    for i, (x,y_true) in enumerate(dataloader):\n",
        "        print(x)\n",
        "        print(x.size())\n",
        "\n",
        "        x_cat = x[:, :3]  # 카테고리 변수\n",
        "        x_cont = x[:, 3:]  # 연속 변수\n",
        "\n",
        "\n",
        "        # 데이터를 디바이스에 전송\n",
        "        x_cat, x_cont, y_true = x_cat.to(device), x_cont.to(device), y_true.to(device)\n",
        "        \n",
        "        # 경사 초기화\n",
        "        optimizer.zero_grad()\n",
        "        \n",
        "        # 모델에 입력하여 출력 예측\n",
        "        y_pred = model(x_cat, x_cont)\n",
        "        \n",
        "        # 손실 계산\n",
        "        loss = loss_fn(y_pred, y_true)\n",
        "        \n",
        "        # 역전파 수행하여 기울기 계산\n",
        "        loss.backward()\n",
        "        \n",
        "        # 가중치 업데이트\n",
        "        optimizer.step()\n",
        "        \n",
        "        # 전체 손실에 누적\n",
        "        total_loss += loss.item()\n",
        "        # 배치 개수 증가\n",
        "        n_batches += 1\n",
        "    \n",
        "    # 에폭 손실 평균 계산\n",
        "    avg_loss = total_loss / n_batches\n",
        "    \n",
        "    # 출력\n",
        "    print(f\"Train Loss: {avg_loss:.4f}\")\n",
        "\n",
        "    return model"
      ],
      "metadata": {
        "id": "BZtMsPf8Wwke"
      },
      "execution_count": null,
      "outputs": []
    },
    {
      "cell_type": "code",
      "source": [
        "for epoch in range(10):\n",
        "    print(f\"Epoch {epoch+1}\")\n",
        "    model = train(model, train_dataloader, loss_fn, optimizer, device)"
      ],
      "metadata": {
        "colab": {
          "base_uri": "https://localhost:8080/",
          "height": 962
        },
        "id": "eO4yNTF_XeTe",
        "outputId": "63b41836-41c6-429d-8a8b-6936ef8743cf"
      },
      "execution_count": null,
      "outputs": [
        {
          "output_type": "stream",
          "name": "stdout",
          "text": [
            "Epoch 1\n",
            "tensor([[4.7800e+02, 1.7060e+03, 3.4200e+02, 7.5000e-01, 6.6183e-02],\n",
            "        [1.9000e+01, 2.5100e+02, 2.7280e+03, 8.2000e-01, 7.2704e-02],\n",
            "        [4.8000e+01, 3.3500e+02, 8.9000e+02, 7.3000e-01, 1.7361e-02],\n",
            "        [2.4100e+02, 2.2900e+02, 2.4890e+03, 7.5000e-01, 6.2108e-02],\n",
            "        [1.9900e+02, 2.6790e+03, 2.0720e+03, 6.1000e-01, 1.6301e-03],\n",
            "        [5.8000e+02, 3.9600e+02, 2.0770e+03, 7.5000e-01, 3.0728e-02],\n",
            "        [1.0200e+02, 1.3570e+03, 2.6360e+03, 6.0000e-01, 1.3041e-03],\n",
            "        [1.1900e+02, 9.6200e+02, 2.1150e+03, 7.9000e-01, 6.0315e-02],\n",
            "        [5.3300e+02, 9.5400e+02, 1.5210e+03, 6.1000e-01, 1.0433e-02],\n",
            "        [6.0800e+02, 5.4700e+02, 7.8100e+02, 7.2000e-01, 1.0343e-01],\n",
            "        [1.0200e+02, 1.2020e+03, 2.0640e+03, 6.3000e-01, 1.3595e-01],\n",
            "        [4.1200e+02, 1.3640e+03, 2.1300e+03, 6.9000e-01, 1.1166e-02],\n",
            "        [2.8500e+02, 3.1100e+02, 1.1290e+03, 6.5000e-01, 7.1725e-03],\n",
            "        [6.4100e+02, 0.0000e+00, 1.8800e+02, 7.1000e-01, 3.5863e-03],\n",
            "        [2.1200e+02, 3.4200e+02, 1.5580e+03, 7.0000e-01, 1.0669e-01],\n",
            "        [2.1200e+02, 3.3400e+02, 1.7340e+03, 8.1000e-01, 3.1144e-01],\n",
            "        [5.4400e+02, 3.0000e+00, 1.0890e+03, 6.4000e-01, 6.4390e-03],\n",
            "        [6.0600e+02, 1.5900e+02, 1.9270e+03, 7.8000e-01, 1.2780e-01],\n",
            "        [4.8100e+02, 2.1000e+02, 8.2000e+01, 7.0000e-01, 1.9643e-02],\n",
            "        [3.7500e+02, 3.0300e+02, 1.7650e+03, 6.7000e-01, 1.1460e-01],\n",
            "        [4.6500e+02, 8.0000e+01, 6.4000e+02, 7.5000e-01, 2.8527e-03],\n",
            "        [4.5200e+02, 1.1910e+03, 1.9900e+02, 5.0000e-01, 3.9612e-02],\n",
            "        [4.0000e+00, 9.9700e+02, 1.1200e+02, 7.5000e-01, 1.7116e-02],\n",
            "        [2.9200e+02, 1.7050e+03, 4.1000e+01, 6.0000e-01, 1.6301e-03],\n",
            "        [2.3000e+01, 7.1300e+02, 8.6400e+02, 5.4000e-01, 2.5267e-03],\n",
            "        [5.1400e+02, 8.4000e+01, 5.7100e+02, 7.5000e-01, 2.0866e-02],\n",
            "        [4.7200e+02, 7.4000e+01, 2.2360e+03, 8.0000e-01, 6.2279e-01],\n",
            "        [2.3000e+01, 1.5900e+02, 1.9270e+03, 7.8000e-01, 1.2780e-01],\n",
            "        [1.2100e+02, 2.2800e+02, 2.2650e+03, 5.9000e-01, 6.1945e-03],\n",
            "        [4.9100e+02, 7.2700e+02, 1.1790e+03, 7.3000e-01, 3.5292e-02],\n",
            "        [5.6400e+02, 8.1500e+02, 1.1850e+03, 7.4000e-01, 2.3637e-03],\n",
            "        [4.6300e+02, 1.0030e+03, 2.6500e+02, 6.4000e-01, 3.0157e-03]])\n",
            "torch.Size([32, 5])\n"
          ]
        },
        {
          "output_type": "error",
          "ename": "RuntimeError",
          "evalue": "ignored",
          "traceback": [
            "\u001b[0;31m---------------------------------------------------------------------------\u001b[0m",
            "\u001b[0;31mRuntimeError\u001b[0m                              Traceback (most recent call last)",
            "\u001b[0;32m<ipython-input-96-1898fe79c62a>\u001b[0m in \u001b[0;36m<cell line: 1>\u001b[0;34m()\u001b[0m\n\u001b[1;32m      1\u001b[0m \u001b[0;32mfor\u001b[0m \u001b[0mepoch\u001b[0m \u001b[0;32min\u001b[0m \u001b[0mrange\u001b[0m\u001b[0;34m(\u001b[0m\u001b[0;36m10\u001b[0m\u001b[0;34m)\u001b[0m\u001b[0;34m:\u001b[0m\u001b[0;34m\u001b[0m\u001b[0;34m\u001b[0m\u001b[0m\n\u001b[1;32m      2\u001b[0m     \u001b[0mprint\u001b[0m\u001b[0;34m(\u001b[0m\u001b[0;34mf\"Epoch {epoch+1}\"\u001b[0m\u001b[0;34m)\u001b[0m\u001b[0;34m\u001b[0m\u001b[0;34m\u001b[0m\u001b[0m\n\u001b[0;32m----> 3\u001b[0;31m     \u001b[0mmodel\u001b[0m \u001b[0;34m=\u001b[0m \u001b[0mtrain\u001b[0m\u001b[0;34m(\u001b[0m\u001b[0mmodel\u001b[0m\u001b[0;34m,\u001b[0m \u001b[0mtrain_dataloader\u001b[0m\u001b[0;34m,\u001b[0m \u001b[0mloss_fn\u001b[0m\u001b[0;34m,\u001b[0m \u001b[0moptimizer\u001b[0m\u001b[0;34m,\u001b[0m \u001b[0mdevice\u001b[0m\u001b[0;34m)\u001b[0m\u001b[0;34m\u001b[0m\u001b[0;34m\u001b[0m\u001b[0m\n\u001b[0m",
            "\u001b[0;32m<ipython-input-95-4c1231d7b9e8>\u001b[0m in \u001b[0;36mtrain\u001b[0;34m(model, dataloader, loss_fn, optimizer, device)\u001b[0m\n\u001b[1;32m     23\u001b[0m \u001b[0;34m\u001b[0m\u001b[0m\n\u001b[1;32m     24\u001b[0m         \u001b[0;31m# 모델에 입력하여 출력 예측\u001b[0m\u001b[0;34m\u001b[0m\u001b[0;34m\u001b[0m\u001b[0m\n\u001b[0;32m---> 25\u001b[0;31m         \u001b[0my_pred\u001b[0m \u001b[0;34m=\u001b[0m \u001b[0mmodel\u001b[0m\u001b[0;34m(\u001b[0m\u001b[0mx_cat\u001b[0m\u001b[0;34m,\u001b[0m \u001b[0mx_cont\u001b[0m\u001b[0;34m)\u001b[0m\u001b[0;34m\u001b[0m\u001b[0;34m\u001b[0m\u001b[0m\n\u001b[0m\u001b[1;32m     26\u001b[0m \u001b[0;34m\u001b[0m\u001b[0m\n\u001b[1;32m     27\u001b[0m         \u001b[0;31m# 손실 계산\u001b[0m\u001b[0;34m\u001b[0m\u001b[0;34m\u001b[0m\u001b[0m\n",
            "\u001b[0;32m/usr/local/lib/python3.10/dist-packages/torch/nn/modules/module.py\u001b[0m in \u001b[0;36m_call_impl\u001b[0;34m(self, *args, **kwargs)\u001b[0m\n\u001b[1;32m   1499\u001b[0m                 \u001b[0;32mor\u001b[0m \u001b[0m_global_backward_pre_hooks\u001b[0m \u001b[0;32mor\u001b[0m \u001b[0m_global_backward_hooks\u001b[0m\u001b[0;34m\u001b[0m\u001b[0;34m\u001b[0m\u001b[0m\n\u001b[1;32m   1500\u001b[0m                 or _global_forward_hooks or _global_forward_pre_hooks):\n\u001b[0;32m-> 1501\u001b[0;31m             \u001b[0;32mreturn\u001b[0m \u001b[0mforward_call\u001b[0m\u001b[0;34m(\u001b[0m\u001b[0;34m*\u001b[0m\u001b[0margs\u001b[0m\u001b[0;34m,\u001b[0m \u001b[0;34m**\u001b[0m\u001b[0mkwargs\u001b[0m\u001b[0;34m)\u001b[0m\u001b[0;34m\u001b[0m\u001b[0;34m\u001b[0m\u001b[0m\n\u001b[0m\u001b[1;32m   1502\u001b[0m         \u001b[0;31m# Do not call functions when jit is used\u001b[0m\u001b[0;34m\u001b[0m\u001b[0;34m\u001b[0m\u001b[0m\n\u001b[1;32m   1503\u001b[0m         \u001b[0mfull_backward_hooks\u001b[0m\u001b[0;34m,\u001b[0m \u001b[0mnon_full_backward_hooks\u001b[0m \u001b[0;34m=\u001b[0m \u001b[0;34m[\u001b[0m\u001b[0;34m]\u001b[0m\u001b[0;34m,\u001b[0m \u001b[0;34m[\u001b[0m\u001b[0;34m]\u001b[0m\u001b[0;34m\u001b[0m\u001b[0;34m\u001b[0m\u001b[0m\n",
            "\u001b[0;32m<ipython-input-92-fec1b0b76b1d>\u001b[0m in \u001b[0;36mforward\u001b[0;34m(self, x_cat, x_cont)\u001b[0m\n\u001b[1;32m     15\u001b[0m     \u001b[0;32mdef\u001b[0m \u001b[0mforward\u001b[0m\u001b[0;34m(\u001b[0m\u001b[0mself\u001b[0m\u001b[0;34m,\u001b[0m \u001b[0mx_cat\u001b[0m\u001b[0;34m,\u001b[0m \u001b[0mx_cont\u001b[0m\u001b[0;34m)\u001b[0m\u001b[0;34m:\u001b[0m\u001b[0;34m\u001b[0m\u001b[0;34m\u001b[0m\u001b[0m\n\u001b[1;32m     16\u001b[0m         \u001b[0;31m# Wide 부분의 출력\u001b[0m\u001b[0;34m\u001b[0m\u001b[0;34m\u001b[0m\u001b[0m\n\u001b[0;32m---> 17\u001b[0;31m         \u001b[0mwide_output\u001b[0m \u001b[0;34m=\u001b[0m \u001b[0mself\u001b[0m\u001b[0;34m.\u001b[0m\u001b[0mwide\u001b[0m\u001b[0;34m(\u001b[0m\u001b[0mx_cat\u001b[0m\u001b[0;34m)\u001b[0m\u001b[0;34m\u001b[0m\u001b[0;34m\u001b[0m\u001b[0m\n\u001b[0m\u001b[1;32m     18\u001b[0m         \u001b[0;31m# Deep 부분의 출력\u001b[0m\u001b[0;34m\u001b[0m\u001b[0;34m\u001b[0m\u001b[0m\n\u001b[1;32m     19\u001b[0m         \u001b[0mdeep_output\u001b[0m \u001b[0;34m=\u001b[0m \u001b[0mself\u001b[0m\u001b[0;34m.\u001b[0m\u001b[0mdeep\u001b[0m\u001b[0;34m(\u001b[0m\u001b[0mtorch\u001b[0m\u001b[0;34m.\u001b[0m\u001b[0mcat\u001b[0m\u001b[0;34m(\u001b[0m\u001b[0;34m(\u001b[0m\u001b[0mx_cat\u001b[0m\u001b[0;34m,\u001b[0m \u001b[0mx_cont\u001b[0m\u001b[0;34m)\u001b[0m\u001b[0;34m,\u001b[0m \u001b[0mdim\u001b[0m\u001b[0;34m=\u001b[0m\u001b[0;36m1\u001b[0m\u001b[0;34m)\u001b[0m\u001b[0;34m)\u001b[0m\u001b[0;34m\u001b[0m\u001b[0;34m\u001b[0m\u001b[0m\n",
            "\u001b[0;32m/usr/local/lib/python3.10/dist-packages/torch/nn/modules/module.py\u001b[0m in \u001b[0;36m_call_impl\u001b[0;34m(self, *args, **kwargs)\u001b[0m\n\u001b[1;32m   1499\u001b[0m                 \u001b[0;32mor\u001b[0m \u001b[0m_global_backward_pre_hooks\u001b[0m \u001b[0;32mor\u001b[0m \u001b[0m_global_backward_hooks\u001b[0m\u001b[0;34m\u001b[0m\u001b[0;34m\u001b[0m\u001b[0m\n\u001b[1;32m   1500\u001b[0m                 or _global_forward_hooks or _global_forward_pre_hooks):\n\u001b[0;32m-> 1501\u001b[0;31m             \u001b[0;32mreturn\u001b[0m \u001b[0mforward_call\u001b[0m\u001b[0;34m(\u001b[0m\u001b[0;34m*\u001b[0m\u001b[0margs\u001b[0m\u001b[0;34m,\u001b[0m \u001b[0;34m**\u001b[0m\u001b[0mkwargs\u001b[0m\u001b[0;34m)\u001b[0m\u001b[0;34m\u001b[0m\u001b[0;34m\u001b[0m\u001b[0m\n\u001b[0m\u001b[1;32m   1502\u001b[0m         \u001b[0;31m# Do not call functions when jit is used\u001b[0m\u001b[0;34m\u001b[0m\u001b[0;34m\u001b[0m\u001b[0m\n\u001b[1;32m   1503\u001b[0m         \u001b[0mfull_backward_hooks\u001b[0m\u001b[0;34m,\u001b[0m \u001b[0mnon_full_backward_hooks\u001b[0m \u001b[0;34m=\u001b[0m \u001b[0;34m[\u001b[0m\u001b[0;34m]\u001b[0m\u001b[0;34m,\u001b[0m \u001b[0;34m[\u001b[0m\u001b[0;34m]\u001b[0m\u001b[0;34m\u001b[0m\u001b[0;34m\u001b[0m\u001b[0m\n",
            "\u001b[0;32m/usr/local/lib/python3.10/dist-packages/torch/nn/modules/linear.py\u001b[0m in \u001b[0;36mforward\u001b[0;34m(self, input)\u001b[0m\n\u001b[1;32m    112\u001b[0m \u001b[0;34m\u001b[0m\u001b[0m\n\u001b[1;32m    113\u001b[0m     \u001b[0;32mdef\u001b[0m \u001b[0mforward\u001b[0m\u001b[0;34m(\u001b[0m\u001b[0mself\u001b[0m\u001b[0;34m,\u001b[0m \u001b[0minput\u001b[0m\u001b[0;34m:\u001b[0m \u001b[0mTensor\u001b[0m\u001b[0;34m)\u001b[0m \u001b[0;34m->\u001b[0m \u001b[0mTensor\u001b[0m\u001b[0;34m:\u001b[0m\u001b[0;34m\u001b[0m\u001b[0;34m\u001b[0m\u001b[0m\n\u001b[0;32m--> 114\u001b[0;31m         \u001b[0;32mreturn\u001b[0m \u001b[0mF\u001b[0m\u001b[0;34m.\u001b[0m\u001b[0mlinear\u001b[0m\u001b[0;34m(\u001b[0m\u001b[0minput\u001b[0m\u001b[0;34m,\u001b[0m \u001b[0mself\u001b[0m\u001b[0;34m.\u001b[0m\u001b[0mweight\u001b[0m\u001b[0;34m,\u001b[0m \u001b[0mself\u001b[0m\u001b[0;34m.\u001b[0m\u001b[0mbias\u001b[0m\u001b[0;34m)\u001b[0m\u001b[0;34m\u001b[0m\u001b[0;34m\u001b[0m\u001b[0m\n\u001b[0m\u001b[1;32m    115\u001b[0m \u001b[0;34m\u001b[0m\u001b[0m\n\u001b[1;32m    116\u001b[0m     \u001b[0;32mdef\u001b[0m \u001b[0mextra_repr\u001b[0m\u001b[0;34m(\u001b[0m\u001b[0mself\u001b[0m\u001b[0;34m)\u001b[0m \u001b[0;34m->\u001b[0m \u001b[0mstr\u001b[0m\u001b[0;34m:\u001b[0m\u001b[0;34m\u001b[0m\u001b[0;34m\u001b[0m\u001b[0m\n",
            "\u001b[0;31mRuntimeError\u001b[0m: mat1 and mat2 shapes cannot be multiplied (32x3 and 2798x1)"
          ]
        }
      ]
    },
    {
      "cell_type": "code",
      "source": [],
      "metadata": {
        "id": "6suo7Y_TXwqm"
      },
      "execution_count": null,
      "outputs": []
    }
  ]
}