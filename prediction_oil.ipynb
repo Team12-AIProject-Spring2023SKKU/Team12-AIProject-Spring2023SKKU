{
 "cells": [
  {
   "cell_type": "code",
   "execution_count": 186,
   "id": "af281167",
   "metadata": {
    "executionInfo": {
     "elapsed": 928,
     "status": "ok",
     "timestamp": 1684607901963,
     "user": {
      "displayName": "정홍준",
      "userId": "08449064025647521772"
     },
     "user_tz": -540
    },
    "id": "848c4621"
   },
   "outputs": [],
   "source": [
    "import pandas as pd\n",
    "import numpy as np\n",
    "from sklearn.preprocessing import MinMaxScaler\n",
    "from sklearn.preprocessing import StandardScaler\n",
    "from torch.utils.data import DataLoader, TensorDataset\n",
    "from sklearn.model_selection import train_test_split\n",
    "from matplotlib import pyplot as plt\n",
    "import torch\n",
    "import random\n",
    "from pytorchtools import EarlyStopping"
   ]
  },
  {
   "cell_type": "code",
   "execution_count": 187,
   "id": "8824d306",
   "metadata": {},
   "outputs": [],
   "source": [
    "df = pd.read_csv(\"~/python_project/AI_project/data/data_by_all_20230518.csv\")"
   ]
  },
  {
   "cell_type": "code",
   "execution_count": 188,
   "id": "ea6c7ddd",
   "metadata": {
    "executionInfo": {
     "elapsed": 2,
     "status": "ok",
     "timestamp": 1684607905562,
     "user": {
      "displayName": "정홍준",
      "userId": "08449064025647521772"
     },
     "user_tz": -540
    },
    "id": "64146c0e"
   },
   "outputs": [],
   "source": [
    "#월별 oil price data 생성\n",
    "oil = df[['ID', 'oil_price']]"
   ]
  },
  {
   "cell_type": "code",
   "execution_count": 189,
   "id": "5e987ea4",
   "metadata": {
    "colab": {
     "base_uri": "https://localhost:8080/",
     "height": 449
    },
    "executionInfo": {
     "elapsed": 2088,
     "status": "ok",
     "timestamp": 1684607907648,
     "user": {
      "displayName": "정홍준",
      "userId": "08449064025647521772"
     },
     "user_tz": -540
    },
    "id": "4a24517d",
    "outputId": "bf0d1a15-2338-4de8-a262-d4f2015ca237"
   },
   "outputs": [
    {
     "data": {
      "image/png": "[encoded data removed]",
      "text/plain": [
       "<Figure size 432x288 with 1 Axes>"
      ]
     },
     "metadata": {},
     "output_type": "display_data"
    }
   ],
   "source": [
    "#x축 ID(1900-01 ~ 2022-12), y축이 oil price인 그래프 생성\n",
    "oil.set_index(df['ID']).plot()\n",
    "plt.xlabel('date')\n",
    "plt.ylabel('oil_price')\n",
    "plt.show()"
   ]
  },
  {
   "cell_type": "code",
   "execution_count": 190,
   "id": "c8e1f692",
   "metadata": {
    "executionInfo": {
     "elapsed": 5,
     "status": "ok",
     "timestamp": 1684607907648,
     "user": {
      "displayName": "정홍준",
      "userId": "08449064025647521772"
     },
     "user_tz": -540
    },
    "id": "27f379fd"
   },
   "outputs": [],
   "source": [
    "#ID를 연, 월로 분리하고 int로 형변환해 [연, 월] 형태의 리스트 생성\n",
    "date_strings = np.array([date.split('-') for date in oil['ID']])\n",
    "dates = []\n",
    "for date_string in date_strings:\n",
    "    date = [int(val) for val in date_string]\n",
    "    dates.append(date)"
   ]
  },
  {
   "cell_type": "code",
   "execution_count": 191,
   "id": "0d6c33d5",
   "metadata": {
    "executionInfo": {
     "elapsed": 5,
     "status": "ok",
     "timestamp": 1684607907648,
     "user": {
      "displayName": "정홍준",
      "userId": "08449064025647521772"
     },
     "user_tz": -540
    },
    "id": "3zMzlzVjTEk3"
   },
   "outputs": [],
   "source": [
    "#input: 연 월, output(target): co2\n",
    "X = np.array(dates)\n",
    "y = oil['oil_price'].values"
   ]
  },
  {
   "cell_type": "code",
   "execution_count": 192,
   "id": "6f897bf5",
   "metadata": {
    "executionInfo": {
     "elapsed": 5,
     "status": "ok",
     "timestamp": 1684607907648,
     "user": {
      "displayName": "정홍준",
      "userId": "08449064025647521772"
     },
     "user_tz": -540
    },
    "id": "ab579bdd"
   },
   "outputs": [],
   "source": [
    "#input dimesion과 batch size, sequence 길이 설정\n",
    "seq_length = 12\n",
    "input_size = X.shape[1]\n",
    "batch_size = 4"
   ]
  },
  {
   "cell_type": "code",
   "execution_count": 193,
   "id": "04ab0dbf",
   "metadata": {
    "executionInfo": {
     "elapsed": 4,
     "status": "ok",
     "timestamp": 1684607907648,
     "user": {
      "displayName": "정홍준",
      "userId": "08449064025647521772"
     },
     "user_tz": -540
    },
    "id": "FWY0dTGCTGpq"
   },
   "outputs": [],
   "source": [
    "#원하는 sequence만큼 data를 이어줌 (num_data,sequence_length, input_size)형태)\n",
    "def data_to_seq(data, input_size, seq_length):\n",
    "    data_seq = np.array([])\n",
    "    for i in range(0, data.shape[0] - (seq_length - 1)):\n",
    "        data_seq = np.append(data_seq, data[i:i + seq_length])\n",
    "    return data_seq.reshape(-1, seq_length, input_size)"
   ]
  },
  {
   "cell_type": "code",
   "execution_count": 194,
   "id": "ca7dfd83",
   "metadata": {
    "executionInfo": {
     "elapsed": 4,
     "status": "ok",
     "timestamp": 1684607907648,
     "user": {
      "displayName": "정홍준",
      "userId": "08449064025647521772"
     },
     "user_tz": -540
    },
    "id": "tipKBA0hC5ua"
   },
   "outputs": [],
   "source": [
    "#Minmax scaler를 통해 normalize\n",
    "#나올 수 있는 모든 값들이 random하게 선택되었다는 가정하에 전체 데이터셋에 대하여 scaling 진행\n",
    "scaler = MinMaxScaler()\n",
    "scaler.fit(X)\n",
    "X_scaled = scaler.transform(X)"
   ]
  },
  {
   "cell_type": "code",
   "execution_count": 195,
   "id": "40a652f7",
   "metadata": {
    "executionInfo": {
     "elapsed": 4,
     "status": "ok",
     "timestamp": 1684607907648,
     "user": {
      "displayName": "정홍준",
      "userId": "08449064025647521772"
     },
     "user_tz": -540
    },
    "id": "909fa121"
   },
   "outputs": [],
   "source": [
    "#input data를 sequential하게 이어줌\n",
    "X_seq = data_to_seq(data = X_scaled, input_size = input_size,seq_length = seq_length)"
   ]
  },
  {
   "cell_type": "code",
   "execution_count": 196,
   "id": "b9461066",
   "metadata": {
    "executionInfo": {
     "elapsed": 5,
     "status": "ok",
     "timestamp": 1684607907649,
     "user": {
      "displayName": "정홍준",
      "userId": "08449064025647521772"
     },
     "user_tz": -540
    },
    "id": "4966343f"
   },
   "outputs": [],
   "source": [
    "#train, validation, test set 분리\n",
    "X_train, X_test, y_train, y_test = train_test_split(X_seq[:-1], y[seq_length:], test_size = 0.4, random_state = 0)\n",
    "X_val, X_test, y_val, y_test = train_test_split(X_test, y_test, test_size = 0.5, random_state = 0)"
   ]
  },
  {
   "cell_type": "code",
   "execution_count": 197,
   "id": "c45341d7",
   "metadata": {
    "executionInfo": {
     "elapsed": 5,
     "status": "ok",
     "timestamp": 1684607907649,
     "user": {
      "displayName": "정홍준",
      "userId": "08449064025647521772"
     },
     "user_tz": -540
    },
    "id": "0797dbc3"
   },
   "outputs": [],
   "source": [
    "X_train = torch.FloatTensor(X_train)\n",
    "X_val = torch.FloatTensor(X_val)\n",
    "X_test = torch.FloatTensor(X_test)\n",
    "y_train = torch.FloatTensor(y_train)\n",
    "y_val = torch.FloatTensor(y_val)\n",
    "y_test = torch.FloatTensor(y_test)"
   ]
  },
  {
   "cell_type": "code",
   "execution_count": 198,
   "id": "3a6ab6c4",
   "metadata": {
    "executionInfo": {
     "elapsed": 5,
     "status": "ok",
     "timestamp": 1684607907649,
     "user": {
      "displayName": "정홍준",
      "userId": "08449064025647521772"
     },
     "user_tz": -540
    },
    "id": "1eb1db07"
   },
   "outputs": [],
   "source": [
    "train = TensorDataset(X_train, y_train)\n",
    "train_dataloader = DataLoader(train, batch_size = batch_size, shuffle=True)\n",
    "\n",
    "validation = TensorDataset(X_val, y_val)\n",
    "valid_dataloader = DataLoader(validation, batch_size = batch_size, shuffle=False)\n",
    "\n",
    "test = TensorDataset(X_test, y_test)\n",
    "test_dataloader = DataLoader(test, batch_size = batch_size, shuffle=False)"
   ]
  },
  {
   "cell_type": "code",
   "execution_count": 199,
   "id": "d98f185a",
   "metadata": {
    "executionInfo": {
     "elapsed": 4,
     "status": "ok",
     "timestamp": 1684607907649,
     "user": {
      "displayName": "정홍준",
      "userId": "08449064025647521772"
     },
     "user_tz": -540
    },
    "id": "a9d2184a"
   },
   "outputs": [],
   "source": [
    "#LSTM\n",
    "class LSTM_model(torch.nn.Module):\n",
    "    def __init__(self, input_size, hidden_size, output_size, num_layers):\n",
    "        super(LSTM_model, self).__init__()\n",
    "        self.input_size = input_size\n",
    "        self.hidden_size = hidden_size\n",
    "        self.output_size = output_size\n",
    "        self.num_layers = num_layers\n",
    "        self.lstm = torch.nn.LSTM(\n",
    "            input_size=self.input_size,\n",
    "            hidden_size=self.hidden_size,\n",
    "            num_layers=self.num_layers,\n",
    "            batch_first=True\n",
    "        )\n",
    "\n",
    "        self.fc = torch.nn.Linear(self.hidden_size, self.output_size)\n",
    "\n",
    "    def forward(self, x):\n",
    "        x = x.to(device)\n",
    "        y, hidden = self.lstm(x)\n",
    "        y = y[:,-1,:]\n",
    "        y = self.fc(y)\n",
    "        return y.view(-1)"
   ]
  },
  {
   "cell_type": "code",
   "execution_count": 200,
   "id": "11a26e43",
   "metadata": {
    "executionInfo": {
     "elapsed": 4,
     "status": "ok",
     "timestamp": 1684607907649,
     "user": {
      "displayName": "정홍준",
      "userId": "08449064025647521772"
     },
     "user_tz": -540
    },
    "id": "21fc36af"
   },
   "outputs": [],
   "source": [
    "#RNN\n",
    "class RNN_model(torch.nn.Module):\n",
    "    def __init__(self,input_size, hidden_size, output_size, num_layers):\n",
    "        super(RNN_model, self).__init__()\n",
    "        self.input_size = input_size\n",
    "        self.hidden_size = hidden_size\n",
    "        self.output_size = output_size\n",
    "        self.num_layers = num_layers\n",
    "        self.rnn_layer = torch.nn.RNN(\n",
    "            input_size = self.input_size,\n",
    "            hidden_size = self.hidden_size, \n",
    "            num_layers = self.num_layers, \n",
    "            batch_first = True)\n",
    "        self.fc = torch.nn.Linear(hidden_size, output_size) \n",
    "    def forward(self,x):\n",
    "        x = x.to(device)\n",
    "        y, hidden = self.rnn_layer(x)\n",
    "        y = y[:,-1, :]\n",
    "        y = self.fc(y)\n",
    "        return y.view(-1)"
   ]
  },
  {
   "cell_type": "code",
   "execution_count": 201,
   "id": "2cbedbc4",
   "metadata": {
    "executionInfo": {
     "elapsed": 4,
     "status": "ok",
     "timestamp": 1684607907649,
     "user": {
      "displayName": "정홍준",
      "userId": "08449064025647521772"
     },
     "user_tz": -540
    },
    "id": "76525082"
   },
   "outputs": [],
   "source": [
    "#GRU\n",
    "class GRU_model(torch.nn.Module):\n",
    "    def __init__(self, input_size, hidden_size, output_size, num_layers):\n",
    "        super(GRU_model, self).__init__()\n",
    "        self.input_size = input_size\n",
    "        self.hidden_size = hidden_size\n",
    "        self.output_size = output_size\n",
    "        self.num_layers = num_layers\n",
    "        self.gru = torch.nn.GRU(\n",
    "            input_size=self.input_size,\n",
    "            hidden_size=self.hidden_size,\n",
    "            num_layers=self.num_layers,\n",
    "            batch_first=True\n",
    "        )\n",
    "\n",
    "        self.fc = torch.nn.Linear(self.hidden_size, self.output_size)\n",
    "\n",
    "    def forward(self, x):\n",
    "        x = x.to(device)\n",
    "        y, hidden = self.gru(x)\n",
    "        y = y[:,-1,:]\n",
    "        y = self.fc(y)\n",
    "        return y.view(-1)\n"
   ]
  },
  {
   "cell_type": "code",
   "execution_count": 202,
   "id": "e13a0812",
   "metadata": {},
   "outputs": [],
   "source": [
    "def validation(model, dataloader, loss_fn, device):\n",
    "    model.eval()\n",
    "    val_loss = 0\n",
    "    num_batch = len(dataloader)\n",
    "    with torch.no_grad():\n",
    "        for x, y_true  in dataloader:\n",
    "            x, y_true = x.to(device), y_true.to(device)\n",
    "            y_pred = model(x)\n",
    "            loss = loss_fn(y_true, y_pred)\n",
    "            val_loss += loss.item()\n",
    "    val_loss /= num_batch\n",
    "    return val_loss"
   ]
  },
  {
   "cell_type": "code",
   "execution_count": 203,
   "id": "a2c6da91",
   "metadata": {
    "executionInfo": {
     "elapsed": 4,
     "status": "ok",
     "timestamp": 1684607907649,
     "user": {
      "displayName": "정홍준",
      "userId": "08449064025647521772"
     },
     "user_tz": -540
    },
    "id": "acba1eb0"
   },
   "outputs": [],
   "source": [
    "def train(model, dataloader, eval_dataloader, loss_fn, optim, epochs, device, patience, verbose = False):\n",
    "    early_stopping = EarlyStopping(patience = patience, verbose = verbose)\n",
    "    num_batch = len(dataloader)\n",
    "    for epoch in range(1, epochs + 1):\n",
    "        model.train()\n",
    "        train_loss = 0\n",
    "        for x, y_true in dataloader:\n",
    "            x, y_true = x.to(device), y_true.to(device)\n",
    "            y_pred = model(x)\n",
    "            loss = loss_fn(y_true, y_pred)\n",
    "            train_loss += loss.item()\n",
    "            optim.zero_grad()\n",
    "            loss.backward()\n",
    "            optim.step()\n",
    "        train_loss /= num_batch\n",
    "        val_loss = validation(model, eval_dataloader, loss_fn, device)\n",
    "        \n",
    "        #patience만큼의 epoch동안 validation loss가 줄어들지 않을 시 early stopping\n",
    "        early_stopping(val_loss, model)\n",
    "        if early_stopping.early_stop:\n",
    "            print(f'Early stopping, Epoch: {epoch}, Train Loss: {train_loss:.8f}, Validation Loss: {val_loss:.8f}')\n",
    "            break\n",
    "        if epoch % 20 == 0:\n",
    "            print(f'Epoch: {epoch}, Train Loss: {train_loss:.8f}, Validation Loss: {val_loss:.8f}')\n",
    "    return train_loss"
   ]
  },
  {
   "cell_type": "code",
   "execution_count": 204,
   "id": "ce0b1b5a",
   "metadata": {
    "executionInfo": {
     "elapsed": 4,
     "status": "ok",
     "timestamp": 1684607907649,
     "user": {
      "displayName": "정홍준",
      "userId": "08449064025647521772"
     },
     "user_tz": -540
    },
    "id": "153413f8"
   },
   "outputs": [],
   "source": [
    "# learning late, hidden size, layer 수, output dimesion, epoch, device, patience, verbose 설정\n",
    "# patience: early stopping을 결정하는 validation loss가 연속해서 줄어들지 않는 epoch 수\n",
    "# verbose: True면 epoch마다 validation loss가 얼마나 줄었는지 출력됨\n",
    "lr = 0.001\n",
    "hidden_size = 10\n",
    "num_layers = 1\n",
    "output_size = 1\n",
    "epochs = 1000\n",
    "device = torch.device('cuda' if torch.cuda.is_available() else 'cpu')\n",
    "patience = 30\n",
    "verbose = False"
   ]
  },
  {
   "cell_type": "code",
   "execution_count": 205,
   "id": "40c61649",
   "metadata": {
    "executionInfo": {
     "elapsed": 4,
     "status": "ok",
     "timestamp": 1684607907649,
     "user": {
      "displayName": "정홍준",
      "userId": "08449064025647521772"
     },
     "user_tz": -540
    },
    "id": "1da9dc76"
   },
   "outputs": [],
   "source": [
    "#RNN 모델\n",
    "model_1 = RNN_model(input_size, hidden_size, output_size, num_layers).to(device)\n",
    "loss_func_1 = torch.nn.MSELoss().to(device)\n",
    "optim_1 = torch.optim.Adam(params=model_1.parameters(), lr = lr )\n"
   ]
  },
  {
   "cell_type": "code",
   "execution_count": 206,
   "id": "ebab9286",
   "metadata": {
    "executionInfo": {
     "elapsed": 3,
     "status": "ok",
     "timestamp": 1684607907649,
     "user": {
      "displayName": "정홍준",
      "userId": "08449064025647521772"
     },
     "user_tz": -540
    },
    "id": "6277c78e"
   },
   "outputs": [],
   "source": [
    "#LSTM 모델\n",
    "model_2 = LSTM_model(input_size, hidden_size, output_size, num_layers).to(device)\n",
    "loss_func_2 = torch.nn.MSELoss().to(device)\n",
    "optim_2 = torch.optim.Adam(params=model_2.parameters(), lr = lr )"
   ]
  },
  {
   "cell_type": "code",
   "execution_count": 207,
   "id": "576d249f",
   "metadata": {
    "executionInfo": {
     "elapsed": 3,
     "status": "ok",
     "timestamp": 1684607907649,
     "user": {
      "displayName": "정홍준",
      "userId": "08449064025647521772"
     },
     "user_tz": -540
    },
    "id": "2110b138"
   },
   "outputs": [],
   "source": [
    "#GRU 모델\n",
    "model_3 = GRU_model(input_size, hidden_size, output_size, num_layers).to(device)\n",
    "loss_func_3 = torch.nn.MSELoss().to(device)\n",
    "optim_3 = torch.optim.Adam(params=model_3.parameters(), lr = lr )"
   ]
  },
  {
   "cell_type": "code",
   "execution_count": 208,
   "id": "3cb345e5",
   "metadata": {
    "colab": {
     "base_uri": "https://localhost:8080/"
    },
    "executionInfo": {
     "elapsed": 270285,
     "status": "ok",
     "timestamp": 1684608177931,
     "user": {
      "displayName": "정홍준",
      "userId": "08449064025647521772"
     },
     "user_tz": -540
    },
    "id": "24c4dcc4",
    "outputId": "4334f301-64d8-4177-8970-c2aea1df79ff"
   },
   "outputs": [
    {
     "name": "stdout",
     "output_type": "stream",
     "text": [
      "Epoch: 20, Train Loss: 31833.93988731, Validation Loss: 36962.69651341\n",
      "Epoch: 40, Train Loss: 28872.96377508, Validation Loss: 33470.20535031\n",
      "Epoch: 60, Train Loss: 24225.78559466, Validation Loss: 28204.13428396\n",
      "EarlyStopping counter: 1 out of 30\n",
      "EarlyStopping counter: 1 out of 30\n",
      "Epoch: 80, Train Loss: 20323.97720171, Validation Loss: 23902.92687151\n",
      "EarlyStopping counter: 1 out of 30\n",
      "EarlyStopping counter: 1 out of 30\n",
      "EarlyStopping counter: 1 out of 30\n",
      "EarlyStopping counter: 1 out of 30\n",
      "EarlyStopping counter: 1 out of 30\n",
      "EarlyStopping counter: 1 out of 30\n",
      "Epoch: 100, Train Loss: 18491.14000228, Validation Loss: 21310.60795258\n",
      "EarlyStopping counter: 2 out of 30\n",
      "EarlyStopping counter: 1 out of 30\n",
      "EarlyStopping counter: 2 out of 30\n",
      "EarlyStopping counter: 3 out of 30\n",
      "EarlyStopping counter: 1 out of 30\n",
      "EarlyStopping counter: 1 out of 30\n",
      "EarlyStopping counter: 1 out of 30\n",
      "EarlyStopping counter: 2 out of 30\n",
      "EarlyStopping counter: 3 out of 30\n",
      "EarlyStopping counter: 4 out of 30\n",
      "EarlyStopping counter: 5 out of 30\n",
      "Epoch: 120, Train Loss: 16954.44641932, Validation Loss: 19336.62525179\n",
      "EarlyStopping counter: 6 out of 30\n",
      "EarlyStopping counter: 1 out of 30\n",
      "EarlyStopping counter: 2 out of 30\n",
      "EarlyStopping counter: 3 out of 30\n",
      "EarlyStopping counter: 4 out of 30\n",
      "EarlyStopping counter: 5 out of 30\n",
      "EarlyStopping counter: 1 out of 30\n",
      "EarlyStopping counter: 2 out of 30\n",
      "EarlyStopping counter: 3 out of 30\n",
      "EarlyStopping counter: 1 out of 30\n",
      "EarlyStopping counter: 2 out of 30\n",
      "Epoch: 140, Train Loss: 16454.91651534, Validation Loss: 18513.25389108\n",
      "EarlyStopping counter: 3 out of 30\n",
      "EarlyStopping counter: 4 out of 30\n",
      "EarlyStopping counter: 5 out of 30\n",
      "EarlyStopping counter: 1 out of 30\n",
      "EarlyStopping counter: 2 out of 30\n",
      "EarlyStopping counter: 3 out of 30\n",
      "EarlyStopping counter: 1 out of 30\n",
      "EarlyStopping counter: 2 out of 30\n",
      "EarlyStopping counter: 3 out of 30\n",
      "EarlyStopping counter: 1 out of 30\n",
      "EarlyStopping counter: 2 out of 30\n",
      "EarlyStopping counter: 1 out of 30\n",
      "EarlyStopping counter: 2 out of 30\n",
      "Epoch: 160, Train Loss: 13373.66685580, Validation Loss: 15601.15262111\n",
      "EarlyStopping counter: 1 out of 30\n",
      "EarlyStopping counter: 1 out of 30\n",
      "EarlyStopping counter: 2 out of 30\n",
      "EarlyStopping counter: 3 out of 30\n",
      "EarlyStopping counter: 4 out of 30\n",
      "EarlyStopping counter: 5 out of 30\n",
      "EarlyStopping counter: 6 out of 30\n",
      "EarlyStopping counter: 7 out of 30\n",
      "EarlyStopping counter: 8 out of 30\n",
      "EarlyStopping counter: 9 out of 30\n",
      "EarlyStopping counter: 10 out of 30\n",
      "EarlyStopping counter: 1 out of 30\n",
      "Epoch: 180, Train Loss: 14797.10024538, Validation Loss: 14988.73987802\n",
      "EarlyStopping counter: 1 out of 30\n",
      "EarlyStopping counter: 1 out of 30\n",
      "EarlyStopping counter: 2 out of 30\n",
      "EarlyStopping counter: 3 out of 30\n",
      "EarlyStopping counter: 4 out of 30\n",
      "EarlyStopping counter: 1 out of 30\n",
      "EarlyStopping counter: 2 out of 30\n",
      "EarlyStopping counter: 3 out of 30\n",
      "EarlyStopping counter: 1 out of 30\n",
      "Epoch: 200, Train Loss: 10359.22328388, Validation Loss: 12060.67914941\n",
      "EarlyStopping counter: 1 out of 30\n",
      "EarlyStopping counter: 1 out of 30\n",
      "EarlyStopping counter: 2 out of 30\n",
      "EarlyStopping counter: 3 out of 30\n",
      "EarlyStopping counter: 4 out of 30\n",
      "EarlyStopping counter: 5 out of 30\n",
      "EarlyStopping counter: 6 out of 30\n",
      "EarlyStopping counter: 1 out of 30\n",
      "EarlyStopping counter: 1 out of 30\n",
      "Epoch: 220, Train Loss: 8795.01213191, Validation Loss: 10449.54062390\n",
      "EarlyStopping counter: 1 out of 30\n",
      "EarlyStopping counter: 1 out of 30\n",
      "EarlyStopping counter: 1 out of 30\n",
      "EarlyStopping counter: 2 out of 30\n",
      "EarlyStopping counter: 3 out of 30\n",
      "EarlyStopping counter: 4 out of 30\n",
      "EarlyStopping counter: 1 out of 30\n",
      "Epoch: 240, Train Loss: 7663.87808986, Validation Loss: 9797.54620167\n",
      "EarlyStopping counter: 2 out of 30\n",
      "EarlyStopping counter: 1 out of 30\n",
      "EarlyStopping counter: 2 out of 30\n",
      "EarlyStopping counter: 3 out of 30\n",
      "EarlyStopping counter: 1 out of 30\n",
      "EarlyStopping counter: 2 out of 30\n",
      "EarlyStopping counter: 3 out of 30\n",
      "EarlyStopping counter: 4 out of 30\n",
      "EarlyStopping counter: 5 out of 30\n",
      "EarlyStopping counter: 1 out of 30\n",
      "EarlyStopping counter: 2 out of 30\n",
      "EarlyStopping counter: 3 out of 30\n",
      "EarlyStopping counter: 4 out of 30\n",
      "EarlyStopping counter: 5 out of 30\n",
      "EarlyStopping counter: 1 out of 30\n",
      "Epoch: 260, Train Loss: 9066.86132990, Validation Loss: 9179.39094238\n",
      "EarlyStopping counter: 2 out of 30\n",
      "EarlyStopping counter: 3 out of 30\n",
      "EarlyStopping counter: 4 out of 30\n",
      "EarlyStopping counter: 5 out of 30\n",
      "EarlyStopping counter: 6 out of 30\n",
      "EarlyStopping counter: 7 out of 30\n",
      "EarlyStopping counter: 8 out of 30\n",
      "EarlyStopping counter: 1 out of 30\n",
      "EarlyStopping counter: 1 out of 30\n",
      "EarlyStopping counter: 1 out of 30\n",
      "EarlyStopping counter: 2 out of 30\n",
      "EarlyStopping counter: 1 out of 30\n",
      "EarlyStopping counter: 2 out of 30\n",
      "EarlyStopping counter: 3 out of 30\n",
      "EarlyStopping counter: 4 out of 30\n",
      "Epoch: 280, Train Loss: 6125.07740603, Validation Loss: 7278.81970421\n",
      "EarlyStopping counter: 1 out of 30\n",
      "EarlyStopping counter: 2 out of 30\n",
      "EarlyStopping counter: 1 out of 30\n",
      "EarlyStopping counter: 2 out of 30\n",
      "EarlyStopping counter: 3 out of 30\n",
      "EarlyStopping counter: 4 out of 30\n",
      "EarlyStopping counter: 5 out of 30\n",
      "EarlyStopping counter: 6 out of 30\n",
      "EarlyStopping counter: 1 out of 30\n",
      "EarlyStopping counter: 2 out of 30\n",
      "EarlyStopping counter: 3 out of 30\n",
      "EarlyStopping counter: 4 out of 30\n",
      "EarlyStopping counter: 5 out of 30\n",
      "EarlyStopping counter: 6 out of 30\n",
      "EarlyStopping counter: 1 out of 30\n",
      "Epoch: 300, Train Loss: 5719.00505810, Validation Loss: 6951.11359288\n",
      "EarlyStopping counter: 2 out of 30\n",
      "EarlyStopping counter: 3 out of 30\n",
      "EarlyStopping counter: 4 out of 30\n",
      "EarlyStopping counter: 5 out of 30\n",
      "EarlyStopping counter: 6 out of 30\n",
      "EarlyStopping counter: 7 out of 30\n",
      "EarlyStopping counter: 8 out of 30\n",
      "EarlyStopping counter: 9 out of 30\n",
      "EarlyStopping counter: 10 out of 30\n",
      "EarlyStopping counter: 1 out of 30\n",
      "EarlyStopping counter: 2 out of 30\n",
      "EarlyStopping counter: 3 out of 30\n",
      "EarlyStopping counter: 4 out of 30\n",
      "EarlyStopping counter: 5 out of 30\n",
      "EarlyStopping counter: 6 out of 30\n",
      "EarlyStopping counter: 7 out of 30\n",
      "EarlyStopping counter: 8 out of 30\n",
      "EarlyStopping counter: 9 out of 30\n",
      "EarlyStopping counter: 10 out of 30\n",
      "Epoch: 320, Train Loss: 5657.54550048, Validation Loss: 6988.52458328\n",
      "EarlyStopping counter: 11 out of 30\n",
      "EarlyStopping counter: 1 out of 30\n",
      "EarlyStopping counter: 2 out of 30\n",
      "EarlyStopping counter: 3 out of 30\n",
      "EarlyStopping counter: 4 out of 30\n",
      "EarlyStopping counter: 5 out of 30\n",
      "EarlyStopping counter: 6 out of 30\n",
      "EarlyStopping counter: 7 out of 30\n",
      "EarlyStopping counter: 8 out of 30\n",
      "EarlyStopping counter: 1 out of 30\n",
      "EarlyStopping counter: 2 out of 30\n",
      "EarlyStopping counter: 3 out of 30\n",
      "EarlyStopping counter: 4 out of 30\n",
      "EarlyStopping counter: 5 out of 30\n",
      "EarlyStopping counter: 6 out of 30\n",
      "EarlyStopping counter: 7 out of 30\n",
      "EarlyStopping counter: 8 out of 30\n",
      "EarlyStopping counter: 9 out of 30\n",
      "Epoch: 340, Train Loss: 5169.68419458, Validation Loss: 6366.91144459\n",
      "EarlyStopping counter: 10 out of 30\n",
      "EarlyStopping counter: 11 out of 30\n",
      "EarlyStopping counter: 12 out of 30\n",
      "EarlyStopping counter: 13 out of 30\n",
      "EarlyStopping counter: 14 out of 30\n",
      "EarlyStopping counter: 1 out of 30\n",
      "EarlyStopping counter: 2 out of 30\n",
      "EarlyStopping counter: 1 out of 30\n",
      "EarlyStopping counter: 2 out of 30\n",
      "EarlyStopping counter: 3 out of 30\n",
      "EarlyStopping counter: 4 out of 30\n",
      "EarlyStopping counter: 1 out of 30\n",
      "Epoch: 360, Train Loss: 4944.26313323, Validation Loss: 5765.52044740\n",
      "EarlyStopping counter: 1 out of 30\n",
      "EarlyStopping counter: 2 out of 30\n",
      "EarlyStopping counter: 3 out of 30\n",
      "EarlyStopping counter: 4 out of 30\n",
      "EarlyStopping counter: 5 out of 30\n",
      "EarlyStopping counter: 1 out of 30\n",
      "EarlyStopping counter: 2 out of 30\n",
      "EarlyStopping counter: 3 out of 30\n",
      "EarlyStopping counter: 4 out of 30\n",
      "EarlyStopping counter: 5 out of 30\n",
      "EarlyStopping counter: 6 out of 30\n",
      "EarlyStopping counter: 7 out of 30\n",
      "EarlyStopping counter: 8 out of 30\n",
      "EarlyStopping counter: 9 out of 30\n",
      "EarlyStopping counter: 10 out of 30\n",
      "EarlyStopping counter: 11 out of 30\n",
      "EarlyStopping counter: 12 out of 30\n",
      "Epoch: 380, Train Loss: 12321.78472069, Validation Loss: 14635.45056255\n",
      "EarlyStopping counter: 13 out of 30\n",
      "EarlyStopping counter: 14 out of 30\n",
      "EarlyStopping counter: 15 out of 30\n",
      "EarlyStopping counter: 16 out of 30\n",
      "EarlyStopping counter: 17 out of 30\n",
      "EarlyStopping counter: 18 out of 30\n",
      "EarlyStopping counter: 19 out of 30\n",
      "EarlyStopping counter: 20 out of 30\n",
      "EarlyStopping counter: 21 out of 30\n",
      "EarlyStopping counter: 22 out of 30\n",
      "EarlyStopping counter: 23 out of 30\n",
      "EarlyStopping counter: 24 out of 30\n",
      "EarlyStopping counter: 25 out of 30\n",
      "EarlyStopping counter: 26 out of 30\n",
      "EarlyStopping counter: 27 out of 30\n",
      "EarlyStopping counter: 28 out of 30\n",
      "EarlyStopping counter: 29 out of 30\n",
      "EarlyStopping counter: 30 out of 30\n",
      "Early stopping, Epoch: 398, Train Loss: 4765.01613127, Validation Loss: 6083.50188557\n"
     ]
    },
    {
     "data": {
      "text/plain": [
       "4765.0161312666805"
      ]
     },
     "execution_count": 208,
     "metadata": {},
     "output_type": "execute_result"
    }
   ],
   "source": [
    "#RNN 모델 training\n",
    "train(model = model_1, dataloader = train_dataloader, eval_dataloader = valid_dataloader, loss_fn = loss_func_1, \n",
    "      optim = optim_1, epochs = epochs, device = device, patience = patience, verbose = verbose)"
   ]
  },
  {
   "cell_type": "code",
   "execution_count": 209,
   "id": "432fba02",
   "metadata": {
    "colab": {
     "base_uri": "https://localhost:8080/"
    },
    "executionInfo": {
     "elapsed": 266312,
     "status": "ok",
     "timestamp": 1684608444236,
     "user": {
      "displayName": "정홍준",
      "userId": "08449064025647521772"
     },
     "user_tz": -540
    },
    "id": "04c20895",
    "outputId": "8042c1f0-60c2-4376-d565-b139d196f051"
   },
   "outputs": [
    {
     "name": "stdout",
     "output_type": "stream",
     "text": [
      "Epoch: 20, Train Loss: 31243.15317505, Validation Loss: 36174.89818869\n",
      "EarlyStopping counter: 1 out of 30\n",
      "Epoch: 40, Train Loss: 25982.50409053, Validation Loss: 30281.90245205\n",
      "EarlyStopping counter: 1 out of 30\n",
      "Epoch: 60, Train Loss: 21778.95586076, Validation Loss: 25461.69595716\n",
      "EarlyStopping counter: 1 out of 30\n",
      "EarlyStopping counter: 1 out of 30\n",
      "Epoch: 80, Train Loss: 18425.85217170, Validation Loss: 21822.35318448\n",
      "EarlyStopping counter: 1 out of 30\n",
      "EarlyStopping counter: 1 out of 30\n",
      "EarlyStopping counter: 1 out of 30\n",
      "EarlyStopping counter: 1 out of 30\n",
      "Epoch: 100, Train Loss: 16181.81857510, Validation Loss: 18965.70599633\n",
      "EarlyStopping counter: 1 out of 30\n",
      "EarlyStopping counter: 1 out of 30\n",
      "EarlyStopping counter: 1 out of 30\n",
      "EarlyStopping counter: 1 out of 30\n",
      "Epoch: 120, Train Loss: 13924.83447684, Validation Loss: 16578.41561899\n",
      "EarlyStopping counter: 1 out of 30\n",
      "EarlyStopping counter: 1 out of 30\n",
      "Epoch: 140, Train Loss: 12025.86920271, Validation Loss: 14214.63172704\n",
      "EarlyStopping counter: 1 out of 30\n",
      "EarlyStopping counter: 2 out of 30\n",
      "EarlyStopping counter: 1 out of 30\n",
      "EarlyStopping counter: 2 out of 30\n",
      "EarlyStopping counter: 1 out of 30\n",
      "EarlyStopping counter: 1 out of 30\n",
      "EarlyStopping counter: 1 out of 30\n",
      "EarlyStopping counter: 2 out of 30\n",
      "Epoch: 160, Train Loss: 10327.46479055, Validation Loss: 12130.97154225\n",
      "EarlyStopping counter: 1 out of 30\n",
      "EarlyStopping counter: 1 out of 30\n",
      "EarlyStopping counter: 2 out of 30\n",
      "EarlyStopping counter: 3 out of 30\n",
      "EarlyStopping counter: 1 out of 30\n",
      "EarlyStopping counter: 2 out of 30\n",
      "Epoch: 180, Train Loss: 8667.47330649, Validation Loss: 10207.68578385\n",
      "EarlyStopping counter: 1 out of 30\n",
      "EarlyStopping counter: 1 out of 30\n",
      "EarlyStopping counter: 1 out of 30\n",
      "EarlyStopping counter: 1 out of 30\n",
      "EarlyStopping counter: 2 out of 30\n",
      "EarlyStopping counter: 3 out of 30\n",
      "EarlyStopping counter: 1 out of 30\n",
      "EarlyStopping counter: 2 out of 30\n",
      "EarlyStopping counter: 1 out of 30\n",
      "EarlyStopping counter: 2 out of 30\n",
      "EarlyStopping counter: 1 out of 30\n",
      "Epoch: 200, Train Loss: 7476.80476782, Validation Loss: 8789.49859088\n",
      "EarlyStopping counter: 1 out of 30\n",
      "EarlyStopping counter: 1 out of 30\n",
      "EarlyStopping counter: 2 out of 30\n",
      "EarlyStopping counter: 1 out of 30\n",
      "EarlyStopping counter: 1 out of 30\n",
      "EarlyStopping counter: 2 out of 30\n",
      "EarlyStopping counter: 1 out of 30\n",
      "EarlyStopping counter: 2 out of 30\n",
      "EarlyStopping counter: 1 out of 30\n",
      "EarlyStopping counter: 1 out of 30\n",
      "Epoch: 220, Train Loss: 6349.30239927, Validation Loss: 7541.10928679\n",
      "EarlyStopping counter: 1 out of 30\n",
      "EarlyStopping counter: 2 out of 30\n",
      "EarlyStopping counter: 3 out of 30\n",
      "EarlyStopping counter: 1 out of 30\n",
      "EarlyStopping counter: 2 out of 30\n",
      "EarlyStopping counter: 1 out of 30\n",
      "EarlyStopping counter: 1 out of 30\n",
      "EarlyStopping counter: 1 out of 30\n",
      "EarlyStopping counter: 1 out of 30\n",
      "EarlyStopping counter: 2 out of 30\n",
      "EarlyStopping counter: 3 out of 30\n",
      "Epoch: 240, Train Loss: 5436.19308934, Validation Loss: 6545.82055346\n",
      "EarlyStopping counter: 1 out of 30\n",
      "EarlyStopping counter: 1 out of 30\n",
      "EarlyStopping counter: 2 out of 30\n",
      "EarlyStopping counter: 3 out of 30\n",
      "EarlyStopping counter: 1 out of 30\n",
      "EarlyStopping counter: 2 out of 30\n",
      "EarlyStopping counter: 3 out of 30\n",
      "EarlyStopping counter: 4 out of 30\n",
      "EarlyStopping counter: 1 out of 30\n",
      "EarlyStopping counter: 2 out of 30\n",
      "EarlyStopping counter: 3 out of 30\n",
      "EarlyStopping counter: 4 out of 30\n",
      "EarlyStopping counter: 1 out of 30\n",
      "EarlyStopping counter: 2 out of 30\n",
      "Epoch: 260, Train Loss: 4684.86494991, Validation Loss: 5884.21231790\n",
      "EarlyStopping counter: 1 out of 30\n",
      "EarlyStopping counter: 2 out of 30\n",
      "EarlyStopping counter: 1 out of 30\n",
      "EarlyStopping counter: 1 out of 30\n",
      "EarlyStopping counter: 2 out of 30\n",
      "EarlyStopping counter: 3 out of 30\n",
      "EarlyStopping counter: 1 out of 30\n",
      "EarlyStopping counter: 1 out of 30\n",
      "EarlyStopping counter: 2 out of 30\n",
      "EarlyStopping counter: 1 out of 30\n",
      "EarlyStopping counter: 2 out of 30\n",
      "Epoch: 280, Train Loss: 4162.23017836, Validation Loss: 5088.91077994\n",
      "EarlyStopping counter: 1 out of 30\n",
      "EarlyStopping counter: 2 out of 30\n",
      "EarlyStopping counter: 1 out of 30\n",
      "EarlyStopping counter: 1 out of 30\n",
      "EarlyStopping counter: 2 out of 30\n",
      "EarlyStopping counter: 3 out of 30\n",
      "EarlyStopping counter: 4 out of 30\n",
      "EarlyStopping counter: 5 out of 30\n",
      "EarlyStopping counter: 1 out of 30\n",
      "EarlyStopping counter: 1 out of 30\n",
      "EarlyStopping counter: 2 out of 30\n",
      "Epoch: 300, Train Loss: 3897.69451121, Validation Loss: 4662.58212521\n",
      "EarlyStopping counter: 1 out of 30\n",
      "EarlyStopping counter: 2 out of 30\n",
      "EarlyStopping counter: 1 out of 30\n",
      "EarlyStopping counter: 2 out of 30\n",
      "EarlyStopping counter: 1 out of 30\n",
      "EarlyStopping counter: 2 out of 30\n",
      "EarlyStopping counter: 3 out of 30\n",
      "EarlyStopping counter: 4 out of 30\n",
      "EarlyStopping counter: 5 out of 30\n",
      "EarlyStopping counter: 1 out of 30\n",
      "EarlyStopping counter: 2 out of 30\n",
      "EarlyStopping counter: 1 out of 30\n",
      "EarlyStopping counter: 2 out of 30\n",
      "Epoch: 320, Train Loss: 3833.27391190, Validation Loss: 4693.28166639\n",
      "EarlyStopping counter: 1 out of 30\n",
      "EarlyStopping counter: 2 out of 30\n",
      "EarlyStopping counter: 3 out of 30\n",
      "EarlyStopping counter: 1 out of 30\n",
      "EarlyStopping counter: 2 out of 30\n",
      "EarlyStopping counter: 1 out of 30\n",
      "EarlyStopping counter: 2 out of 30\n",
      "EarlyStopping counter: 3 out of 30\n",
      "EarlyStopping counter: 1 out of 30\n",
      "EarlyStopping counter: 2 out of 30\n",
      "EarlyStopping counter: 3 out of 30\n",
      "EarlyStopping counter: 4 out of 30\n",
      "EarlyStopping counter: 5 out of 30\n",
      "EarlyStopping counter: 6 out of 30\n",
      "EarlyStopping counter: 1 out of 30\n",
      "Epoch: 340, Train Loss: 3379.22842548, Validation Loss: 4207.30575687\n",
      "EarlyStopping counter: 1 out of 30\n",
      "EarlyStopping counter: 2 out of 30\n",
      "EarlyStopping counter: 3 out of 30\n",
      "EarlyStopping counter: 4 out of 30\n",
      "EarlyStopping counter: 5 out of 30\n",
      "EarlyStopping counter: 6 out of 30\n",
      "EarlyStopping counter: 1 out of 30\n",
      "EarlyStopping counter: 2 out of 30\n",
      "EarlyStopping counter: 3 out of 30\n",
      "EarlyStopping counter: 1 out of 30\n",
      "EarlyStopping counter: 2 out of 30\n",
      "EarlyStopping counter: 3 out of 30\n",
      "EarlyStopping counter: 4 out of 30\n",
      "EarlyStopping counter: 5 out of 30\n",
      "EarlyStopping counter: 6 out of 30\n",
      "EarlyStopping counter: 7 out of 30\n",
      "Epoch: 360, Train Loss: 3382.01357933, Validation Loss: 4048.06931309\n",
      "EarlyStopping counter: 1 out of 30\n",
      "EarlyStopping counter: 2 out of 30\n",
      "EarlyStopping counter: 3 out of 30\n",
      "EarlyStopping counter: 4 out of 30\n",
      "EarlyStopping counter: 5 out of 30\n",
      "EarlyStopping counter: 1 out of 30\n",
      "EarlyStopping counter: 1 out of 30\n",
      "EarlyStopping counter: 2 out of 30\n",
      "EarlyStopping counter: 3 out of 30\n",
      "EarlyStopping counter: 4 out of 30\n",
      "EarlyStopping counter: 5 out of 30\n",
      "EarlyStopping counter: 6 out of 30\n",
      "EarlyStopping counter: 7 out of 30\n",
      "EarlyStopping counter: 1 out of 30\n",
      "Epoch: 380, Train Loss: 3097.97761420, Validation Loss: 3804.73073473\n",
      "EarlyStopping counter: 1 out of 30\n",
      "EarlyStopping counter: 2 out of 30\n",
      "EarlyStopping counter: 3 out of 30\n",
      "EarlyStopping counter: 4 out of 30\n",
      "EarlyStopping counter: 5 out of 30\n",
      "EarlyStopping counter: 6 out of 30\n",
      "EarlyStopping counter: 7 out of 30\n",
      "EarlyStopping counter: 8 out of 30\n",
      "EarlyStopping counter: 9 out of 30\n",
      "EarlyStopping counter: 10 out of 30\n",
      "EarlyStopping counter: 11 out of 30\n",
      "EarlyStopping counter: 1 out of 30\n",
      "EarlyStopping counter: 2 out of 30\n",
      "EarlyStopping counter: 3 out of 30\n",
      "EarlyStopping counter: 4 out of 30\n",
      "EarlyStopping counter: 5 out of 30\n",
      "EarlyStopping counter: 6 out of 30\n",
      "Epoch: 400, Train Loss: 3084.53874113, Validation Loss: 3738.22407640\n",
      "EarlyStopping counter: 1 out of 30\n",
      "EarlyStopping counter: 1 out of 30\n",
      "EarlyStopping counter: 2 out of 30\n",
      "EarlyStopping counter: 3 out of 30\n",
      "EarlyStopping counter: 4 out of 30\n",
      "EarlyStopping counter: 5 out of 30\n",
      "EarlyStopping counter: 6 out of 30\n",
      "EarlyStopping counter: 7 out of 30\n",
      "EarlyStopping counter: 8 out of 30\n",
      "EarlyStopping counter: 1 out of 30\n",
      "EarlyStopping counter: 2 out of 30\n",
      "EarlyStopping counter: 3 out of 30\n",
      "EarlyStopping counter: 4 out of 30\n",
      "EarlyStopping counter: 5 out of 30\n",
      "EarlyStopping counter: 1 out of 30\n",
      "EarlyStopping counter: 2 out of 30\n",
      "EarlyStopping counter: 3 out of 30\n",
      "Epoch: 420, Train Loss: 3068.50196389, Validation Loss: 4172.36106062\n",
      "EarlyStopping counter: 4 out of 30\n",
      "EarlyStopping counter: 5 out of 30\n",
      "EarlyStopping counter: 6 out of 30\n",
      "EarlyStopping counter: 1 out of 30\n",
      "EarlyStopping counter: 2 out of 30\n",
      "EarlyStopping counter: 3 out of 30\n",
      "EarlyStopping counter: 4 out of 30\n",
      "EarlyStopping counter: 5 out of 30\n",
      "EarlyStopping counter: 6 out of 30\n",
      "EarlyStopping counter: 1 out of 30\n",
      "EarlyStopping counter: 2 out of 30\n",
      "EarlyStopping counter: 3 out of 30\n",
      "EarlyStopping counter: 4 out of 30\n",
      "EarlyStopping counter: 5 out of 30\n",
      "EarlyStopping counter: 6 out of 30\n",
      "EarlyStopping counter: 7 out of 30\n",
      "EarlyStopping counter: 8 out of 30\n",
      "EarlyStopping counter: 9 out of 30\n",
      "Epoch: 440, Train Loss: 2927.32617562, Validation Loss: 4495.16867214\n",
      "EarlyStopping counter: 10 out of 30\n",
      "EarlyStopping counter: 11 out of 30\n",
      "EarlyStopping counter: 12 out of 30\n",
      "EarlyStopping counter: 13 out of 30\n",
      "EarlyStopping counter: 14 out of 30\n",
      "EarlyStopping counter: 1 out of 30\n",
      "EarlyStopping counter: 2 out of 30\n",
      "EarlyStopping counter: 1 out of 30\n",
      "EarlyStopping counter: 2 out of 30\n",
      "EarlyStopping counter: 3 out of 30\n",
      "EarlyStopping counter: 4 out of 30\n",
      "EarlyStopping counter: 5 out of 30\n",
      "EarlyStopping counter: 6 out of 30\n",
      "EarlyStopping counter: 7 out of 30\n",
      "EarlyStopping counter: 8 out of 30\n",
      "EarlyStopping counter: 9 out of 30\n",
      "EarlyStopping counter: 1 out of 30\n",
      "Epoch: 460, Train Loss: 2972.55640372, Validation Loss: 3663.78795327\n",
      "EarlyStopping counter: 2 out of 30\n",
      "EarlyStopping counter: 3 out of 30\n",
      "EarlyStopping counter: 1 out of 30\n",
      "EarlyStopping counter: 2 out of 30\n",
      "EarlyStopping counter: 3 out of 30\n",
      "EarlyStopping counter: 4 out of 30\n",
      "EarlyStopping counter: 5 out of 30\n",
      "EarlyStopping counter: 6 out of 30\n",
      "EarlyStopping counter: 7 out of 30\n",
      "EarlyStopping counter: 8 out of 30\n",
      "EarlyStopping counter: 9 out of 30\n",
      "EarlyStopping counter: 10 out of 30\n",
      "EarlyStopping counter: 11 out of 30\n",
      "EarlyStopping counter: 12 out of 30\n",
      "EarlyStopping counter: 13 out of 30\n",
      "EarlyStopping counter: 14 out of 30\n",
      "EarlyStopping counter: 15 out of 30\n",
      "EarlyStopping counter: 16 out of 30\n",
      "EarlyStopping counter: 17 out of 30\n",
      "Epoch: 480, Train Loss: 2860.03930029, Validation Loss: 4211.33573111\n",
      "EarlyStopping counter: 18 out of 30\n",
      "EarlyStopping counter: 19 out of 30\n",
      "EarlyStopping counter: 20 out of 30\n",
      "EarlyStopping counter: 21 out of 30\n",
      "EarlyStopping counter: 22 out of 30\n",
      "EarlyStopping counter: 23 out of 30\n",
      "EarlyStopping counter: 24 out of 30\n",
      "EarlyStopping counter: 25 out of 30\n",
      "EarlyStopping counter: 26 out of 30\n",
      "EarlyStopping counter: 27 out of 30\n",
      "EarlyStopping counter: 28 out of 30\n",
      "EarlyStopping counter: 29 out of 30\n",
      "EarlyStopping counter: 30 out of 30\n",
      "Early stopping, Epoch: 493, Train Loss: 3237.12107674, Validation Loss: 3675.31353686\n"
     ]
    },
    {
     "data": {
      "text/plain": [
       "3237.1210767380217"
      ]
     },
     "execution_count": 209,
     "metadata": {},
     "output_type": "execute_result"
    }
   ],
   "source": [
    "#LSTM 모델 training\n",
    "train(model = model_2, dataloader = train_dataloader, eval_dataloader = valid_dataloader, loss_fn = loss_func_2, \n",
    "      optim = optim_2, epochs = epochs, device = device, patience = patience, verbose = verbose)"
   ]
  },
  {
   "cell_type": "code",
   "execution_count": 210,
   "id": "c20f2712",
   "metadata": {
    "colab": {
     "base_uri": "https://localhost:8080/"
    },
    "executionInfo": {
     "elapsed": 262650,
     "status": "ok",
     "timestamp": 1684608706880,
     "user": {
      "displayName": "정홍준",
      "userId": "08449064025647521772"
     },
     "user_tz": -540
    },
    "id": "320d5eae",
    "outputId": "1b737dad-897f-44ee-9917-5602a224c1aa"
   },
   "outputs": [
    {
     "name": "stdout",
     "output_type": "stream",
     "text": [
      "Epoch: 20, Train Loss: 32008.51765067, Validation Loss: 36984.44351691\n",
      "Epoch: 40, Train Loss: 27547.44728370, Validation Loss: 31806.52149768\n",
      "Epoch: 60, Train Loss: 22626.52653365, Validation Loss: 26510.35113939\n",
      "Epoch: 80, Train Loss: 19063.32235220, Validation Loss: 22518.19229405\n",
      "EarlyStopping counter: 1 out of 30\n",
      "Epoch: 100, Train Loss: 16471.89510139, Validation Loss: 19484.29986821\n",
      "EarlyStopping counter: 1 out of 30\n",
      "Epoch: 120, Train Loss: 14677.96189840, Validation Loss: 17300.87548551\n",
      "EarlyStopping counter: 1 out of 30\n",
      "EarlyStopping counter: 1 out of 30\n",
      "Epoch: 140, Train Loss: 13370.57753212, Validation Loss: 15881.92630194\n",
      "EarlyStopping counter: 1 out of 30\n",
      "EarlyStopping counter: 1 out of 30\n",
      "EarlyStopping counter: 1 out of 30\n",
      "Epoch: 160, Train Loss: 12572.06395743, Validation Loss: 14783.85935141\n",
      "EarlyStopping counter: 1 out of 30\n",
      "EarlyStopping counter: 1 out of 30\n",
      "EarlyStopping counter: 1 out of 30\n",
      "EarlyStopping counter: 2 out of 30\n",
      "EarlyStopping counter: 1 out of 30\n",
      "EarlyStopping counter: 1 out of 30\n",
      "EarlyStopping counter: 2 out of 30\n",
      "Epoch: 180, Train Loss: 10721.34762704, Validation Loss: 12623.34802165\n",
      "EarlyStopping counter: 1 out of 30\n",
      "EarlyStopping counter: 1 out of 30\n",
      "EarlyStopping counter: 1 out of 30\n",
      "EarlyStopping counter: 1 out of 30\n",
      "Epoch: 200, Train Loss: 8969.45375998, Validation Loss: 10744.43479633\n",
      "EarlyStopping counter: 1 out of 30\n",
      "EarlyStopping counter: 1 out of 30\n",
      "EarlyStopping counter: 1 out of 30\n",
      "EarlyStopping counter: 1 out of 30\n",
      "EarlyStopping counter: 2 out of 30\n",
      "EarlyStopping counter: 3 out of 30\n",
      "EarlyStopping counter: 1 out of 30\n",
      "Epoch: 220, Train Loss: 7627.07187506, Validation Loss: 9322.75629544\n",
      "EarlyStopping counter: 2 out of 30\n",
      "EarlyStopping counter: 1 out of 30\n",
      "EarlyStopping counter: 1 out of 30\n",
      "EarlyStopping counter: 1 out of 30\n",
      "EarlyStopping counter: 2 out of 30\n",
      "EarlyStopping counter: 3 out of 30\n",
      "Epoch: 240, Train Loss: 6536.23583622, Validation Loss: 7868.75520092\n",
      "EarlyStopping counter: 1 out of 30\n",
      "EarlyStopping counter: 1 out of 30\n",
      "EarlyStopping counter: 1 out of 30\n",
      "EarlyStopping counter: 2 out of 30\n",
      "EarlyStopping counter: 1 out of 30\n",
      "EarlyStopping counter: 1 out of 30\n",
      "Epoch: 260, Train Loss: 5810.01732134, Validation Loss: 6874.28627218\n",
      "EarlyStopping counter: 2 out of 30\n",
      "EarlyStopping counter: 1 out of 30\n",
      "EarlyStopping counter: 2 out of 30\n",
      "EarlyStopping counter: 1 out of 30\n",
      "EarlyStopping counter: 1 out of 30\n",
      "EarlyStopping counter: 1 out of 30\n",
      "EarlyStopping counter: 1 out of 30\n",
      "Epoch: 280, Train Loss: 5070.49422071, Validation Loss: 6633.81452952\n",
      "EarlyStopping counter: 1 out of 30\n",
      "EarlyStopping counter: 1 out of 30\n",
      "EarlyStopping counter: 1 out of 30\n",
      "EarlyStopping counter: 2 out of 30\n",
      "EarlyStopping counter: 1 out of 30\n",
      "EarlyStopping counter: 1 out of 30\n",
      "EarlyStopping counter: 1 out of 30\n",
      "EarlyStopping counter: 2 out of 30\n",
      "Epoch: 300, Train Loss: 4369.73230777, Validation Loss: 5452.59272100\n",
      "EarlyStopping counter: 3 out of 30\n",
      "EarlyStopping counter: 1 out of 30\n",
      "EarlyStopping counter: 1 out of 30\n",
      "EarlyStopping counter: 2 out of 30\n",
      "EarlyStopping counter: 3 out of 30\n",
      "EarlyStopping counter: 4 out of 30\n",
      "EarlyStopping counter: 1 out of 30\n",
      "EarlyStopping counter: 1 out of 30\n",
      "EarlyStopping counter: 1 out of 30\n",
      "EarlyStopping counter: 1 out of 30\n",
      "EarlyStopping counter: 2 out of 30\n",
      "EarlyStopping counter: 1 out of 30\n",
      "Epoch: 320, Train Loss: 4186.08148311, Validation Loss: 4817.07475535\n",
      "EarlyStopping counter: 2 out of 30\n",
      "EarlyStopping counter: 1 out of 30\n",
      "EarlyStopping counter: 1 out of 30\n",
      "EarlyStopping counter: 2 out of 30\n",
      "EarlyStopping counter: 1 out of 30\n",
      "EarlyStopping counter: 2 out of 30\n",
      "EarlyStopping counter: 1 out of 30\n",
      "EarlyStopping counter: 2 out of 30\n",
      "EarlyStopping counter: 1 out of 30\n",
      "Epoch: 340, Train Loss: 3498.80164421, Validation Loss: 4450.83110534\n",
      "EarlyStopping counter: 1 out of 30\n",
      "EarlyStopping counter: 2 out of 30\n",
      "EarlyStopping counter: 1 out of 30\n",
      "EarlyStopping counter: 2 out of 30\n",
      "EarlyStopping counter: 3 out of 30\n",
      "EarlyStopping counter: 1 out of 30\n",
      "EarlyStopping counter: 2 out of 30\n",
      "EarlyStopping counter: 3 out of 30\n",
      "EarlyStopping counter: 4 out of 30\n",
      "EarlyStopping counter: 1 out of 30\n",
      "EarlyStopping counter: 2 out of 30\n",
      "EarlyStopping counter: 3 out of 30\n",
      "Epoch: 360, Train Loss: 3288.68461409, Validation Loss: 4067.11237811\n",
      "EarlyStopping counter: 1 out of 30\n",
      "EarlyStopping counter: 2 out of 30\n",
      "EarlyStopping counter: 3 out of 30\n",
      "EarlyStopping counter: 1 out of 30\n",
      "EarlyStopping counter: 2 out of 30\n",
      "EarlyStopping counter: 3 out of 30\n",
      "EarlyStopping counter: 1 out of 30\n",
      "EarlyStopping counter: 2 out of 30\n",
      "EarlyStopping counter: 1 out of 30\n",
      "EarlyStopping counter: 2 out of 30\n",
      "EarlyStopping counter: 1 out of 30\n",
      "EarlyStopping counter: 2 out of 30\n",
      "Epoch: 380, Train Loss: 3143.62268115, Validation Loss: 3933.97552100\n",
      "EarlyStopping counter: 3 out of 30\n",
      "EarlyStopping counter: 1 out of 30\n",
      "EarlyStopping counter: 2 out of 30\n",
      "EarlyStopping counter: 3 out of 30\n",
      "EarlyStopping counter: 4 out of 30\n",
      "EarlyStopping counter: 1 out of 30\n",
      "EarlyStopping counter: 2 out of 30\n",
      "EarlyStopping counter: 3 out of 30\n",
      "EarlyStopping counter: 4 out of 30\n",
      "EarlyStopping counter: 5 out of 30\n",
      "EarlyStopping counter: 1 out of 30\n",
      "EarlyStopping counter: 2 out of 30\n",
      "EarlyStopping counter: 3 out of 30\n",
      "EarlyStopping counter: 4 out of 30\n",
      "EarlyStopping counter: 5 out of 30\n",
      "EarlyStopping counter: 1 out of 30\n",
      "Epoch: 400, Train Loss: 3075.35517832, Validation Loss: 3825.48176721\n",
      "EarlyStopping counter: 2 out of 30\n",
      "EarlyStopping counter: 3 out of 30\n",
      "EarlyStopping counter: 4 out of 30\n",
      "EarlyStopping counter: 5 out of 30\n",
      "EarlyStopping counter: 1 out of 30\n",
      "EarlyStopping counter: 1 out of 30\n",
      "EarlyStopping counter: 2 out of 30\n",
      "EarlyStopping counter: 3 out of 30\n",
      "EarlyStopping counter: 4 out of 30\n",
      "EarlyStopping counter: 1 out of 30\n",
      "EarlyStopping counter: 1 out of 30\n",
      "EarlyStopping counter: 2 out of 30\n",
      "EarlyStopping counter: 3 out of 30\n",
      "EarlyStopping counter: 1 out of 30\n",
      "Epoch: 420, Train Loss: 2959.71230519, Validation Loss: 3721.20476105\n",
      "EarlyStopping counter: 1 out of 30\n",
      "EarlyStopping counter: 2 out of 30\n",
      "EarlyStopping counter: 3 out of 30\n",
      "EarlyStopping counter: 4 out of 30\n",
      "EarlyStopping counter: 1 out of 30\n",
      "EarlyStopping counter: 2 out of 30\n",
      "EarlyStopping counter: 3 out of 30\n",
      "EarlyStopping counter: 4 out of 30\n",
      "EarlyStopping counter: 5 out of 30\n",
      "EarlyStopping counter: 6 out of 30\n",
      "EarlyStopping counter: 1 out of 30\n",
      "EarlyStopping counter: 2 out of 30\n",
      "EarlyStopping counter: 3 out of 30\n",
      "EarlyStopping counter: 4 out of 30\n",
      "EarlyStopping counter: 5 out of 30\n",
      "EarlyStopping counter: 6 out of 30\n",
      "EarlyStopping counter: 7 out of 30\n",
      "EarlyStopping counter: 8 out of 30\n",
      "Epoch: 440, Train Loss: 3288.95355999, Validation Loss: 3770.56509464\n",
      "EarlyStopping counter: 9 out of 30\n",
      "EarlyStopping counter: 10 out of 30\n",
      "EarlyStopping counter: 11 out of 30\n",
      "EarlyStopping counter: 12 out of 30\n",
      "EarlyStopping counter: 1 out of 30\n",
      "EarlyStopping counter: 2 out of 30\n",
      "EarlyStopping counter: 3 out of 30\n",
      "EarlyStopping counter: 1 out of 30\n",
      "EarlyStopping counter: 2 out of 30\n",
      "EarlyStopping counter: 3 out of 30\n",
      "EarlyStopping counter: 4 out of 30\n",
      "EarlyStopping counter: 5 out of 30\n",
      "EarlyStopping counter: 1 out of 30\n",
      "EarlyStopping counter: 2 out of 30\n",
      "EarlyStopping counter: 3 out of 30\n",
      "EarlyStopping counter: 4 out of 30\n",
      "EarlyStopping counter: 5 out of 30\n",
      "Epoch: 460, Train Loss: 2951.22705268, Validation Loss: 3657.78445011\n",
      "EarlyStopping counter: 6 out of 30\n",
      "EarlyStopping counter: 7 out of 30\n",
      "EarlyStopping counter: 8 out of 30\n",
      "EarlyStopping counter: 9 out of 30\n",
      "EarlyStopping counter: 10 out of 30\n",
      "EarlyStopping counter: 11 out of 30\n",
      "EarlyStopping counter: 1 out of 30\n",
      "EarlyStopping counter: 2 out of 30\n",
      "EarlyStopping counter: 3 out of 30\n",
      "EarlyStopping counter: 1 out of 30\n",
      "EarlyStopping counter: 1 out of 30\n",
      "EarlyStopping counter: 2 out of 30\n",
      "EarlyStopping counter: 3 out of 30\n",
      "EarlyStopping counter: 4 out of 30\n",
      "EarlyStopping counter: 5 out of 30\n",
      "EarlyStopping counter: 6 out of 30\n",
      "EarlyStopping counter: 7 out of 30\n",
      "Epoch: 480, Train Loss: 2769.54849374, Validation Loss: 3698.85245212\n",
      "EarlyStopping counter: 1 out of 30\n",
      "EarlyStopping counter: 2 out of 30\n",
      "EarlyStopping counter: 3 out of 30\n",
      "EarlyStopping counter: 4 out of 30\n",
      "EarlyStopping counter: 5 out of 30\n",
      "EarlyStopping counter: 6 out of 30\n",
      "EarlyStopping counter: 7 out of 30\n",
      "EarlyStopping counter: 8 out of 30\n",
      "EarlyStopping counter: 9 out of 30\n",
      "EarlyStopping counter: 1 out of 30\n",
      "EarlyStopping counter: 2 out of 30\n",
      "EarlyStopping counter: 3 out of 30\n",
      "EarlyStopping counter: 4 out of 30\n",
      "EarlyStopping counter: 5 out of 30\n",
      "EarlyStopping counter: 6 out of 30\n",
      "EarlyStopping counter: 1 out of 30\n",
      "Epoch: 500, Train Loss: 2755.49714210, Validation Loss: 3838.69877755\n",
      "EarlyStopping counter: 2 out of 30\n",
      "EarlyStopping counter: 3 out of 30\n",
      "EarlyStopping counter: 4 out of 30\n",
      "EarlyStopping counter: 5 out of 30\n",
      "EarlyStopping counter: 6 out of 30\n",
      "EarlyStopping counter: 7 out of 30\n",
      "EarlyStopping counter: 8 out of 30\n",
      "EarlyStopping counter: 9 out of 30\n",
      "EarlyStopping counter: 10 out of 30\n",
      "EarlyStopping counter: 11 out of 30\n",
      "EarlyStopping counter: 12 out of 30\n",
      "EarlyStopping counter: 13 out of 30\n",
      "EarlyStopping counter: 14 out of 30\n",
      "EarlyStopping counter: 15 out of 30\n",
      "EarlyStopping counter: 16 out of 30\n",
      "EarlyStopping counter: 17 out of 30\n",
      "EarlyStopping counter: 18 out of 30\n",
      "EarlyStopping counter: 19 out of 30\n",
      "EarlyStopping counter: 20 out of 30\n",
      "EarlyStopping counter: 21 out of 30\n",
      "Epoch: 520, Train Loss: 2789.97784391, Validation Loss: 3614.51403040\n",
      "EarlyStopping counter: 22 out of 30\n",
      "EarlyStopping counter: 23 out of 30\n",
      "EarlyStopping counter: 24 out of 30\n",
      "EarlyStopping counter: 25 out of 30\n",
      "EarlyStopping counter: 26 out of 30\n",
      "EarlyStopping counter: 27 out of 30\n",
      "EarlyStopping counter: 28 out of 30\n",
      "EarlyStopping counter: 29 out of 30\n",
      "EarlyStopping counter: 30 out of 30\n",
      "Early stopping, Epoch: 529, Train Loss: 2895.80468468, Validation Loss: 3660.85125922\n"
     ]
    },
    {
     "data": {
      "text/plain": [
       "2895.804684682986"
      ]
     },
     "execution_count": 210,
     "metadata": {},
     "output_type": "execute_result"
    }
   ],
   "source": [
    "#GRU 모델 training\n",
    "train(model = model_3, dataloader = train_dataloader, eval_dataloader = valid_dataloader, loss_fn = loss_func_3, \n",
    "      optim = optim_3, epochs = epochs, device = device, patience = patience, verbose = verbose)"
   ]
  },
  {
   "cell_type": "code",
   "execution_count": 211,
   "id": "f114696a",
   "metadata": {
    "colab": {
     "base_uri": "https://localhost:8080/"
    },
    "executionInfo": {
     "elapsed": 27,
     "status": "ok",
     "timestamp": 1684608706881,
     "user": {
      "displayName": "정홍준",
      "userId": "08449064025647521772"
     },
     "user_tz": -540
    },
    "id": "6f721d4e",
    "outputId": "43502b0d-ffce-40cb-bd91-c317121fabe2"
   },
   "outputs": [
    {
     "name": "stdout",
     "output_type": "stream",
     "text": [
      "model_1(RNN) Test Loss: 4717.57014612\n"
     ]
    }
   ],
   "source": [
    "#RNN 모델 test loss\n",
    "print(f'model_1(RNN) Test Loss: {validation(model_1, test_dataloader, loss_func_1, device):.8f}')"
   ]
  },
  {
   "cell_type": "code",
   "execution_count": 212,
   "id": "53ebecec",
   "metadata": {
    "colab": {
     "base_uri": "https://localhost:8080/"
    },
    "executionInfo": {
     "elapsed": 17,
     "status": "ok",
     "timestamp": 1684608706881,
     "user": {
      "displayName": "정홍준",
      "userId": "08449064025647521772"
     },
     "user_tz": -540
    },
    "id": "40a5d8af",
    "outputId": "e6683f87-086f-4a3a-b04b-0ec65f328fa2"
   },
   "outputs": [
    {
     "name": "stdout",
     "output_type": "stream",
     "text": [
      "model_2(LSTM) Test Loss: 3145.64124074\n"
     ]
    }
   ],
   "source": [
    "#LSTM 모델 test loss\n",
    "print(f'model_2(LSTM) Test Loss: {validation(model_2, test_dataloader, loss_func_2, device):.8f}')"
   ]
  },
  {
   "cell_type": "code",
   "execution_count": 213,
   "id": "80f3b392",
   "metadata": {
    "colab": {
     "base_uri": "https://localhost:8080/"
    },
    "executionInfo": {
     "elapsed": 10,
     "status": "ok",
     "timestamp": 1684608706881,
     "user": {
      "displayName": "정홍준",
      "userId": "08449064025647521772"
     },
     "user_tz": -540
    },
    "id": "49740d0f",
    "outputId": "272d3a61-b697-4590-ff58-f937c78afcc6"
   },
   "outputs": [
    {
     "name": "stdout",
     "output_type": "stream",
     "text": [
      "model_3(GRU) Test Loss: 3161.53913799\n"
     ]
    }
   ],
   "source": [
    "#GRU 모델 test loss\n",
    "print(f'model_3(GRU) Test Loss: {validation(model_3, test_dataloader, loss_func_3, device):.8f}')"
   ]
  },
  {
   "cell_type": "code",
   "execution_count": 271,
   "id": "3a63982a",
   "metadata": {
    "colab": {
     "base_uri": "https://localhost:8080/",
     "height": 472
    },
    "executionInfo": {
     "elapsed": 8443,
     "status": "ok",
     "timestamp": 1684608715320,
     "user": {
      "displayName": "정홍준",
      "userId": "08449064025647521772"
     },
     "user_tz": -540
    },
    "id": "eaccbef4",
    "outputId": "41e33769-aa5d-4cb4-fd81-9bbf3f24d24a"
   },
   "outputs": [
    {
     "data": {
      "image/png": "[encoded data removed]",
      "text/plain": [
       "<Figure size 432x288 with 1 Axes>"
      ]
     },
     "metadata": {},
     "output_type": "display_data"
    }
   ],
   "source": [
    "#x축 date(1900-01 ~ 2022-12) y축 oil price인 true값 그래프와 RNN모델 예측값 그래프 생성\n",
    "plt.plot(oil.ID.values[seq_length:], oil['oil_price'][seq_length:], label = 'True')\n",
    "plt.plot(oil.ID.values[seq_length:], model_1(torch.FloatTensor(X_seq)).cpu().detach().numpy()[:-1], label = 'Prediction')\n",
    "plt.xlabel('date')\n",
    "plt.ylabel('oil price')\n",
    "plt.title('Oil price preidction(RNN)')\n",
    "plt.legend()\n",
    "plt.show()"
   ]
  },
  {
   "cell_type": "code",
   "execution_count": 272,
   "id": "63ea71d7",
   "metadata": {
    "colab": {
     "base_uri": "https://localhost:8080/",
     "height": 472
    },
    "executionInfo": {
     "elapsed": 7311,
     "status": "ok",
     "timestamp": 1684608722626,
     "user": {
      "displayName": "정홍준",
      "userId": "08449064025647521772"
     },
     "user_tz": -540
    },
    "id": "9fab9433",
    "outputId": "d0c334eb-925e-4680-b706-7e252392d621"
   },
   "outputs": [
    {
     "data": {
      "image/png": "[encoded data removed]",
      "text/plain": [
       "<Figure size 432x288 with 1 Axes>"
      ]
     },
     "metadata": {},
     "output_type": "display_data"
    }
   ],
   "source": [
    "#x축 date(1900-01 ~ 2022-12) y축 oil price인 true값 그래프와 LSTM모델 예측값 그래프 생성\n",
    "plt.plot(oil.ID.values[seq_length:], oil['oil_price'][seq_length:], label = 'True')\n",
    "plt.plot(oil.ID.values[seq_length:], model_2(torch.FloatTensor(X_seq)).cpu().detach().numpy()[:-1], label = 'Prediction')\n",
    "plt.xlabel('date')\n",
    "plt.ylabel('oil price')\n",
    "plt.title('Oil price preidction(LSTM)')\n",
    "plt.legend()\n",
    "plt.show()"
   ]
  },
  {
   "cell_type": "code",
   "execution_count": 274,
   "id": "121d8a53",
   "metadata": {
    "colab": {
     "base_uri": "https://localhost:8080/",
     "height": 472
    },
    "executionInfo": {
     "elapsed": 8371,
     "status": "ok",
     "timestamp": 1684608730989,
     "user": {
      "displayName": "정홍준",
      "userId": "08449064025647521772"
     },
     "user_tz": -540
    },
    "id": "39d1dde0",
    "outputId": "e245c1d4-9649-429c-d5ee-8f42fba19a87"
   },
   "outputs": [
    {
     "data": {
      "image/png": "[encoded data removed]",
      "text/plain": [
       "<Figure size 432x288 with 1 Axes>"
      ]
     },
     "metadata": {},
     "output_type": "display_data"
    }
   ],
   "source": [
    "#x축 date(1900-01 ~ 2022-12) y축 oil price인 true값 그래프와 GRU모델 예측값 그래프 생성\n",
    "plt.plot(oil.ID.values[seq_length:], oil['oil_price'][seq_length:], label = 'True')\n",
    "plt.plot(oil.ID.values[seq_length:], model_3(torch.FloatTensor(X_seq)).cpu().detach().numpy()[:-1], label = 'Prediction')\n",
    "plt.xlabel('date')\n",
    "plt.ylabel('oil price')\n",
    "plt.title('Oil price preidction(GRU)')\n",
    "plt.legend()\n",
    "plt.show()"
   ]
  },
  {
   "cell_type": "code",
   "execution_count": 217,
   "id": "17367a85",
   "metadata": {
    "executionInfo": {
     "elapsed": 9,
     "status": "ok",
     "timestamp": 1684608730990,
     "user": {
      "displayName": "정홍준",
      "userId": "08449064025647521772"
     },
     "user_tz": -540
    },
    "id": "cfbf4a54"
   },
   "outputs": [],
   "source": [
    "#RNN, LSTM, GRU을 ensemble한 model\n",
    "class Ensemble_Model_1(torch.nn.Module):\n",
    "    def __init__(self, input_size, hidden_size, output_size, num_layers):\n",
    "        super(Ensemble_Model_1, self).__init__()\n",
    "        self.input_size = input_size\n",
    "        self.hidden_size = hidden_size\n",
    "        self.output_size = output_size\n",
    "        self.num_layers = num_layers\n",
    "        self.gru_model = GRU_model(input_size, hidden_size, output_size, num_layers)\n",
    "        self.rnn_model = RNN_model(input_size, hidden_size, output_size, num_layers)\n",
    "        self.lstm_model = LSTM_model(input_size, hidden_size, output_size, num_layers)\n",
    "\n",
    "    def forward(self, x):\n",
    "        x = x.to(device)\n",
    "        output_gru = self.gru_model(x)\n",
    "        output_rnn = self.rnn_model(x)\n",
    "        output_lstm = self.lstm_model(x)\n",
    "        output = torch.vstack((output_rnn, output_lstm))\n",
    "        output = torch.vstack((output, output_gru))\n",
    "        output = torch.mean(output, dim = 0)\n",
    "\n",
    "        return output"
   ]
  },
  {
   "cell_type": "code",
   "execution_count": 218,
   "id": "45620012",
   "metadata": {
    "executionInfo": {
     "elapsed": 6,
     "status": "ok",
     "timestamp": 1684608730990,
     "user": {
      "displayName": "정홍준",
      "userId": "08449064025647521772"
     },
     "user_tz": -540
    },
    "id": "927e98e7"
   },
   "outputs": [],
   "source": [
    "#LSTM, GRU을 ensemble한 model\n",
    "class Ensemble_Model_2(torch.nn.Module):\n",
    "    def __init__(self, input_size, hidden_size, output_size, num_layers):\n",
    "        super(Ensemble_Model_2, self).__init__()\n",
    "        self.input_size = input_size\n",
    "        self.hidden_size = hidden_size\n",
    "        self.output_size = output_size\n",
    "        self.num_layers = num_layers\n",
    "        self.gru_model = GRU_model(input_size, hidden_size, output_size, num_layers)\n",
    "        self.lstm_model = LSTM_model(input_size, hidden_size, output_size, num_layers)\n",
    "\n",
    "    def forward(self, x):\n",
    "        x = x.to(device)\n",
    "        output_gru = self.gru_model(x)\n",
    "        output_lstm = self.lstm_model(x)\n",
    "        output = torch.vstack((output_gru, output_lstm))\n",
    "        output = torch.mean(output, dim = 0)\n",
    "\n",
    "        return output"
   ]
  },
  {
   "cell_type": "code",
   "execution_count": 219,
   "id": "c7f239d0",
   "metadata": {
    "executionInfo": {
     "elapsed": 6,
     "status": "ok",
     "timestamp": 1684608730991,
     "user": {
      "displayName": "정홍준",
      "userId": "08449064025647521772"
     },
     "user_tz": -540
    },
    "id": "076f96a9"
   },
   "outputs": [],
   "source": [
    "#Ensemble(RNN, LSTM, GRU)\n",
    "model_4 = Ensemble_Model_1(input_size, hidden_size, output_size, num_layers).to(device)\n",
    "loss_func_4 = torch.nn.MSELoss().to(device)\n",
    "optim_4 = torch.optim.Adam(params=model_4.parameters(), lr = lr )"
   ]
  },
  {
   "cell_type": "code",
   "execution_count": 220,
   "id": "48014e06",
   "metadata": {
    "colab": {
     "base_uri": "https://localhost:8080/"
    },
    "executionInfo": {
     "elapsed": 265929,
     "status": "ok",
     "timestamp": 1684608996915,
     "user": {
      "displayName": "정홍준",
      "userId": "08449064025647521772"
     },
     "user_tz": -540
    },
    "id": "e40650bf",
    "outputId": "783cc4e1-50a7-470b-ea84-11dc1037c45f"
   },
   "outputs": [
    {
     "name": "stdout",
     "output_type": "stream",
     "text": [
      "Epoch: 20, Train Loss: 32059.90784822, Validation Loss: 36458.82032271\n",
      "Epoch: 40, Train Loss: 25970.95463075, Validation Loss: 30372.30232672\n",
      "EarlyStopping counter: 1 out of 30\n",
      "EarlyStopping counter: 1 out of 30\n",
      "Epoch: 60, Train Loss: 21828.27426886, Validation Loss: 25646.79536879\n",
      "EarlyStopping counter: 1 out of 30\n",
      "Epoch: 80, Train Loss: 18472.41967865, Validation Loss: 21804.57484927\n",
      "EarlyStopping counter: 1 out of 30\n",
      "EarlyStopping counter: 1 out of 30\n",
      "EarlyStopping counter: 1 out of 30\n",
      "Epoch: 100, Train Loss: 16003.17317224, Validation Loss: 18891.96652582\n",
      "EarlyStopping counter: 1 out of 30\n",
      "EarlyStopping counter: 1 out of 30\n",
      "EarlyStopping counter: 1 out of 30\n",
      "EarlyStopping counter: 2 out of 30\n",
      "EarlyStopping counter: 1 out of 30\n",
      "EarlyStopping counter: 2 out of 30\n",
      "EarlyStopping counter: 3 out of 30\n",
      "Epoch: 120, Train Loss: 14091.10726269, Validation Loss: 16367.91983893\n",
      "EarlyStopping counter: 1 out of 30\n",
      "EarlyStopping counter: 1 out of 30\n",
      "EarlyStopping counter: 1 out of 30\n",
      "EarlyStopping counter: 2 out of 30\n",
      "EarlyStopping counter: 3 out of 30\n",
      "EarlyStopping counter: 1 out of 30\n",
      "EarlyStopping counter: 2 out of 30\n",
      "EarlyStopping counter: 3 out of 30\n",
      "EarlyStopping counter: 4 out of 30\n",
      "EarlyStopping counter: 5 out of 30\n",
      "Epoch: 140, Train Loss: 12950.93834368, Validation Loss: 15292.81237762\n",
      "EarlyStopping counter: 6 out of 30\n",
      "EarlyStopping counter: 7 out of 30\n",
      "EarlyStopping counter: 8 out of 30\n",
      "EarlyStopping counter: 9 out of 30\n",
      "EarlyStopping counter: 10 out of 30\n",
      "EarlyStopping counter: 11 out of 30\n",
      "EarlyStopping counter: 12 out of 30\n",
      "EarlyStopping counter: 13 out of 30\n",
      "EarlyStopping counter: 14 out of 30\n",
      "EarlyStopping counter: 15 out of 30\n",
      "EarlyStopping counter: 16 out of 30\n",
      "EarlyStopping counter: 1 out of 30\n",
      "EarlyStopping counter: 1 out of 30\n",
      "EarlyStopping counter: 1 out of 30\n",
      "EarlyStopping counter: 1 out of 30\n",
      "Epoch: 160, Train Loss: 11397.06837918, Validation Loss: 13753.25952439\n",
      "EarlyStopping counter: 1 out of 30\n",
      "EarlyStopping counter: 2 out of 30\n",
      "EarlyStopping counter: 3 out of 30\n",
      "EarlyStopping counter: 4 out of 30\n",
      "EarlyStopping counter: 1 out of 30\n",
      "EarlyStopping counter: 1 out of 30\n",
      "EarlyStopping counter: 1 out of 30\n",
      "EarlyStopping counter: 1 out of 30\n",
      "EarlyStopping counter: 2 out of 30\n",
      "Epoch: 180, Train Loss: 9525.60906024, Validation Loss: 12083.22052927\n",
      "EarlyStopping counter: 1 out of 30\n",
      "EarlyStopping counter: 1 out of 30\n",
      "EarlyStopping counter: 1 out of 30\n",
      "EarlyStopping counter: 1 out of 30\n",
      "EarlyStopping counter: 1 out of 30\n",
      "Epoch: 200, Train Loss: 8156.88510957, Validation Loss: 9821.52859203\n",
      "EarlyStopping counter: 1 out of 30\n",
      "EarlyStopping counter: 1 out of 30\n",
      "EarlyStopping counter: 2 out of 30\n",
      "EarlyStopping counter: 1 out of 30\n",
      "EarlyStopping counter: 1 out of 30\n",
      "EarlyStopping counter: 2 out of 30\n",
      "Epoch: 220, Train Loss: 7561.20466140, Validation Loss: 8598.44137188\n",
      "EarlyStopping counter: 1 out of 30\n",
      "EarlyStopping counter: 1 out of 30\n",
      "EarlyStopping counter: 1 out of 30\n",
      "EarlyStopping counter: 2 out of 30\n",
      "EarlyStopping counter: 3 out of 30\n",
      "EarlyStopping counter: 1 out of 30\n",
      "EarlyStopping counter: 2 out of 30\n",
      "EarlyStopping counter: 1 out of 30\n",
      "EarlyStopping counter: 1 out of 30\n",
      "EarlyStopping counter: 2 out of 30\n",
      "EarlyStopping counter: 1 out of 30\n",
      "Epoch: 240, Train Loss: 6676.69465479, Validation Loss: 8177.81425450\n",
      "EarlyStopping counter: 1 out of 30\n",
      "EarlyStopping counter: 1 out of 30\n",
      "EarlyStopping counter: 1 out of 30\n",
      "EarlyStopping counter: 2 out of 30\n",
      "EarlyStopping counter: 3 out of 30\n",
      "EarlyStopping counter: 4 out of 30\n",
      "EarlyStopping counter: 5 out of 30\n",
      "EarlyStopping counter: 1 out of 30\n",
      "EarlyStopping counter: 2 out of 30\n",
      "EarlyStopping counter: 3 out of 30\n",
      "EarlyStopping counter: 4 out of 30\n",
      "EarlyStopping counter: 1 out of 30\n",
      "EarlyStopping counter: 1 out of 30\n",
      "Epoch: 260, Train Loss: 5771.28379577, Validation Loss: 7011.99200856\n",
      "EarlyStopping counter: 1 out of 30\n",
      "EarlyStopping counter: 2 out of 30\n",
      "EarlyStopping counter: 3 out of 30\n",
      "EarlyStopping counter: 4 out of 30\n",
      "EarlyStopping counter: 5 out of 30\n",
      "EarlyStopping counter: 6 out of 30\n",
      "EarlyStopping counter: 7 out of 30\n",
      "EarlyStopping counter: 8 out of 30\n",
      "EarlyStopping counter: 9 out of 30\n",
      "EarlyStopping counter: 10 out of 30\n",
      "EarlyStopping counter: 11 out of 30\n",
      "EarlyStopping counter: 12 out of 30\n",
      "EarlyStopping counter: 13 out of 30\n",
      "EarlyStopping counter: 14 out of 30\n",
      "EarlyStopping counter: 15 out of 30\n",
      "EarlyStopping counter: 16 out of 30\n",
      "EarlyStopping counter: 17 out of 30\n",
      "EarlyStopping counter: 18 out of 30\n",
      "Epoch: 280, Train Loss: 6754.51588571, Validation Loss: 7957.87877596\n",
      "EarlyStopping counter: 19 out of 30\n",
      "EarlyStopping counter: 20 out of 30\n",
      "EarlyStopping counter: 21 out of 30\n",
      "EarlyStopping counter: 22 out of 30\n",
      "EarlyStopping counter: 23 out of 30\n",
      "EarlyStopping counter: 24 out of 30\n",
      "EarlyStopping counter: 1 out of 30\n",
      "EarlyStopping counter: 1 out of 30\n",
      "EarlyStopping counter: 2 out of 30\n",
      "EarlyStopping counter: 1 out of 30\n",
      "EarlyStopping counter: 2 out of 30\n",
      "EarlyStopping counter: 3 out of 30\n",
      "EarlyStopping counter: 4 out of 30\n",
      "Epoch: 300, Train Loss: 4562.79900511, Validation Loss: 5794.34902219\n",
      "EarlyStopping counter: 5 out of 30\n",
      "EarlyStopping counter: 1 out of 30\n",
      "EarlyStopping counter: 2 out of 30\n",
      "EarlyStopping counter: 3 out of 30\n",
      "EarlyStopping counter: 4 out of 30\n",
      "EarlyStopping counter: 1 out of 30\n",
      "EarlyStopping counter: 2 out of 30\n",
      "EarlyStopping counter: 1 out of 30\n",
      "EarlyStopping counter: 2 out of 30\n",
      "EarlyStopping counter: 1 out of 30\n",
      "EarlyStopping counter: 2 out of 30\n",
      "Epoch: 320, Train Loss: 4721.15390240, Validation Loss: 4837.74435050\n",
      "EarlyStopping counter: 1 out of 30\n",
      "EarlyStopping counter: 1 out of 30\n",
      "EarlyStopping counter: 2 out of 30\n",
      "EarlyStopping counter: 1 out of 30\n",
      "EarlyStopping counter: 2 out of 30\n",
      "EarlyStopping counter: 1 out of 30\n",
      "EarlyStopping counter: 2 out of 30\n",
      "EarlyStopping counter: 3 out of 30\n",
      "EarlyStopping counter: 4 out of 30\n",
      "EarlyStopping counter: 1 out of 30\n",
      "EarlyStopping counter: 1 out of 30\n",
      "EarlyStopping counter: 1 out of 30\n",
      "EarlyStopping counter: 2 out of 30\n",
      "Epoch: 340, Train Loss: 3644.17148764, Validation Loss: 4475.77425313\n",
      "EarlyStopping counter: 1 out of 30\n",
      "EarlyStopping counter: 1 out of 30\n",
      "EarlyStopping counter: 1 out of 30\n",
      "EarlyStopping counter: 2 out of 30\n",
      "EarlyStopping counter: 1 out of 30\n",
      "EarlyStopping counter: 2 out of 30\n",
      "EarlyStopping counter: 1 out of 30\n",
      "EarlyStopping counter: 1 out of 30\n",
      "EarlyStopping counter: 2 out of 30\n",
      "EarlyStopping counter: 3 out of 30\n",
      "Epoch: 360, Train Loss: 3314.35258938, Validation Loss: 3976.53126057\n",
      "EarlyStopping counter: 1 out of 30\n",
      "EarlyStopping counter: 1 out of 30\n",
      "EarlyStopping counter: 2 out of 30\n",
      "EarlyStopping counter: 1 out of 30\n",
      "EarlyStopping counter: 2 out of 30\n",
      "EarlyStopping counter: 3 out of 30\n",
      "EarlyStopping counter: 1 out of 30\n",
      "EarlyStopping counter: 2 out of 30\n",
      "EarlyStopping counter: 3 out of 30\n",
      "EarlyStopping counter: 4 out of 30\n",
      "EarlyStopping counter: 5 out of 30\n",
      "EarlyStopping counter: 6 out of 30\n",
      "EarlyStopping counter: 7 out of 30\n",
      "EarlyStopping counter: 8 out of 30\n",
      "EarlyStopping counter: 9 out of 30\n",
      "EarlyStopping counter: 10 out of 30\n",
      "Epoch: 380, Train Loss: 3043.99325419, Validation Loss: 3705.84400844\n",
      "EarlyStopping counter: 1 out of 30\n",
      "EarlyStopping counter: 2 out of 30\n",
      "EarlyStopping counter: 1 out of 30\n",
      "EarlyStopping counter: 2 out of 30\n",
      "EarlyStopping counter: 1 out of 30\n",
      "EarlyStopping counter: 1 out of 30\n",
      "EarlyStopping counter: 2 out of 30\n",
      "EarlyStopping counter: 3 out of 30\n",
      "EarlyStopping counter: 4 out of 30\n",
      "EarlyStopping counter: 5 out of 30\n",
      "EarlyStopping counter: 6 out of 30\n",
      "EarlyStopping counter: 7 out of 30\n",
      "EarlyStopping counter: 8 out of 30\n",
      "EarlyStopping counter: 9 out of 30\n",
      "EarlyStopping counter: 10 out of 30\n",
      "EarlyStopping counter: 11 out of 30\n",
      "Epoch: 400, Train Loss: 2897.89753657, Validation Loss: 3595.03673440\n",
      "EarlyStopping counter: 12 out of 30\n",
      "EarlyStopping counter: 13 out of 30\n",
      "EarlyStopping counter: 14 out of 30\n",
      "EarlyStopping counter: 15 out of 30\n",
      "EarlyStopping counter: 16 out of 30\n",
      "EarlyStopping counter: 17 out of 30\n",
      "EarlyStopping counter: 18 out of 30\n",
      "EarlyStopping counter: 1 out of 30\n",
      "EarlyStopping counter: 2 out of 30\n",
      "EarlyStopping counter: 3 out of 30\n",
      "EarlyStopping counter: 4 out of 30\n",
      "EarlyStopping counter: 5 out of 30\n",
      "EarlyStopping counter: 6 out of 30\n",
      "EarlyStopping counter: 7 out of 30\n",
      "EarlyStopping counter: 8 out of 30\n",
      "EarlyStopping counter: 9 out of 30\n",
      "EarlyStopping counter: 1 out of 30\n",
      "Epoch: 420, Train Loss: 2638.02535015, Validation Loss: 3184.41173324\n",
      "EarlyStopping counter: 1 out of 30\n",
      "EarlyStopping counter: 2 out of 30\n",
      "EarlyStopping counter: 3 out of 30\n",
      "EarlyStopping counter: 4 out of 30\n",
      "EarlyStopping counter: 5 out of 30\n",
      "EarlyStopping counter: 6 out of 30\n",
      "EarlyStopping counter: 7 out of 30\n",
      "EarlyStopping counter: 1 out of 30\n",
      "EarlyStopping counter: 2 out of 30\n",
      "EarlyStopping counter: 3 out of 30\n",
      "EarlyStopping counter: 4 out of 30\n",
      "EarlyStopping counter: 1 out of 30\n",
      "EarlyStopping counter: 2 out of 30\n",
      "EarlyStopping counter: 3 out of 30\n",
      "EarlyStopping counter: 4 out of 30\n",
      "EarlyStopping counter: 5 out of 30\n",
      "EarlyStopping counter: 6 out of 30\n",
      "Epoch: 440, Train Loss: 2633.87587918, Validation Loss: 3211.35450265\n",
      "EarlyStopping counter: 7 out of 30\n",
      "EarlyStopping counter: 8 out of 30\n",
      "EarlyStopping counter: 9 out of 30\n",
      "EarlyStopping counter: 10 out of 30\n",
      "EarlyStopping counter: 11 out of 30\n",
      "EarlyStopping counter: 12 out of 30\n",
      "EarlyStopping counter: 13 out of 30\n",
      "EarlyStopping counter: 1 out of 30\n",
      "EarlyStopping counter: 1 out of 30\n",
      "EarlyStopping counter: 1 out of 30\n",
      "EarlyStopping counter: 2 out of 30\n",
      "EarlyStopping counter: 3 out of 30\n",
      "EarlyStopping counter: 4 out of 30\n",
      "EarlyStopping counter: 1 out of 30\n",
      "EarlyStopping counter: 2 out of 30\n",
      "EarlyStopping counter: 3 out of 30\n",
      "Epoch: 460, Train Loss: 2437.91614682, Validation Loss: 3196.12067276\n",
      "EarlyStopping counter: 4 out of 30\n",
      "EarlyStopping counter: 5 out of 30\n",
      "EarlyStopping counter: 6 out of 30\n",
      "EarlyStopping counter: 7 out of 30\n",
      "EarlyStopping counter: 8 out of 30\n",
      "EarlyStopping counter: 9 out of 30\n",
      "EarlyStopping counter: 1 out of 30\n",
      "EarlyStopping counter: 2 out of 30\n",
      "EarlyStopping counter: 3 out of 30\n",
      "EarlyStopping counter: 4 out of 30\n",
      "EarlyStopping counter: 5 out of 30\n",
      "EarlyStopping counter: 6 out of 30\n",
      "EarlyStopping counter: 7 out of 30\n",
      "EarlyStopping counter: 8 out of 30\n",
      "EarlyStopping counter: 9 out of 30\n",
      "EarlyStopping counter: 10 out of 30\n",
      "EarlyStopping counter: 11 out of 30\n",
      "EarlyStopping counter: 12 out of 30\n",
      "EarlyStopping counter: 13 out of 30\n",
      "Epoch: 480, Train Loss: 2435.81820123, Validation Loss: 4340.38554496\n",
      "EarlyStopping counter: 14 out of 30\n",
      "EarlyStopping counter: 1 out of 30\n",
      "EarlyStopping counter: 2 out of 30\n",
      "EarlyStopping counter: 1 out of 30\n",
      "EarlyStopping counter: 2 out of 30\n",
      "EarlyStopping counter: 3 out of 30\n",
      "EarlyStopping counter: 4 out of 30\n",
      "EarlyStopping counter: 5 out of 30\n",
      "EarlyStopping counter: 6 out of 30\n",
      "EarlyStopping counter: 7 out of 30\n",
      "EarlyStopping counter: 8 out of 30\n",
      "EarlyStopping counter: 1 out of 30\n",
      "EarlyStopping counter: 2 out of 30\n",
      "EarlyStopping counter: 3 out of 30\n",
      "EarlyStopping counter: 4 out of 30\n",
      "EarlyStopping counter: 5 out of 30\n",
      "EarlyStopping counter: 6 out of 30\n",
      "Epoch: 500, Train Loss: 2257.63961799, Validation Loss: 2887.76813277\n",
      "EarlyStopping counter: 1 out of 30\n",
      "EarlyStopping counter: 2 out of 30\n",
      "EarlyStopping counter: 3 out of 30\n",
      "EarlyStopping counter: 4 out of 30\n",
      "EarlyStopping counter: 5 out of 30\n",
      "EarlyStopping counter: 6 out of 30\n",
      "EarlyStopping counter: 7 out of 30\n",
      "EarlyStopping counter: 8 out of 30\n",
      "EarlyStopping counter: 9 out of 30\n",
      "EarlyStopping counter: 10 out of 30\n",
      "EarlyStopping counter: 11 out of 30\n",
      "EarlyStopping counter: 1 out of 30\n",
      "EarlyStopping counter: 2 out of 30\n",
      "EarlyStopping counter: 3 out of 30\n",
      "EarlyStopping counter: 4 out of 30\n",
      "EarlyStopping counter: 5 out of 30\n",
      "EarlyStopping counter: 6 out of 30\n",
      "Epoch: 520, Train Loss: 2121.26667186, Validation Loss: 2310.01781154\n",
      "EarlyStopping counter: 1 out of 30\n",
      "EarlyStopping counter: 2 out of 30\n",
      "EarlyStopping counter: 3 out of 30\n",
      "EarlyStopping counter: 4 out of 30\n",
      "EarlyStopping counter: 5 out of 30\n",
      "EarlyStopping counter: 6 out of 30\n",
      "EarlyStopping counter: 7 out of 30\n",
      "EarlyStopping counter: 8 out of 30\n",
      "EarlyStopping counter: 9 out of 30\n",
      "EarlyStopping counter: 10 out of 30\n",
      "EarlyStopping counter: 11 out of 30\n",
      "EarlyStopping counter: 12 out of 30\n",
      "EarlyStopping counter: 1 out of 30\n",
      "EarlyStopping counter: 2 out of 30\n",
      "EarlyStopping counter: 3 out of 30\n",
      "EarlyStopping counter: 4 out of 30\n",
      "EarlyStopping counter: 5 out of 30\n",
      "EarlyStopping counter: 6 out of 30\n",
      "EarlyStopping counter: 7 out of 30\n",
      "Epoch: 540, Train Loss: 2088.81556763, Validation Loss: 2294.45072744\n",
      "EarlyStopping counter: 8 out of 30\n",
      "EarlyStopping counter: 9 out of 30\n",
      "EarlyStopping counter: 10 out of 30\n",
      "EarlyStopping counter: 11 out of 30\n",
      "EarlyStopping counter: 12 out of 30\n",
      "EarlyStopping counter: 13 out of 30\n",
      "EarlyStopping counter: 14 out of 30\n",
      "EarlyStopping counter: 15 out of 30\n",
      "EarlyStopping counter: 1 out of 30\n",
      "EarlyStopping counter: 2 out of 30\n",
      "EarlyStopping counter: 3 out of 30\n",
      "EarlyStopping counter: 4 out of 30\n",
      "EarlyStopping counter: 5 out of 30\n",
      "EarlyStopping counter: 6 out of 30\n",
      "EarlyStopping counter: 7 out of 30\n",
      "EarlyStopping counter: 8 out of 30\n",
      "EarlyStopping counter: 9 out of 30\n",
      "EarlyStopping counter: 1 out of 30\n",
      "Epoch: 560, Train Loss: 2212.48888042, Validation Loss: 2637.59406490\n",
      "EarlyStopping counter: 2 out of 30\n",
      "EarlyStopping counter: 3 out of 30\n",
      "EarlyStopping counter: 4 out of 30\n",
      "EarlyStopping counter: 5 out of 30\n",
      "EarlyStopping counter: 6 out of 30\n",
      "EarlyStopping counter: 1 out of 30\n",
      "EarlyStopping counter: 2 out of 30\n",
      "EarlyStopping counter: 3 out of 30\n",
      "EarlyStopping counter: 4 out of 30\n",
      "EarlyStopping counter: 5 out of 30\n",
      "EarlyStopping counter: 6 out of 30\n",
      "EarlyStopping counter: 7 out of 30\n",
      "EarlyStopping counter: 1 out of 30\n",
      "EarlyStopping counter: 2 out of 30\n",
      "EarlyStopping counter: 3 out of 30\n",
      "EarlyStopping counter: 4 out of 30\n",
      "EarlyStopping counter: 5 out of 30\n",
      "EarlyStopping counter: 6 out of 30\n",
      "Epoch: 580, Train Loss: 1865.17448419, Validation Loss: 2348.82833947\n",
      "EarlyStopping counter: 7 out of 30\n",
      "EarlyStopping counter: 8 out of 30\n",
      "EarlyStopping counter: 9 out of 30\n",
      "EarlyStopping counter: 10 out of 30\n",
      "EarlyStopping counter: 1 out of 30\n",
      "EarlyStopping counter: 2 out of 30\n",
      "EarlyStopping counter: 3 out of 30\n",
      "EarlyStopping counter: 4 out of 30\n",
      "EarlyStopping counter: 5 out of 30\n",
      "EarlyStopping counter: 6 out of 30\n",
      "EarlyStopping counter: 7 out of 30\n",
      "EarlyStopping counter: 8 out of 30\n",
      "EarlyStopping counter: 9 out of 30\n",
      "EarlyStopping counter: 10 out of 30\n",
      "EarlyStopping counter: 11 out of 30\n",
      "EarlyStopping counter: 12 out of 30\n",
      "EarlyStopping counter: 13 out of 30\n",
      "EarlyStopping counter: 14 out of 30\n",
      "Epoch: 600, Train Loss: 2187.67176883, Validation Loss: 2041.86924604\n",
      "EarlyStopping counter: 15 out of 30\n",
      "EarlyStopping counter: 16 out of 30\n",
      "EarlyStopping counter: 17 out of 30\n",
      "EarlyStopping counter: 18 out of 30\n",
      "EarlyStopping counter: 1 out of 30\n",
      "EarlyStopping counter: 2 out of 30\n",
      "EarlyStopping counter: 3 out of 30\n",
      "EarlyStopping counter: 4 out of 30\n",
      "EarlyStopping counter: 5 out of 30\n",
      "EarlyStopping counter: 6 out of 30\n",
      "EarlyStopping counter: 7 out of 30\n",
      "EarlyStopping counter: 8 out of 30\n",
      "EarlyStopping counter: 9 out of 30\n",
      "EarlyStopping counter: 10 out of 30\n",
      "EarlyStopping counter: 11 out of 30\n",
      "EarlyStopping counter: 12 out of 30\n",
      "EarlyStopping counter: 13 out of 30\n",
      "EarlyStopping counter: 14 out of 30\n",
      "EarlyStopping counter: 15 out of 30\n",
      "Epoch: 620, Train Loss: 1925.51870904, Validation Loss: 2295.73588723\n",
      "EarlyStopping counter: 16 out of 30\n",
      "EarlyStopping counter: 17 out of 30\n",
      "EarlyStopping counter: 18 out of 30\n",
      "EarlyStopping counter: 19 out of 30\n",
      "EarlyStopping counter: 1 out of 30\n",
      "EarlyStopping counter: 1 out of 30\n",
      "EarlyStopping counter: 2 out of 30\n",
      "EarlyStopping counter: 3 out of 30\n",
      "EarlyStopping counter: 1 out of 30\n",
      "EarlyStopping counter: 2 out of 30\n",
      "EarlyStopping counter: 3 out of 30\n",
      "EarlyStopping counter: 4 out of 30\n",
      "EarlyStopping counter: 5 out of 30\n",
      "EarlyStopping counter: 6 out of 30\n",
      "EarlyStopping counter: 7 out of 30\n",
      "EarlyStopping counter: 8 out of 30\n",
      "EarlyStopping counter: 9 out of 30\n",
      "Epoch: 640, Train Loss: 1847.12139541, Validation Loss: 2168.70854449\n",
      "EarlyStopping counter: 10 out of 30\n",
      "EarlyStopping counter: 11 out of 30\n",
      "EarlyStopping counter: 12 out of 30\n",
      "EarlyStopping counter: 13 out of 30\n",
      "EarlyStopping counter: 14 out of 30\n",
      "EarlyStopping counter: 15 out of 30\n",
      "EarlyStopping counter: 16 out of 30\n",
      "EarlyStopping counter: 17 out of 30\n",
      "EarlyStopping counter: 18 out of 30\n",
      "EarlyStopping counter: 19 out of 30\n",
      "EarlyStopping counter: 20 out of 30\n",
      "EarlyStopping counter: 21 out of 30\n",
      "EarlyStopping counter: 22 out of 30\n",
      "EarlyStopping counter: 1 out of 30\n",
      "EarlyStopping counter: 2 out of 30\n",
      "EarlyStopping counter: 3 out of 30\n",
      "EarlyStopping counter: 4 out of 30\n",
      "EarlyStopping counter: 5 out of 30\n",
      "EarlyStopping counter: 6 out of 30\n",
      "Epoch: 660, Train Loss: 2073.04081547, Validation Loss: 2928.49237188\n",
      "EarlyStopping counter: 7 out of 30\n",
      "EarlyStopping counter: 8 out of 30\n",
      "EarlyStopping counter: 9 out of 30\n",
      "EarlyStopping counter: 10 out of 30\n",
      "EarlyStopping counter: 11 out of 30\n",
      "EarlyStopping counter: 12 out of 30\n",
      "EarlyStopping counter: 13 out of 30\n",
      "EarlyStopping counter: 14 out of 30\n",
      "EarlyStopping counter: 15 out of 30\n",
      "EarlyStopping counter: 16 out of 30\n",
      "EarlyStopping counter: 17 out of 30\n",
      "EarlyStopping counter: 18 out of 30\n",
      "EarlyStopping counter: 19 out of 30\n",
      "EarlyStopping counter: 20 out of 30\n",
      "EarlyStopping counter: 21 out of 30\n",
      "EarlyStopping counter: 22 out of 30\n",
      "EarlyStopping counter: 23 out of 30\n",
      "EarlyStopping counter: 24 out of 30\n",
      "EarlyStopping counter: 25 out of 30\n",
      "EarlyStopping counter: 26 out of 30\n",
      "Epoch: 680, Train Loss: 2167.28952789, Validation Loss: 2706.09160236\n",
      "EarlyStopping counter: 27 out of 30\n",
      "EarlyStopping counter: 28 out of 30\n",
      "EarlyStopping counter: 29 out of 30\n",
      "EarlyStopping counter: 30 out of 30\n",
      "Early stopping, Epoch: 684, Train Loss: 1833.37788460, Validation Loss: 2251.33015088\n"
     ]
    },
    {
     "data": {
      "text/plain": [
       "1833.377884600921"
      ]
     },
     "execution_count": 220,
     "metadata": {},
     "output_type": "execute_result"
    }
   ],
   "source": [
    "#Ensemble(RNN, LSTM, GRU) 모델 training\n",
    "train(model = model_4, dataloader = train_dataloader, eval_dataloader = valid_dataloader, loss_fn = loss_func_4,\n",
    "      optim = optim_4, epochs = epochs, device = device, patience = patience, verbose = verbose)"
   ]
  },
  {
   "cell_type": "code",
   "execution_count": 221,
   "id": "70bc0562",
   "metadata": {
    "colab": {
     "base_uri": "https://localhost:8080/"
    },
    "executionInfo": {
     "elapsed": 17,
     "status": "ok",
     "timestamp": 1684608996916,
     "user": {
      "displayName": "정홍준",
      "userId": "08449064025647521772"
     },
     "user_tz": -540
    },
    "id": "6632c1cc",
    "outputId": "2d3dd195-4814-42b2-df50-382f96a0f824"
   },
   "outputs": [
    {
     "name": "stdout",
     "output_type": "stream",
     "text": [
      "model_4(Ensemble(RNN, LSTM, GRU)) Test Loss: 1531.54878384\n"
     ]
    }
   ],
   "source": [
    "#Ensemble(RNN, LSTM, GRU) 모델 test loss\n",
    "print(f'model_4(Ensemble(RNN, LSTM, GRU)) Test Loss: {validation(model_4, test_dataloader, loss_func_4, device):.8f}')"
   ]
  },
  {
   "cell_type": "code",
   "execution_count": 280,
   "id": "7e380a92",
   "metadata": {
    "colab": {
     "base_uri": "https://localhost:8080/",
     "height": 472
    },
    "executionInfo": {
     "elapsed": 8094,
     "status": "ok",
     "timestamp": 1684609005005,
     "user": {
      "displayName": "정홍준",
      "userId": "08449064025647521772"
     },
     "user_tz": -540
    },
    "id": "0f0e85eb",
    "outputId": "e62eb176-a4b5-4c5b-c1e2-1b911f6a72df"
   },
   "outputs": [
    {
     "data": {
      "image/png": "[encoded data removed]",
      "text/plain": [
       "<Figure size 432x288 with 1 Axes>"
      ]
     },
     "metadata": {},
     "output_type": "display_data"
    }
   ],
   "source": [
    "#x축 date(1900-01 ~ 2022-12) y축 oil price인 true값 그래프와 Ensemble모델(RNN, LSTM, GRU) 예측값 그래프 생성\n",
    "plt.plot(oil.ID.values[seq_length:], oil['oil_price'][seq_length:], label = 'True')\n",
    "plt.plot(oil.ID.values[seq_length:], model_4(torch.FloatTensor(X_seq)).cpu().detach().numpy()[:-1], label = 'Prediction')\n",
    "plt.xlabel('date')\n",
    "plt.ylabel('oil')\n",
    "plt.title('Oil price preidction(Ensemble(RNN, LSTM, GRU))')\n",
    "plt.legend()\n",
    "plt.show()"
   ]
  },
  {
   "cell_type": "code",
   "execution_count": 276,
   "id": "40109e14",
   "metadata": {
    "executionInfo": {
     "elapsed": 9,
     "status": "ok",
     "timestamp": 1684609005006,
     "user": {
      "displayName": "정홍준",
      "userId": "08449064025647521772"
     },
     "user_tz": -540
    },
    "id": "b083ab3e"
   },
   "outputs": [],
   "source": [
    "#Ensemble(LSTM, GRU)\n",
    "model_5 = Ensemble_Model_2(input_size, hidden_size, output_size, num_layers).to(device)\n",
    "loss_func_5 = torch.nn.MSELoss().to(device)\n",
    "optim_5 = torch.optim.Adam(params=model_5.parameters(), lr = lr )"
   ]
  },
  {
   "cell_type": "code",
   "execution_count": 277,
   "id": "11f388c6",
   "metadata": {
    "colab": {
     "base_uri": "https://localhost:8080/"
    },
    "executionInfo": {
     "elapsed": 265844,
     "status": "ok",
     "timestamp": 1684609270844,
     "user": {
      "displayName": "정홍준",
      "userId": "08449064025647521772"
     },
     "user_tz": -540
    },
    "id": "c95485cb",
    "outputId": "46fea38c-3c8c-4a57-9844-39b04c06f791"
   },
   "outputs": [
    {
     "name": "stdout",
     "output_type": "stream",
     "text": [
      "Epoch: 20, Train Loss: 31829.00973358, Validation Loss: 36952.83271088\n",
      "EarlyStopping counter: 1 out of 30\n",
      "Epoch: 40, Train Loss: 26286.16775680, Validation Loss: 30679.97988175\n",
      "EarlyStopping counter: 1 out of 30\n",
      "EarlyStopping counter: 1 out of 30\n",
      "Epoch: 60, Train Loss: 22287.16031629, Validation Loss: 25864.82119965\n",
      "EarlyStopping counter: 1 out of 30\n",
      "Epoch: 80, Train Loss: 18791.79771820, Validation Loss: 22910.04008757\n",
      "EarlyStopping counter: 1 out of 30\n",
      "EarlyStopping counter: 1 out of 30\n",
      "EarlyStopping counter: 2 out of 30\n",
      "EarlyStopping counter: 1 out of 30\n",
      "EarlyStopping counter: 1 out of 30\n",
      "EarlyStopping counter: 1 out of 30\n",
      "Epoch: 100, Train Loss: 16376.18035786, Validation Loss: 19818.59944026\n",
      "EarlyStopping counter: 1 out of 30\n",
      "EarlyStopping counter: 1 out of 30\n",
      "EarlyStopping counter: 1 out of 30\n",
      "EarlyStopping counter: 1 out of 30\n",
      "Epoch: 120, Train Loss: 14429.07144604, Validation Loss: 16747.93834428\n",
      "EarlyStopping counter: 1 out of 30\n",
      "EarlyStopping counter: 1 out of 30\n",
      "EarlyStopping counter: 1 out of 30\n",
      "Epoch: 140, Train Loss: 11990.68218947, Validation Loss: 14278.91547170\n",
      "EarlyStopping counter: 2 out of 30\n",
      "EarlyStopping counter: 1 out of 30\n",
      "EarlyStopping counter: 1 out of 30\n",
      "EarlyStopping counter: 1 out of 30\n",
      "EarlyStopping counter: 2 out of 30\n",
      "EarlyStopping counter: 1 out of 30\n",
      "EarlyStopping counter: 1 out of 30\n",
      "Epoch: 160, Train Loss: 10663.41857299, Validation Loss: 13493.93850026\n",
      "EarlyStopping counter: 1 out of 30\n",
      "EarlyStopping counter: 2 out of 30\n",
      "EarlyStopping counter: 1 out of 30\n",
      "EarlyStopping counter: 1 out of 30\n",
      "EarlyStopping counter: 1 out of 30\n",
      "EarlyStopping counter: 2 out of 30\n",
      "EarlyStopping counter: 1 out of 30\n",
      "EarlyStopping counter: 2 out of 30\n",
      "EarlyStopping counter: 1 out of 30\n",
      "Epoch: 180, Train Loss: 9122.51037645, Validation Loss: 10563.18606768\n",
      "EarlyStopping counter: 1 out of 30\n",
      "EarlyStopping counter: 1 out of 30\n",
      "EarlyStopping counter: 1 out of 30\n",
      "EarlyStopping counter: 1 out of 30\n",
      "EarlyStopping counter: 1 out of 30\n",
      "EarlyStopping counter: 1 out of 30\n",
      "EarlyStopping counter: 2 out of 30\n",
      "EarlyStopping counter: 3 out of 30\n",
      "EarlyStopping counter: 4 out of 30\n",
      "EarlyStopping counter: 1 out of 30\n",
      "EarlyStopping counter: 2 out of 30\n",
      "EarlyStopping counter: 3 out of 30\n",
      "Epoch: 200, Train Loss: 7749.96698713, Validation Loss: 9266.24689198\n",
      "EarlyStopping counter: 1 out of 30\n",
      "EarlyStopping counter: 1 out of 30\n",
      "EarlyStopping counter: 2 out of 30\n",
      "EarlyStopping counter: 1 out of 30\n",
      "EarlyStopping counter: 1 out of 30\n",
      "EarlyStopping counter: 2 out of 30\n",
      "EarlyStopping counter: 3 out of 30\n",
      "EarlyStopping counter: 4 out of 30\n",
      "EarlyStopping counter: 1 out of 30\n",
      "Epoch: 220, Train Loss: 6545.90892874, Validation Loss: 7774.88581770\n",
      "EarlyStopping counter: 1 out of 30\n",
      "EarlyStopping counter: 1 out of 30\n",
      "EarlyStopping counter: 2 out of 30\n",
      "EarlyStopping counter: 3 out of 30\n",
      "EarlyStopping counter: 1 out of 30\n",
      "EarlyStopping counter: 1 out of 30\n",
      "EarlyStopping counter: 2 out of 30\n",
      "EarlyStopping counter: 3 out of 30\n",
      "EarlyStopping counter: 4 out of 30\n",
      "EarlyStopping counter: 1 out of 30\n",
      "EarlyStopping counter: 2 out of 30\n",
      "Epoch: 240, Train Loss: 5546.50717367, Validation Loss: 7139.08491414\n",
      "EarlyStopping counter: 1 out of 30\n",
      "EarlyStopping counter: 2 out of 30\n",
      "EarlyStopping counter: 3 out of 30\n",
      "EarlyStopping counter: 1 out of 30\n",
      "EarlyStopping counter: 2 out of 30\n",
      "EarlyStopping counter: 1 out of 30\n",
      "EarlyStopping counter: 2 out of 30\n",
      "EarlyStopping counter: 3 out of 30\n",
      "EarlyStopping counter: 1 out of 30\n",
      "EarlyStopping counter: 1 out of 30\n",
      "EarlyStopping counter: 2 out of 30\n",
      "EarlyStopping counter: 1 out of 30\n",
      "Epoch: 260, Train Loss: 5024.65232930, Validation Loss: 5896.54237624\n",
      "EarlyStopping counter: 1 out of 30\n",
      "EarlyStopping counter: 2 out of 30\n",
      "EarlyStopping counter: 3 out of 30\n",
      "EarlyStopping counter: 1 out of 30\n",
      "EarlyStopping counter: 1 out of 30\n",
      "EarlyStopping counter: 1 out of 30\n",
      "EarlyStopping counter: 1 out of 30\n",
      "EarlyStopping counter: 2 out of 30\n",
      "Epoch: 280, Train Loss: 4268.71400547, Validation Loss: 5183.48973079\n",
      "EarlyStopping counter: 1 out of 30\n",
      "EarlyStopping counter: 2 out of 30\n",
      "EarlyStopping counter: 1 out of 30\n",
      "EarlyStopping counter: 1 out of 30\n",
      "EarlyStopping counter: 2 out of 30\n",
      "EarlyStopping counter: 3 out of 30\n",
      "EarlyStopping counter: 1 out of 30\n",
      "EarlyStopping counter: 2 out of 30\n",
      "EarlyStopping counter: 3 out of 30\n",
      "EarlyStopping counter: 4 out of 30\n",
      "EarlyStopping counter: 1 out of 30\n",
      "EarlyStopping counter: 2 out of 30\n",
      "EarlyStopping counter: 1 out of 30\n",
      "Epoch: 300, Train Loss: 3761.15303227, Validation Loss: 4756.42997466\n",
      "EarlyStopping counter: 1 out of 30\n",
      "EarlyStopping counter: 2 out of 30\n",
      "EarlyStopping counter: 3 out of 30\n",
      "EarlyStopping counter: 4 out of 30\n",
      "EarlyStopping counter: 1 out of 30\n",
      "EarlyStopping counter: 2 out of 30\n",
      "EarlyStopping counter: 3 out of 30\n",
      "EarlyStopping counter: 1 out of 30\n",
      "EarlyStopping counter: 2 out of 30\n",
      "EarlyStopping counter: 1 out of 30\n",
      "EarlyStopping counter: 2 out of 30\n",
      "EarlyStopping counter: 3 out of 30\n",
      "Epoch: 320, Train Loss: 3486.12922626, Validation Loss: 4341.52381529\n",
      "EarlyStopping counter: 1 out of 30\n",
      "EarlyStopping counter: 2 out of 30\n",
      "EarlyStopping counter: 1 out of 30\n",
      "EarlyStopping counter: 2 out of 30\n",
      "EarlyStopping counter: 3 out of 30\n",
      "EarlyStopping counter: 4 out of 30\n",
      "EarlyStopping counter: 5 out of 30\n",
      "EarlyStopping counter: 6 out of 30\n",
      "EarlyStopping counter: 1 out of 30\n",
      "EarlyStopping counter: 2 out of 30\n",
      "EarlyStopping counter: 3 out of 30\n",
      "EarlyStopping counter: 4 out of 30\n",
      "EarlyStopping counter: 1 out of 30\n",
      "EarlyStopping counter: 2 out of 30\n",
      "Epoch: 340, Train Loss: 3297.27058024, Validation Loss: 4052.60267365\n",
      "EarlyStopping counter: 1 out of 30\n",
      "EarlyStopping counter: 2 out of 30\n",
      "EarlyStopping counter: 3 out of 30\n",
      "EarlyStopping counter: 4 out of 30\n",
      "EarlyStopping counter: 5 out of 30\n",
      "EarlyStopping counter: 6 out of 30\n",
      "EarlyStopping counter: 1 out of 30\n",
      "EarlyStopping counter: 2 out of 30\n",
      "EarlyStopping counter: 3 out of 30\n",
      "EarlyStopping counter: 4 out of 30\n",
      "EarlyStopping counter: 1 out of 30\n",
      "EarlyStopping counter: 2 out of 30\n",
      "EarlyStopping counter: 3 out of 30\n",
      "EarlyStopping counter: 4 out of 30\n",
      "EarlyStopping counter: 5 out of 30\n",
      "EarlyStopping counter: 6 out of 30\n",
      "EarlyStopping counter: 7 out of 30\n",
      "EarlyStopping counter: 8 out of 30\n",
      "Epoch: 360, Train Loss: 3123.36787647, Validation Loss: 4078.45276410\n",
      "EarlyStopping counter: 9 out of 30\n",
      "EarlyStopping counter: 10 out of 30\n",
      "EarlyStopping counter: 11 out of 30\n",
      "EarlyStopping counter: 1 out of 30\n",
      "EarlyStopping counter: 2 out of 30\n",
      "EarlyStopping counter: 1 out of 30\n",
      "EarlyStopping counter: 2 out of 30\n",
      "EarlyStopping counter: 3 out of 30\n",
      "EarlyStopping counter: 1 out of 30\n",
      "EarlyStopping counter: 1 out of 30\n",
      "EarlyStopping counter: 2 out of 30\n",
      "EarlyStopping counter: 3 out of 30\n",
      "EarlyStopping counter: 1 out of 30\n",
      "EarlyStopping counter: 1 out of 30\n",
      "Epoch: 380, Train Loss: 2889.84530339, Validation Loss: 3702.88706220\n",
      "EarlyStopping counter: 2 out of 30\n",
      "EarlyStopping counter: 3 out of 30\n",
      "EarlyStopping counter: 4 out of 30\n",
      "EarlyStopping counter: 5 out of 30\n",
      "EarlyStopping counter: 6 out of 30\n",
      "EarlyStopping counter: 7 out of 30\n",
      "EarlyStopping counter: 1 out of 30\n",
      "EarlyStopping counter: 2 out of 30\n",
      "EarlyStopping counter: 1 out of 30\n",
      "EarlyStopping counter: 2 out of 30\n",
      "EarlyStopping counter: 1 out of 30\n",
      "EarlyStopping counter: 2 out of 30\n",
      "EarlyStopping counter: 3 out of 30\n",
      "EarlyStopping counter: 4 out of 30\n",
      "EarlyStopping counter: 5 out of 30\n",
      "Epoch: 400, Train Loss: 2676.46885042, Validation Loss: 3271.76710330\n",
      "EarlyStopping counter: 6 out of 30\n",
      "EarlyStopping counter: 7 out of 30\n",
      "EarlyStopping counter: 8 out of 30\n",
      "EarlyStopping counter: 1 out of 30\n",
      "EarlyStopping counter: 1 out of 30\n",
      "EarlyStopping counter: 2 out of 30\n",
      "EarlyStopping counter: 3 out of 30\n",
      "EarlyStopping counter: 1 out of 30\n",
      "EarlyStopping counter: 2 out of 30\n",
      "EarlyStopping counter: 3 out of 30\n",
      "EarlyStopping counter: 1 out of 30\n",
      "EarlyStopping counter: 2 out of 30\n",
      "EarlyStopping counter: 3 out of 30\n",
      "EarlyStopping counter: 4 out of 30\n",
      "EarlyStopping counter: 5 out of 30\n",
      "EarlyStopping counter: 6 out of 30\n",
      "Epoch: 420, Train Loss: 2609.85646720, Validation Loss: 3227.83118808\n",
      "EarlyStopping counter: 1 out of 30\n",
      "EarlyStopping counter: 2 out of 30\n",
      "EarlyStopping counter: 3 out of 30\n",
      "EarlyStopping counter: 1 out of 30\n",
      "EarlyStopping counter: 2 out of 30\n",
      "EarlyStopping counter: 3 out of 30\n",
      "EarlyStopping counter: 4 out of 30\n",
      "EarlyStopping counter: 5 out of 30\n",
      "EarlyStopping counter: 1 out of 30\n",
      "EarlyStopping counter: 2 out of 30\n",
      "EarlyStopping counter: 3 out of 30\n",
      "EarlyStopping counter: 4 out of 30\n",
      "EarlyStopping counter: 5 out of 30\n",
      "EarlyStopping counter: 6 out of 30\n",
      "EarlyStopping counter: 7 out of 30\n",
      "Epoch: 440, Train Loss: 2353.57096258, Validation Loss: 2816.09682710\n",
      "EarlyStopping counter: 1 out of 30\n",
      "EarlyStopping counter: 2 out of 30\n",
      "EarlyStopping counter: 1 out of 30\n",
      "EarlyStopping counter: 2 out of 30\n",
      "EarlyStopping counter: 3 out of 30\n",
      "EarlyStopping counter: 4 out of 30\n",
      "EarlyStopping counter: 1 out of 30\n",
      "EarlyStopping counter: 2 out of 30\n",
      "EarlyStopping counter: 3 out of 30\n",
      "EarlyStopping counter: 4 out of 30\n",
      "EarlyStopping counter: 5 out of 30\n",
      "EarlyStopping counter: 6 out of 30\n",
      "EarlyStopping counter: 7 out of 30\n",
      "EarlyStopping counter: 8 out of 30\n",
      "EarlyStopping counter: 9 out of 30\n",
      "EarlyStopping counter: 10 out of 30\n",
      "EarlyStopping counter: 1 out of 30\n",
      "Epoch: 460, Train Loss: 2289.57738865, Validation Loss: 3685.87842935\n",
      "EarlyStopping counter: 2 out of 30\n",
      "EarlyStopping counter: 3 out of 30\n",
      "EarlyStopping counter: 4 out of 30\n",
      "EarlyStopping counter: 5 out of 30\n",
      "EarlyStopping counter: 6 out of 30\n",
      "EarlyStopping counter: 7 out of 30\n",
      "EarlyStopping counter: 1 out of 30\n",
      "EarlyStopping counter: 2 out of 30\n",
      "EarlyStopping counter: 3 out of 30\n",
      "EarlyStopping counter: 4 out of 30\n",
      "EarlyStopping counter: 5 out of 30\n",
      "EarlyStopping counter: 6 out of 30\n",
      "EarlyStopping counter: 7 out of 30\n",
      "EarlyStopping counter: 8 out of 30\n",
      "EarlyStopping counter: 9 out of 30\n",
      "EarlyStopping counter: 10 out of 30\n",
      "EarlyStopping counter: 11 out of 30\n",
      "EarlyStopping counter: 12 out of 30\n",
      "Epoch: 480, Train Loss: 2181.94791778, Validation Loss: 2486.48012695\n",
      "EarlyStopping counter: 1 out of 30\n",
      "EarlyStopping counter: 2 out of 30\n",
      "EarlyStopping counter: 3 out of 30\n",
      "EarlyStopping counter: 4 out of 30\n",
      "EarlyStopping counter: 5 out of 30\n",
      "EarlyStopping counter: 6 out of 30\n",
      "EarlyStopping counter: 1 out of 30\n",
      "EarlyStopping counter: 1 out of 30\n",
      "EarlyStopping counter: 2 out of 30\n",
      "EarlyStopping counter: 3 out of 30\n",
      "EarlyStopping counter: 4 out of 30\n",
      "EarlyStopping counter: 1 out of 30\n",
      "EarlyStopping counter: 2 out of 30\n",
      "EarlyStopping counter: 3 out of 30\n",
      "EarlyStopping counter: 4 out of 30\n",
      "EarlyStopping counter: 5 out of 30\n",
      "EarlyStopping counter: 6 out of 30\n",
      "Epoch: 500, Train Loss: 1991.39769098, Validation Loss: 2332.61741281\n",
      "EarlyStopping counter: 7 out of 30\n",
      "EarlyStopping counter: 8 out of 30\n",
      "EarlyStopping counter: 9 out of 30\n",
      "EarlyStopping counter: 10 out of 30\n",
      "EarlyStopping counter: 11 out of 30\n",
      "EarlyStopping counter: 12 out of 30\n",
      "EarlyStopping counter: 13 out of 30\n",
      "EarlyStopping counter: 14 out of 30\n",
      "EarlyStopping counter: 15 out of 30\n",
      "EarlyStopping counter: 16 out of 30\n",
      "EarlyStopping counter: 17 out of 30\n",
      "EarlyStopping counter: 18 out of 30\n",
      "EarlyStopping counter: 1 out of 30\n",
      "EarlyStopping counter: 2 out of 30\n",
      "EarlyStopping counter: 3 out of 30\n",
      "EarlyStopping counter: 4 out of 30\n",
      "EarlyStopping counter: 5 out of 30\n",
      "EarlyStopping counter: 6 out of 30\n",
      "Epoch: 520, Train Loss: 2084.21763446, Validation Loss: 2263.13568039\n",
      "EarlyStopping counter: 1 out of 30\n",
      "EarlyStopping counter: 2 out of 30\n",
      "EarlyStopping counter: 3 out of 30\n",
      "EarlyStopping counter: 4 out of 30\n",
      "EarlyStopping counter: 5 out of 30\n",
      "EarlyStopping counter: 6 out of 30\n",
      "EarlyStopping counter: 7 out of 30\n",
      "EarlyStopping counter: 8 out of 30\n",
      "EarlyStopping counter: 1 out of 30\n",
      "EarlyStopping counter: 2 out of 30\n",
      "EarlyStopping counter: 3 out of 30\n",
      "EarlyStopping counter: 4 out of 30\n",
      "EarlyStopping counter: 5 out of 30\n",
      "EarlyStopping counter: 6 out of 30\n",
      "EarlyStopping counter: 7 out of 30\n",
      "EarlyStopping counter: 8 out of 30\n",
      "EarlyStopping counter: 1 out of 30\n",
      "Epoch: 540, Train Loss: 2079.60719877, Validation Loss: 2658.21411738\n",
      "EarlyStopping counter: 1 out of 30\n",
      "EarlyStopping counter: 2 out of 30\n",
      "EarlyStopping counter: 3 out of 30\n",
      "EarlyStopping counter: 4 out of 30\n",
      "EarlyStopping counter: 5 out of 30\n",
      "EarlyStopping counter: 6 out of 30\n",
      "EarlyStopping counter: 7 out of 30\n",
      "EarlyStopping counter: 8 out of 30\n",
      "EarlyStopping counter: 9 out of 30\n",
      "EarlyStopping counter: 10 out of 30\n",
      "EarlyStopping counter: 11 out of 30\n",
      "EarlyStopping counter: 12 out of 30\n",
      "EarlyStopping counter: 13 out of 30\n",
      "EarlyStopping counter: 14 out of 30\n",
      "EarlyStopping counter: 15 out of 30\n",
      "EarlyStopping counter: 16 out of 30\n",
      "EarlyStopping counter: 17 out of 30\n",
      "EarlyStopping counter: 18 out of 30\n",
      "EarlyStopping counter: 19 out of 30\n",
      "Epoch: 560, Train Loss: 2027.23134647, Validation Loss: 2190.04969277\n",
      "EarlyStopping counter: 20 out of 30\n",
      "EarlyStopping counter: 21 out of 30\n",
      "EarlyStopping counter: 1 out of 30\n",
      "EarlyStopping counter: 2 out of 30\n",
      "EarlyStopping counter: 3 out of 30\n",
      "EarlyStopping counter: 4 out of 30\n",
      "EarlyStopping counter: 5 out of 30\n",
      "EarlyStopping counter: 6 out of 30\n",
      "EarlyStopping counter: 7 out of 30\n",
      "EarlyStopping counter: 8 out of 30\n",
      "EarlyStopping counter: 1 out of 30\n",
      "EarlyStopping counter: 2 out of 30\n",
      "EarlyStopping counter: 3 out of 30\n",
      "EarlyStopping counter: 4 out of 30\n",
      "EarlyStopping counter: 5 out of 30\n",
      "EarlyStopping counter: 6 out of 30\n",
      "EarlyStopping counter: 7 out of 30\n",
      "EarlyStopping counter: 8 out of 30\n",
      "Epoch: 580, Train Loss: 2105.66672539, Validation Loss: 2463.97652987\n",
      "EarlyStopping counter: 9 out of 30\n",
      "EarlyStopping counter: 10 out of 30\n",
      "EarlyStopping counter: 11 out of 30\n",
      "EarlyStopping counter: 12 out of 30\n",
      "EarlyStopping counter: 13 out of 30\n",
      "EarlyStopping counter: 14 out of 30\n",
      "EarlyStopping counter: 15 out of 30\n",
      "EarlyStopping counter: 16 out of 30\n",
      "EarlyStopping counter: 17 out of 30\n",
      "EarlyStopping counter: 1 out of 30\n",
      "EarlyStopping counter: 1 out of 30\n",
      "EarlyStopping counter: 2 out of 30\n",
      "EarlyStopping counter: 3 out of 30\n",
      "EarlyStopping counter: 4 out of 30\n",
      "EarlyStopping counter: 5 out of 30\n",
      "EarlyStopping counter: 6 out of 30\n",
      "EarlyStopping counter: 7 out of 30\n",
      "EarlyStopping counter: 8 out of 30\n",
      "Epoch: 600, Train Loss: 1956.48845497, Validation Loss: 2202.37010997\n",
      "EarlyStopping counter: 1 out of 30\n",
      "EarlyStopping counter: 2 out of 30\n",
      "EarlyStopping counter: 3 out of 30\n",
      "EarlyStopping counter: 1 out of 30\n",
      "EarlyStopping counter: 2 out of 30\n",
      "EarlyStopping counter: 3 out of 30\n",
      "EarlyStopping counter: 4 out of 30\n",
      "EarlyStopping counter: 5 out of 30\n",
      "EarlyStopping counter: 6 out of 30\n",
      "EarlyStopping counter: 7 out of 30\n",
      "EarlyStopping counter: 8 out of 30\n",
      "EarlyStopping counter: 9 out of 30\n",
      "EarlyStopping counter: 10 out of 30\n",
      "EarlyStopping counter: 11 out of 30\n",
      "EarlyStopping counter: 12 out of 30\n",
      "EarlyStopping counter: 13 out of 30\n",
      "EarlyStopping counter: 14 out of 30\n",
      "EarlyStopping counter: 15 out of 30\n",
      "Epoch: 620, Train Loss: 1900.95779333, Validation Loss: 1980.31138988\n",
      "EarlyStopping counter: 16 out of 30\n",
      "EarlyStopping counter: 17 out of 30\n",
      "EarlyStopping counter: 18 out of 30\n",
      "EarlyStopping counter: 19 out of 30\n",
      "EarlyStopping counter: 20 out of 30\n",
      "EarlyStopping counter: 21 out of 30\n",
      "EarlyStopping counter: 22 out of 30\n",
      "EarlyStopping counter: 23 out of 30\n",
      "EarlyStopping counter: 24 out of 30\n",
      "EarlyStopping counter: 25 out of 30\n",
      "EarlyStopping counter: 26 out of 30\n",
      "EarlyStopping counter: 27 out of 30\n",
      "EarlyStopping counter: 28 out of 30\n",
      "EarlyStopping counter: 29 out of 30\n",
      "EarlyStopping counter: 30 out of 30\n",
      "Early stopping, Epoch: 635, Train Loss: 2331.78786232, Validation Loss: 2964.61026000\n"
     ]
    },
    {
     "data": {
      "text/plain": [
       "2331.7878623225474"
      ]
     },
     "execution_count": 277,
     "metadata": {},
     "output_type": "execute_result"
    }
   ],
   "source": [
    "#Ensemble(LSTM, GRU) 모델 training\n",
    "train(model = model_5, dataloader = train_dataloader, eval_dataloader = valid_dataloader, loss_fn = loss_func_5, \n",
    "      optim = optim_5, epochs = epochs, device = device, patience = patience, verbose = verbose)"
   ]
  },
  {
   "cell_type": "code",
   "execution_count": 278,
   "id": "907aa131",
   "metadata": {
    "colab": {
     "base_uri": "https://localhost:8080/"
    },
    "executionInfo": {
     "elapsed": 17,
     "status": "ok",
     "timestamp": 1684609270845,
     "user": {
      "displayName": "정홍준",
      "userId": "08449064025647521772"
     },
     "user_tz": -540
    },
    "id": "3995a78c",
    "outputId": "0190b2d2-8755-44dd-868e-5f432de71c89"
   },
   "outputs": [
    {
     "name": "stdout",
     "output_type": "stream",
     "text": [
      "model_5(Ensemble(LSTM, GRU)) Test Loss: 2829.94024979\n"
     ]
    }
   ],
   "source": [
    "#Ensemble(LSTM, GRU) 모델 test loss\n",
    "print(f'model_5(Ensemble(LSTM, GRU)) Test Loss: {validation(model_5, test_dataloader, loss_func_5, device):.8f}')"
   ]
  },
  {
   "cell_type": "code",
   "execution_count": 279,
   "id": "37659b3e",
   "metadata": {
    "colab": {
     "base_uri": "https://localhost:8080/",
     "height": 472
    },
    "executionInfo": {
     "elapsed": 7413,
     "status": "ok",
     "timestamp": 1684609278252,
     "user": {
      "displayName": "정홍준",
      "userId": "08449064025647521772"
     },
     "user_tz": -540
    },
    "id": "c5f80137",
    "outputId": "0a7b9b17-63a6-4d85-d3ea-c809cd029db7"
   },
   "outputs": [
    {
     "data": {
      "image/png": "[encoded data removed]",
      "text/plain": [
       "<Figure size 432x288 with 1 Axes>"
      ]
     },
     "metadata": {},
     "output_type": "display_data"
    }
   ],
   "source": [
    "#x축 date(1900-01 ~ 2022-12) y축 oil price인 true값 그래프와 Ensemble모델(LSTM, GRU) 예측값 그래프 생성\n",
    "plt.plot(oil.ID.values[seq_length:], oil['oil_price'][seq_length:], label = 'True')\n",
    "plt.plot(oil.ID.values[seq_length:], model_5(torch.FloatTensor(X_seq)).cpu().detach().numpy()[:-1], label = 'Prediction')\n",
    "plt.xlabel('date')\n",
    "plt.ylabel('oil price')\n",
    "plt.title('Oil price preidction(Esemble(LSTM, GRU))')\n",
    "plt.legend()\n",
    "plt.show()"
   ]
  },
  {
   "cell_type": "code",
   "execution_count": 281,
   "id": "65f857e4",
   "metadata": {
    "executionInfo": {
     "elapsed": 16,
     "status": "ok",
     "timestamp": 1684609278252,
     "user": {
      "displayName": "정홍준",
      "userId": "08449064025647521772"
     },
     "user_tz": -540
    },
    "id": "b22ffa92"
   },
   "outputs": [],
   "source": [
    "test_loss = [validation(model_1, test_dataloader, loss_func_1, device),\n",
    "            validation(model_2, test_dataloader, loss_func_2, device),\n",
    "            validation(model_3, test_dataloader, loss_func_3, device),\n",
    "            validation(model_4, test_dataloader, loss_func_4, device),\n",
    "            validation(model_5, test_dataloader, loss_func_5, device)]"
   ]
  },
  {
   "cell_type": "code",
   "execution_count": 282,
   "id": "1532cbd9",
   "metadata": {},
   "outputs": [],
   "source": [
    "model_name = [\"RNN\", \"LSTM\", \"GRU\", \"Ensemble(RNN, LSTM, GRU)\", \"Ensemble(LSTM, GRU)\"]"
   ]
  },
  {
   "cell_type": "code",
   "execution_count": 283,
   "id": "81bbe24b",
   "metadata": {},
   "outputs": [
    {
     "data": {
      "image/png": "[encoded data removed]",
      "text/plain": [
       "<Figure size 720x576 with 1 Axes>"
      ]
     },
     "metadata": {},
     "output_type": "display_data"
    }
   ],
   "source": [
    "#model별 test loss를 plot\n",
    "plt.figure(figsize=(10,8))\n",
    "plt.scatter(model_name, test_loss)\n",
    "plt.xlabel(\"model_name\")\n",
    "plt.ylabel(\"test_loss\")\n",
    "plt.show()"
   ]
  },
  {
   "cell_type": "code",
   "execution_count": 230,
   "id": "dd1a1495",
   "metadata": {},
   "outputs": [],
   "source": [
    "#모델예측을 위한 연,월 및 주 데이터 생성\n",
    "#지금 seq_length가 12이므로 1월부터~12월까지의 데이터를 이용해 다음해 1월의 유가 예측하므로 2022년 데이터까지 사용\n",
    "X_2022_to_2032 = np.array([])\n",
    "for year in range(2022, 2032 + 1):\n",
    "    for month in range(1, 13):\n",
    "        X_2022_to_2032 = np.append(X_2022_to_2032, np.array([year, month]))"
   ]
  },
  {
   "cell_type": "code",
   "execution_count": 231,
   "id": "4ee07691",
   "metadata": {},
   "outputs": [],
   "source": [
    "X_2022_to_2032 = X_2022_to_2032.reshape(-1, 2).astype(int)"
   ]
  },
  {
   "cell_type": "code",
   "execution_count": 232,
   "id": "788841bf",
   "metadata": {},
   "outputs": [],
   "source": [
    "#데이터 스케일링\n",
    "X_2022_to_2032_scaled = scaler.transform(X_2022_to_2032)"
   ]
  },
  {
   "cell_type": "code",
   "execution_count": 248,
   "id": "5942dea3",
   "metadata": {},
   "outputs": [],
   "source": [
    "#데이터를 sequence length만큼 이어줌\n",
    "X_2022_to_2032_scaled_seq = data_to_seq(X_2022_to_2032_scaled, X_2022_to_2032_scaled.shape[1], seq_length)[:-1]"
   ]
  },
  {
   "cell_type": "code",
   "execution_count": 250,
   "id": "c5c6aa86",
   "metadata": {},
   "outputs": [],
   "source": [
    "#유가 예측값\n",
    "#4번째 모델(Ensemble(RNN, LSTM, GRU)의 test loss가 가장 작으므로 4번째 모델로 예측\n",
    "oil_2023_to_2032 = model_4(torch.FloatTensor(X_2022_to_2032_scaled_seq)).cpu().detach().numpy()"
   ]
  },
  {
   "cell_type": "code",
   "execution_count": 251,
   "id": "9abdb662",
   "metadata": {},
   "outputs": [],
   "source": [
    "X_2022_to_2032_df = pd.DataFrame(X_2022_to_2032)"
   ]
  },
  {
   "cell_type": "code",
   "execution_count": 262,
   "id": "51a33778",
   "metadata": {},
   "outputs": [],
   "source": [
    "#input데이터와 output데이터 합침\n",
    "pred_2023_to_2032 = pd.DataFrame(np.hstack((X_2022_to_2032_df[X_2022_to_2032_df[0] != 2022].values,\n",
    "                                            oil_2023_to_2032.reshape(-1,1))), columns = ['Year', 'Month', 'oil_price'])"
   ]
  },
  {
   "cell_type": "code",
   "execution_count": 265,
   "id": "6b5f7804",
   "metadata": {},
   "outputs": [],
   "source": [
    "pred_2023_to_2032['Year'] = pred_2023_to_2032['Year'].astype(int)\n",
    "pred_2023_to_2032['Month'] = pred_2023_to_2032['Month'].astype(int)"
   ]
  },
  {
   "cell_type": "code",
   "execution_count": 266,
   "id": "a2fa518f",
   "metadata": {},
   "outputs": [],
   "source": [
    "#연, 월 column으로 id column 생성\n",
    "pred_2023_to_2032['ID'] = pred_2023_to_2032['Year'].astype(str) + '-' + pred_2023_to_2032['Month'].apply(lambda x: str(x).zfill(2))"
   ]
  },
  {
   "cell_type": "code",
   "execution_count": 268,
   "id": "6bb3f6f1",
   "metadata": {},
   "outputs": [],
   "source": [
    "pred_2023_to_2032.drop(columns = ['Year', 'Month']).to_csv(\"/Users/jeonghongjun/python_project/AI_project/data/oil_price_2023_to_2032.csv\")"
   ]
  },
  {
   "cell_type": "code",
   "execution_count": 269,
   "id": "c2147a7e",
   "metadata": {},
   "outputs": [],
   "source": [
    "torch.save(model_4, \"/Users/jeonghongjun/python_project/AI_project/model/oil_price_model(Ensemble(RNN, LSTM, GRU)).pth\")"
   ]
  },
  {
   "cell_type": "code",
   "execution_count": null,
   "id": "4a37d005",
   "metadata": {},
   "outputs": [],
   "source": []
  }
 ],
 "metadata": {
  "accelerator": "GPU",
  "colab": {
   "gpuType": "T4",
   "provenance": []
  },
  "gpuClass": "standard",
  "kernelspec": {
   "display_name": "Python 3 (Spyder)",
   "language": "python3",
   "name": "python3"
  },
  "language_info": {
   "codemirror_mode": {
    "name": "ipython",
    "version": 3
   },
   "file_extension": ".py",
   "mimetype": "text/x-python",
   "name": "python",
   "nbconvert_exporter": "python",
   "pygments_lexer": "ipython3",
   "version": "3.11.2"
  }
 },
 "nbformat": 4,
 "nbformat_minor": 5
}
