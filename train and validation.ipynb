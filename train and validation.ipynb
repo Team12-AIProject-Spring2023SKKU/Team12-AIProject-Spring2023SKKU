{
 "cells": [
  {
   "cell_type": "code",
   "execution_count": 4,
   "id": "5751c015",
   "metadata": {},
   "outputs": [],
   "source": [
    "def train(model, dataloader, loss_fn, optim, device):\n",
    "    model.train()\n",
    "    train_loss = 0\n",
    "    num_batch = len(dataloader)\n",
    "    for x, y_true in dataloader:\n",
    "        x, y_true = x.to(device), y_true.to(device)\n",
    "        y_pred = model(x)\n",
    "        loss = loss_fn(y_true, y_pred)\n",
    "        train_loss += loss.item()\n",
    "        optim.zero_grad()\n",
    "        loss.backward()\n",
    "        optim.step()\n",
    "    train_loss /= num_batch\n",
    "    return train_loss"
   ]
  },
  {
   "cell_type": "code",
   "execution_count": 5,
   "id": "b94070bf",
   "metadata": {},
   "outputs": [],
   "source": [
    "def validation(model, dataloader, loss_fn, device):\n",
    "    model.eval()\n",
    "    val_loss = 0\n",
    "    num_batch = len(dataloader)\n",
    "    with torch.no_grad():\n",
    "        for x, y_true  in dataloader:\n",
    "            x, y_true = x.to(device), y_true.to(device)\n",
    "            y_pred = model(x)\n",
    "            loss = loss_fn(y_true, y_pred)\n",
    "            val_loss += loss.item()\n",
    "    val_loss /= num_batch\n",
    "    return val_loss"
   ]
  },
  {
   "cell_type": "code",
   "execution_count": null,
   "id": "f03f6693",
   "metadata": {},
   "outputs": [],
   "source": []
  }
 ],
 "metadata": {
  "kernelspec": {
   "display_name": "Python 3 (Spyder)",
   "language": "python3",
   "name": "python3"
  },
  "language_info": {
   "codemirror_mode": {
    "name": "ipython",
    "version": 3
   },
   "file_extension": ".py",
   "mimetype": "text/x-python",
   "name": "python",
   "nbconvert_exporter": "python",
   "pygments_lexer": "ipython3",
   "version": "3.11.2"
  }
 },
 "nbformat": 4,
 "nbformat_minor": 5
}
