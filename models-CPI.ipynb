{
 "cells": [
  {
   "cell_type": "code",
   "execution_count": 2,
   "id": "773d701d",
   "metadata": {},
   "outputs": [],
   "source": [
    "import matplotlib.pyplot as plt\n",
    "import numpy as np\n",
    "import pandas as pd"
   ]
  },
  {
   "cell_type": "code",
   "execution_count": 3,
   "id": "2c6d8717",
   "metadata": {},
   "outputs": [],
   "source": [
    "data_df = pd.read_csv(f\"C:\\\\Users\\\\johnh\\\\OneDrive\\\\Documents\\\\공부\\\\2023년\\\\인공지능프로젝트\\\\기말프로젝트\\\\final_data\\\\\\data_by_all_20230518.csv\",\n",
    "                      header=0)\n"
   ]
  },
  {
   "cell_type": "code",
   "execution_count": 4,
   "id": "91dd3e10",
   "metadata": {},
   "outputs": [
    {
     "data": {
      "text/html": [
       "<div>\n",
       "<style scoped>\n",
       "    .dataframe tbody tr th:only-of-type {\n",
       "        vertical-align: middle;\n",
       "    }\n",
       "\n",
       "    .dataframe tbody tr th {\n",
       "        vertical-align: top;\n",
       "    }\n",
       "\n",
       "    .dataframe thead th {\n",
       "        text-align: right;\n",
       "    }\n",
       "</style>\n",
       "<table border=\"1\" class=\"dataframe\">\n",
       "  <thead>\n",
       "    <tr style=\"text-align: right;\">\n",
       "      <th></th>\n",
       "      <th>ID</th>\n",
       "      <th>fertilizer_price_index_all</th>\n",
       "      <th>fertilizer_price_index_nitrogen</th>\n",
       "      <th>fertilizer_price_index_phosphate</th>\n",
       "      <th>oil_price</th>\n",
       "      <th>meat_total(kg/capita)</th>\n",
       "      <th>meat_total_us(lb/capita)</th>\n",
       "      <th>fruits(kg/capita)</th>\n",
       "      <th>vegetable(kg/capita)</th>\n",
       "      <th>coffee_us(gal/capita)</th>\n",
       "      <th>...</th>\n",
       "      <th>population_world</th>\n",
       "      <th>population_asia_all</th>\n",
       "      <th>population_asia_east&amp;southeast</th>\n",
       "      <th>cpi_us</th>\n",
       "      <th>gini_us</th>\n",
       "      <th>harvestedarea_rice_asia(ha)</th>\n",
       "      <th>yield_rice_asia(hg/ha)</th>\n",
       "      <th>production_rice_asia(ton)</th>\n",
       "      <th>food_consumption_us(kcal)</th>\n",
       "      <th>crop_price_us</th>\n",
       "    </tr>\n",
       "  </thead>\n",
       "  <tbody>\n",
       "    <tr>\n",
       "      <th>0</th>\n",
       "      <td>1900-01</td>\n",
       "      <td>2.687540</td>\n",
       "      <td>9.292814</td>\n",
       "      <td>1.0</td>\n",
       "      <td>7.48391</td>\n",
       "      <td>10.803852</td>\n",
       "      <td>80.945119</td>\n",
       "      <td>34.539159</td>\n",
       "      <td>11.243287</td>\n",
       "      <td>31.117215</td>\n",
       "      <td>...</td>\n",
       "      <td>312932.232000</td>\n",
       "      <td>56415.697000</td>\n",
       "      <td>96662.795</td>\n",
       "      <td>8.664286</td>\n",
       "      <td>26.981158</td>\n",
       "      <td>8.572384e+07</td>\n",
       "      <td>5954.0</td>\n",
       "      <td>68840806.0</td>\n",
       "      <td>3007.102825</td>\n",
       "      <td>106.0</td>\n",
       "    </tr>\n",
       "    <tr>\n",
       "      <th>1</th>\n",
       "      <td>1900-02</td>\n",
       "      <td>2.701685</td>\n",
       "      <td>9.297349</td>\n",
       "      <td>1.0</td>\n",
       "      <td>7.48391</td>\n",
       "      <td>10.803852</td>\n",
       "      <td>80.945119</td>\n",
       "      <td>34.539159</td>\n",
       "      <td>11.243287</td>\n",
       "      <td>31.117215</td>\n",
       "      <td>...</td>\n",
       "      <td>316540.136167</td>\n",
       "      <td>58598.259167</td>\n",
       "      <td>97881.040</td>\n",
       "      <td>8.671429</td>\n",
       "      <td>26.991586</td>\n",
       "      <td>8.576468e+07</td>\n",
       "      <td>5971.0</td>\n",
       "      <td>68840806.0</td>\n",
       "      <td>3007.738058</td>\n",
       "      <td>106.0</td>\n",
       "    </tr>\n",
       "    <tr>\n",
       "      <th>2</th>\n",
       "      <td>1900-03</td>\n",
       "      <td>2.715830</td>\n",
       "      <td>9.301883</td>\n",
       "      <td>1.0</td>\n",
       "      <td>7.48391</td>\n",
       "      <td>10.803852</td>\n",
       "      <td>80.945119</td>\n",
       "      <td>34.539159</td>\n",
       "      <td>11.243287</td>\n",
       "      <td>31.117215</td>\n",
       "      <td>...</td>\n",
       "      <td>320148.040333</td>\n",
       "      <td>60780.821333</td>\n",
       "      <td>99099.285</td>\n",
       "      <td>8.678571</td>\n",
       "      <td>27.002013</td>\n",
       "      <td>8.580553e+07</td>\n",
       "      <td>5988.0</td>\n",
       "      <td>68840806.0</td>\n",
       "      <td>3008.373292</td>\n",
       "      <td>106.0</td>\n",
       "    </tr>\n",
       "    <tr>\n",
       "      <th>3</th>\n",
       "      <td>1900-04</td>\n",
       "      <td>2.729975</td>\n",
       "      <td>9.306417</td>\n",
       "      <td>1.0</td>\n",
       "      <td>7.48391</td>\n",
       "      <td>10.803852</td>\n",
       "      <td>80.945119</td>\n",
       "      <td>34.539159</td>\n",
       "      <td>11.243287</td>\n",
       "      <td>31.117215</td>\n",
       "      <td>...</td>\n",
       "      <td>323755.944500</td>\n",
       "      <td>62963.383500</td>\n",
       "      <td>100317.530</td>\n",
       "      <td>8.685714</td>\n",
       "      <td>27.012441</td>\n",
       "      <td>8.584637e+07</td>\n",
       "      <td>6005.0</td>\n",
       "      <td>68840806.0</td>\n",
       "      <td>3009.008525</td>\n",
       "      <td>106.0</td>\n",
       "    </tr>\n",
       "    <tr>\n",
       "      <th>4</th>\n",
       "      <td>1900-05</td>\n",
       "      <td>2.744120</td>\n",
       "      <td>9.310951</td>\n",
       "      <td>1.0</td>\n",
       "      <td>7.48391</td>\n",
       "      <td>10.803852</td>\n",
       "      <td>80.945119</td>\n",
       "      <td>34.539159</td>\n",
       "      <td>11.243287</td>\n",
       "      <td>31.117215</td>\n",
       "      <td>...</td>\n",
       "      <td>327363.848667</td>\n",
       "      <td>65145.945667</td>\n",
       "      <td>101535.775</td>\n",
       "      <td>8.692857</td>\n",
       "      <td>27.022868</td>\n",
       "      <td>8.588721e+07</td>\n",
       "      <td>6022.0</td>\n",
       "      <td>68840806.0</td>\n",
       "      <td>3009.643758</td>\n",
       "      <td>106.0</td>\n",
       "    </tr>\n",
       "  </tbody>\n",
       "</table>\n",
       "<p>5 rows × 25 columns</p>\n",
       "</div>"
      ],
      "text/plain": [
       "        ID  fertilizer_price_index_all  fertilizer_price_index_nitrogen   \n",
       "0  1900-01                    2.687540                         9.292814  \\\n",
       "1  1900-02                    2.701685                         9.297349   \n",
       "2  1900-03                    2.715830                         9.301883   \n",
       "3  1900-04                    2.729975                         9.306417   \n",
       "4  1900-05                    2.744120                         9.310951   \n",
       "\n",
       "   fertilizer_price_index_phosphate  oil_price  meat_total(kg/capita)   \n",
       "0                               1.0    7.48391              10.803852  \\\n",
       "1                               1.0    7.48391              10.803852   \n",
       "2                               1.0    7.48391              10.803852   \n",
       "3                               1.0    7.48391              10.803852   \n",
       "4                               1.0    7.48391              10.803852   \n",
       "\n",
       "   meat_total_us(lb/capita)  fruits(kg/capita)  vegetable(kg/capita)   \n",
       "0                 80.945119          34.539159             11.243287  \\\n",
       "1                 80.945119          34.539159             11.243287   \n",
       "2                 80.945119          34.539159             11.243287   \n",
       "3                 80.945119          34.539159             11.243287   \n",
       "4                 80.945119          34.539159             11.243287   \n",
       "\n",
       "   coffee_us(gal/capita)  ...  population_world  population_asia_all   \n",
       "0              31.117215  ...     312932.232000         56415.697000  \\\n",
       "1              31.117215  ...     316540.136167         58598.259167   \n",
       "2              31.117215  ...     320148.040333         60780.821333   \n",
       "3              31.117215  ...     323755.944500         62963.383500   \n",
       "4              31.117215  ...     327363.848667         65145.945667   \n",
       "\n",
       "   population_asia_east&southeast    cpi_us    gini_us   \n",
       "0                       96662.795  8.664286  26.981158  \\\n",
       "1                       97881.040  8.671429  26.991586   \n",
       "2                       99099.285  8.678571  27.002013   \n",
       "3                      100317.530  8.685714  27.012441   \n",
       "4                      101535.775  8.692857  27.022868   \n",
       "\n",
       "   harvestedarea_rice_asia(ha)  yield_rice_asia(hg/ha)   \n",
       "0                 8.572384e+07                  5954.0  \\\n",
       "1                 8.576468e+07                  5971.0   \n",
       "2                 8.580553e+07                  5988.0   \n",
       "3                 8.584637e+07                  6005.0   \n",
       "4                 8.588721e+07                  6022.0   \n",
       "\n",
       "   production_rice_asia(ton)  food_consumption_us(kcal)  crop_price_us  \n",
       "0                 68840806.0                3007.102825          106.0  \n",
       "1                 68840806.0                3007.738058          106.0  \n",
       "2                 68840806.0                3008.373292          106.0  \n",
       "3                 68840806.0                3009.008525          106.0  \n",
       "4                 68840806.0                3009.643758          106.0  \n",
       "\n",
       "[5 rows x 25 columns]"
      ]
     },
     "execution_count": 4,
     "metadata": {},
     "output_type": "execute_result"
    }
   ],
   "source": [
    "data_df.head(5)"
   ]
  },
  {
   "cell_type": "markdown",
   "id": "71fd4224",
   "metadata": {},
   "source": [
    "### 미국 CPI 지수 추세 시각화"
   ]
  },
  {
   "cell_type": "code",
   "execution_count": 5,
   "id": "53c525ee",
   "metadata": {},
   "outputs": [
    {
     "data": {
      "image/png": "[encoded data removed]",
      "text/plain": [
       "<Figure size 640x480 with 1 Axes>"
      ]
     },
     "metadata": {},
     "output_type": "display_data"
    }
   ],
   "source": [
    "x = list(data_df['ID'])\n",
    "y = list(data_df['cpi_us'])\n",
    "\n",
    "# 그래프 생성\n",
    "plt.plot(x, y)\n",
    "\n",
    "# X축 레이블 및 기울기 설정\n",
    "plt.xticks(rotation=90)\n",
    "plt.xlabel('Year-Month')\n",
    "\n",
    "# Y축 레이블 설정\n",
    "plt.ylabel('US CPI')\n",
    "\n",
    "# 그래프 제목 설정\n",
    "plt.title('US CPI')\n",
    "\n",
    "# 그래프 출력\n",
    "plt.show()"
   ]
  },
  {
   "cell_type": "markdown",
   "id": "a097f0bf",
   "metadata": {},
   "source": [
    "### 미국 CPI 지수의 각 Feature 와의 상관관계 확인"
   ]
  },
  {
   "cell_type": "code",
   "execution_count": 12,
   "id": "f6244061",
   "metadata": {},
   "outputs": [
    {
     "data": {
      "text/plain": [
       "cpi_us                              1.000000\n",
       "population_us_asian                 0.983484\n",
       "production_rice_asia(ton)           0.966598\n",
       "yield_rice_asia(hg/ha)              0.965532\n",
       "population_world                    0.950643\n",
       "population_asia_all                 0.950520\n",
       "crop_price_us                       0.947617\n",
       "fertilizer_price_index_all          0.941409\n",
       "fertilizer_price_index_nitrogen     0.934237\n",
       "population_asia_east&southeast      0.924665\n",
       "meat_total(kg/capita)               0.919257\n",
       "fertilizer_price_index_phosphate    0.918930\n",
       "vegetable(kg/capita)                0.907113\n",
       "co2(ppm)                            0.894865\n",
       "population_us_total                 0.893624\n",
       "gini_us                             0.892887\n",
       "harvestedarea_rice_asia(ha)         0.892364\n",
       "food_consumption_us(kcal)           0.891115\n",
       "oil_price                           0.866901\n",
       "fruits(kg/capita)                   0.860058\n",
       "meat_total_us(lb/capita)            0.810999\n",
       "cocoa_us(lb/capita)                 0.796442\n",
       "tea_us(gal/capita)                  0.284097\n",
       "coffee_us(gal/capita)              -0.518077\n",
       "Name: cpi_us, dtype: float64"
      ]
     },
     "execution_count": 12,
     "metadata": {},
     "output_type": "execute_result"
    }
   ],
   "source": [
    "#data_df.loc['fertilizer_price_index_all':].corr()['cpi_us'].sort_values(ascending=False)\n",
    "temp_data=data_df.loc[:, ['fertilizer_price_index_all', 'fertilizer_price_index_nitrogen',\n",
    "       'fertilizer_price_index_phosphate', 'oil_price',\n",
    "       'meat_total(kg/capita)', 'meat_total_us(lb/capita)',\n",
    "       'fruits(kg/capita)', 'vegetable(kg/capita)', 'coffee_us(gal/capita)',\n",
    "       'tea_us(gal/capita)', 'cocoa_us(lb/capita)', 'co2(ppm)',\n",
    "       'population_us_total', 'population_us_asian', 'population_world',\n",
    "       'population_asia_all', 'population_asia_east&southeast', 'cpi_us',\n",
    "       'gini_us', 'harvestedarea_rice_asia(ha)', 'yield_rice_asia(hg/ha)',\n",
    "       'production_rice_asia(ton)', 'food_consumption_us(kcal)',\n",
    "       'crop_price_us']]\n",
    "temp_data.corr()['cpi_us'].sort_values(ascending=False)"
   ]
  },
  {
   "cell_type": "markdown",
   "id": "dd7306dc",
   "metadata": {},
   "source": [
    "### ARIMA 통계 모델(AutoRegressive Integrated Moving Average)을 사용한 시계열 예측\n",
    "\n",
    "- ARIMA : 시계열 데이터를 분석하고 예측하기 위해 사용, 자기회귀(Auto Regressive), 누적 차분(Integrated), 이동 평균(Moving Average) 세가지 요소를 결합한 모델로 통계적 모델.\n",
    "- CPI에 Outlier가 없고, 추세가 중요해보임, 장기적인 예측도 할 필요가 없이 앞으로 1~2년 데이터에 대한 예측만을 필요로 하므로 ARIMA를 사용해봄.\n",
    "\n",
    "---\n",
    "- p, q : 자기상관 함수, 부분자기상관 함수 - 통계적으로 유의한 시차에서 감소되는 패턴을 파악하여 p, q 값을 설정. 여기서는 p=2, q=0으로 설정하여 자기 상관함수만 값을 줬음. q 값은 이전 예측 오차들의 선형 조합 예측이므로 0을 줘 값을 넣지 않았음. p는 자기 회귀 값을 선형 조합으로 예측하는 값이기 때문에 2를 넣어서 가장 크게 반영 함.\n",
    "- d : 차분(Differencing) - 시계열 데이터를 정상 시계열로 변환하기 위한 차분(Differencing) 횟수를 의미. 시계열 데이터가 정상성을 가지지 않을 때, 차분을 통해 추세나 계절성 요소를 제거하고 정상성을 확보"
   ]
  },
  {
   "cell_type": "code",
   "execution_count": 6,
   "id": "f0458bee",
   "metadata": {},
   "outputs": [],
   "source": [
    "from statsmodels.tsa.arima.model import ARIMA"
   ]
  },
  {
   "cell_type": "code",
   "execution_count": 48,
   "id": "d8d8bf04",
   "metadata": {},
   "outputs": [
    {
     "name": "stderr",
     "output_type": "stream",
     "text": [
      "C:\\Users\\johnh\\AppData\\Local\\Programs\\Python\\Python310\\lib\\site-packages\\statsmodels\\tsa\\base\\tsa_model.py:473: ValueWarning: No frequency information was provided, so inferred frequency MS will be used.\n",
      "  self._init_dates(dates, freq)\n",
      "C:\\Users\\johnh\\AppData\\Local\\Programs\\Python\\Python310\\lib\\site-packages\\statsmodels\\tsa\\base\\tsa_model.py:473: ValueWarning: No frequency information was provided, so inferred frequency MS will be used.\n",
      "  self._init_dates(dates, freq)\n",
      "C:\\Users\\johnh\\AppData\\Local\\Programs\\Python\\Python310\\lib\\site-packages\\statsmodels\\tsa\\base\\tsa_model.py:473: ValueWarning: No frequency information was provided, so inferred frequency MS will be used.\n",
      "  self._init_dates(dates, freq)\n"
     ]
    },
    {
     "name": "stdout",
     "output_type": "stream",
     "text": [
      "2023-01-01    296.161967\n",
      "2023-02-01    295.760198\n",
      "2023-03-01    295.509185\n",
      "2023-04-01    295.352641\n",
      "2023-05-01    295.255038\n",
      "2023-06-01    295.194186\n",
      "2023-07-01    295.156247\n",
      "2023-08-01    295.132593\n",
      "2023-09-01    295.117846\n",
      "2023-10-01    295.108652\n",
      "2023-11-01    295.102920\n",
      "2023-12-01    295.099346\n",
      "Freq: MS, Name: predicted_mean, dtype: float64\n"
     ]
    },
    {
     "data": {
      "image/png": "[encoded data removed]",
      "text/plain": [
       "<Figure size 640x480 with 1 Axes>"
      ]
     },
     "metadata": {},
     "output_type": "display_data"
    }
   ],
   "source": [
    "# 데이터 불러오기\n",
    "data_arima = data_df.loc[:, ['ID', 'cpi_us']]\n",
    "\n",
    "data_arima['ID'] = pd.to_datetime(data_arima['ID'], format='%Y-%m') \n",
    "data_arima.set_index('ID', inplace=True)  # 날짜 열을 인덱스로 설정\n",
    "cpi_data = data_arima['cpi_us']\n",
    "\n",
    "p, d, q = 2, 1, 0\n",
    "# ARIMA 모델 학습\n",
    "model = ARIMA(cpi_data, order=(p, d, q))\n",
    "model_fit = model.fit()\n",
    "\n",
    "# 미래 예측\n",
    "future_periods = 12 # 미래의 몇 개월까지 예측할 것인지 설정\n",
    "forecast = model_fit.forecast(steps=future_periods)\n",
    "\n",
    "# 예측 결과 출력\n",
    "print(forecast)\n",
    "\n",
    "# 그래프로 시각화\n",
    "plt.plot(data_arima, label='Actual')\n",
    "plt.plot(forecast, label='Forecast')\n",
    "plt.xlabel('Year-Month')\n",
    "plt.ylabel('US CPI')\n",
    "plt.title('US CPI Forecast with ARIMA')\n",
    "plt.legend()\n",
    "plt.show()"
   ]
  },
  {
   "cell_type": "markdown",
   "id": "30c19e69",
   "metadata": {},
   "source": [
    "### LSTM 모델을 이용한 CPI 지수 예측\n",
    "\n",
    "- 연-월을 Input으로 넣고 CPI 지수를 target value로 설정\n",
    "- sequence length를 24로 설정하여 추세를 그리도록 하였음. 2년치의 데이터를 참고하여 다음을 예측하도록 한 것임. 짧은 개월로 학습했을 때는 단시간의 데이터에 대한 경향성을 따라갔으나 24개월로 늘리니 더 긴 경향성을 참고할 수 있게 됐음."
   ]
  },
  {
   "cell_type": "code",
   "execution_count": 1,
   "id": "10412138",
   "metadata": {},
   "outputs": [],
   "source": [
    "import torch\n",
    "import torch.nn as nn\n",
    "from sklearn.preprocessing import MinMaxScaler"
   ]
  },
  {
   "cell_type": "code",
   "execution_count": 5,
   "id": "28e9becf",
   "metadata": {},
   "outputs": [],
   "source": [
    "# 데이터 불러오기\n",
    "data_lstm = data_df.loc[:, ['ID', 'cpi_us']]\n",
    "\n",
    "data_lstm['ID'] = pd.to_datetime(data_lstm['ID'], format='%Y-%m') \n",
    "data_lstm.set_index('ID', inplace=True)  # 날짜 열을 인덱스로 설정\n",
    "cpi_data = data_lstm['cpi_us']"
   ]
  },
  {
   "cell_type": "code",
   "execution_count": 6,
   "id": "db3ea838",
   "metadata": {},
   "outputs": [],
   "source": [
    "scaler = MinMaxScaler()  # 데이터 스케일링을 위한 scaler 객체 생성\n",
    "scaled_data = scaler.fit_transform(cpi_data.values.reshape(-1, 1))  # 데이터 스케일링 적용"
   ]
  },
  {
   "cell_type": "code",
   "execution_count": 8,
   "id": "fecb5fe1",
   "metadata": {},
   "outputs": [],
   "source": [
    "# 시퀀스 데이터 생성\n",
    "def create_sequences(data, sequence_length):\n",
    "    X, y = [], []\n",
    "    for i in range(len(data) - sequence_length):\n",
    "        X.append(data[i:i+sequence_length])\n",
    "        y.append(data[i+sequence_length])\n",
    "    return torch.tensor(X).float(), torch.tensor(y).float()"
   ]
  },
  {
   "cell_type": "code",
   "execution_count": 29,
   "id": "1fc650bd",
   "metadata": {},
   "outputs": [],
   "source": [
    "# 전체 데이터셋을 학습시킴\n",
    "\n",
    "sequence_length = 24  # 시퀀스 길이 설정\n",
    "X_train, y_train = create_sequences(scaled_data, sequence_length)"
   ]
  },
  {
   "cell_type": "code",
   "execution_count": 30,
   "id": "6df8e9d9",
   "metadata": {},
   "outputs": [],
   "source": [
    "# LSTM 모델 구성\n",
    "class LSTMModel(nn.Module):\n",
    "    def __init__(self, input_size, hidden_size, output_size):\n",
    "        super(LSTMModel, self).__init__()\n",
    "        self.hidden_size = hidden_size\n",
    "        self.lstm = nn.LSTM(input_size, hidden_size, batch_first=True)\n",
    "        self.fc = nn.Linear(hidden_size, output_size)\n",
    "        \n",
    "    def forward(self, x):\n",
    "        output, _ = self.lstm(x)\n",
    "        output = output[:, -1, :]\n",
    "        output = self.fc(output)\n",
    "        return output"
   ]
  },
  {
   "cell_type": "code",
   "execution_count": 34,
   "id": "ce0e01af",
   "metadata": {},
   "outputs": [],
   "source": [
    "input_size = 1\n",
    "hidden_size = 64\n",
    "output_size = 1\n",
    "\n",
    "model = LSTMModel(input_size, hidden_size, output_size)\n",
    "\n",
    "# 모델 학습\n",
    "learning_rate = 0.001\n",
    "num_epochs = 100"
   ]
  },
  {
   "cell_type": "code",
   "execution_count": 35,
   "id": "91e74f71",
   "metadata": {},
   "outputs": [],
   "source": [
    "criterion = nn.MSELoss()\n",
    "optimizer = torch.optim.Adam(model.parameters(), lr=learning_rate)"
   ]
  },
  {
   "cell_type": "code",
   "execution_count": 36,
   "id": "a4640be1",
   "metadata": {},
   "outputs": [
    {
     "name": "stdout",
     "output_type": "stream",
     "text": [
      "Epoch [10/100], Loss: 0.115113\n",
      "Epoch [20/100], Loss: 0.066787\n",
      "Epoch [30/100], Loss: 0.051748\n",
      "Epoch [40/100], Loss: 0.023998\n",
      "Epoch [50/100], Loss: 0.004455\n",
      "Epoch [60/100], Loss: 0.005261\n",
      "Epoch [70/100], Loss: 0.002215\n",
      "Epoch [80/100], Loss: 0.001532\n",
      "Epoch [90/100], Loss: 0.000821\n",
      "Epoch [100/100], Loss: 0.000520\n"
     ]
    }
   ],
   "source": [
    "for epoch in range(num_epochs):\n",
    "    outputs = model(X_train)\n",
    "    loss = criterion(outputs, y_train)\n",
    "    \n",
    "    optimizer.zero_grad()\n",
    "    loss.backward()\n",
    "    optimizer.step()\n",
    "    \n",
    "    if (epoch+1) % 10 == 0:\n",
    "        print(f'Epoch [{epoch+1}/{num_epochs}], Loss: {loss.item():.6f}')"
   ]
  },
  {
   "cell_type": "code",
   "execution_count": 37,
   "id": "844e12e9",
   "metadata": {},
   "outputs": [
    {
     "name": "stdout",
     "output_type": "stream",
     "text": [
      "DatetimeIndex(['2023-01-01', '2023-02-01', '2023-03-01', '2023-04-01',\n",
      "               '2023-05-01', '2023-06-01', '2023-07-01', '2023-08-01',\n",
      "               '2023-09-01', '2023-10-01', '2023-11-01', '2023-12-01'],\n",
      "              dtype='datetime64[ns]', freq='MS')\n"
     ]
    }
   ],
   "source": [
    "# 테스트 데이터 생성 2023-01 부터 2023-12 까지.\n",
    "test_dates = pd.date_range(start='2023-01', end='2023-12', freq='MS')\n",
    "print(test_dates)"
   ]
  },
  {
   "cell_type": "code",
   "execution_count": 38,
   "id": "6308fa6f",
   "metadata": {},
   "outputs": [],
   "source": [
    "# 테스트 데이터 예측\n",
    "with torch.no_grad():\n",
    "    test_inputs = torch.tensor(scaled_data[-sequence_length:]).unsqueeze(0).float()\n",
    "    predicted = []\n",
    "    \n",
    "    for _ in range(len(test_dates)):\n",
    "        output = model(test_inputs)\n",
    "        predicted.append(output.item())\n",
    "        \n",
    "        test_inputs = torch.cat((test_inputs[:, 1:, :], output.unsqueeze(0)), dim=1)\n"
   ]
  },
  {
   "cell_type": "code",
   "execution_count": 39,
   "id": "f7c15ea8",
   "metadata": {},
   "outputs": [
    {
     "name": "stdout",
     "output_type": "stream",
     "text": [
      "2023-01: 282.73\n",
      "2023-02: 282.48\n",
      "2023-03: 282.18\n",
      "2023-04: 281.87\n",
      "2023-05: 281.56\n",
      "2023-06: 281.27\n",
      "2023-07: 280.99\n",
      "2023-08: 280.74\n",
      "2023-09: 280.50\n",
      "2023-10: 280.29\n",
      "2023-11: 280.08\n",
      "2023-12: 279.88\n"
     ]
    }
   ],
   "source": [
    "# 예측 결과 출력\n",
    "predicted = scaler.inverse_transform(np.array(predicted).reshape(-1, 1)).flatten()\n",
    "\n",
    "for date, prediction in zip(test_dates, predicted):\n",
    "    print(f'{date.strftime(\"%Y-%m\")}: {prediction:.2f}')"
   ]
  },
  {
   "cell_type": "code",
   "execution_count": 42,
   "id": "279e3f5d",
   "metadata": {},
   "outputs": [
    {
     "data": {
      "image/png": "[encoded data removed]",
      "text/plain": [
       "<Figure size 640x480 with 1 Axes>"
      ]
     },
     "metadata": {},
     "output_type": "display_data"
    }
   ],
   "source": [
    "# 학습 데이터와 예측 결과 시각화\n",
    "train_dates = data_lstm.index[:-sequence_length]\n",
    "\n",
    "plt.plot(train_dates, cpi_data[:-sequence_length], label='Train Data')\n",
    "plt.plot(test_dates, predicted, label='Predicted Data')\n",
    "plt.xlabel('Year-Month')\n",
    "plt.ylabel('US CPI')\n",
    "plt.title('US CPI Prediction LSTM')\n",
    "plt.legend()\n",
    "plt.xticks(rotation=45)\n",
    "plt.show()"
   ]
  },
  {
   "cell_type": "code",
   "execution_count": null,
   "id": "707f6336",
   "metadata": {},
   "outputs": [],
   "source": []
  }
 ],
 "metadata": {
  "kernelspec": {
   "display_name": "Python 3 (ipykernel)",
   "language": "python",
   "name": "python3"
  },
  "language_info": {
   "codemirror_mode": {
    "name": "ipython",
    "version": 3
   },
   "file_extension": ".py",
   "mimetype": "text/x-python",
   "name": "python",
   "nbconvert_exporter": "python",
   "pygments_lexer": "ipython3",
   "version": "3.10.11"
  }
 },
 "nbformat": 4,
 "nbformat_minor": 5
}
